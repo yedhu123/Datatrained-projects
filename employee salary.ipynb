{
 "cells": [
  {
   "cell_type": "code",
   "execution_count": 232,
   "id": "89f1ebbe",
   "metadata": {},
   "outputs": [],
   "source": [
    "import numpy as np\n",
    "import pandas as pd \n",
    "import seaborn as sns\n",
    "import matplotlib.pyplot as plt\n",
    "import sklearn\n",
    "from sklearn.linear_model import LinearRegression\n",
    "\n",
    "from sklearn.metrics import  mean_squared_error,mean_absolute_error\n",
    "from sklearn.model_selection  import train_test_split\n",
    "import warnings\n",
    "warnings.filterwarnings(\"ignore\")"
   ]
  },
  {
   "cell_type": "code",
   "execution_count": 233,
   "id": "64eeb6c0",
   "metadata": {},
   "outputs": [],
   "source": [
    "data = pd.read_csv(\"salary.csv\")"
   ]
  },
  {
   "cell_type": "code",
   "execution_count": 234,
   "id": "2e12041a",
   "metadata": {},
   "outputs": [
    {
     "data": {
      "text/html": [
       "<div>\n",
       "<style scoped>\n",
       "    .dataframe tbody tr th:only-of-type {\n",
       "        vertical-align: middle;\n",
       "    }\n",
       "\n",
       "    .dataframe tbody tr th {\n",
       "        vertical-align: top;\n",
       "    }\n",
       "\n",
       "    .dataframe thead th {\n",
       "        text-align: right;\n",
       "    }\n",
       "</style>\n",
       "<table border=\"1\" class=\"dataframe\">\n",
       "  <thead>\n",
       "    <tr style=\"text-align: right;\">\n",
       "      <th></th>\n",
       "      <th>rank</th>\n",
       "      <th>discipline</th>\n",
       "      <th>yrs.since.phd</th>\n",
       "      <th>yrs.service</th>\n",
       "      <th>sex</th>\n",
       "      <th>salary</th>\n",
       "    </tr>\n",
       "  </thead>\n",
       "  <tbody>\n",
       "    <tr>\n",
       "      <th>0</th>\n",
       "      <td>Prof</td>\n",
       "      <td>B</td>\n",
       "      <td>19</td>\n",
       "      <td>18</td>\n",
       "      <td>Male</td>\n",
       "      <td>139750</td>\n",
       "    </tr>\n",
       "    <tr>\n",
       "      <th>1</th>\n",
       "      <td>Prof</td>\n",
       "      <td>B</td>\n",
       "      <td>20</td>\n",
       "      <td>16</td>\n",
       "      <td>Male</td>\n",
       "      <td>173200</td>\n",
       "    </tr>\n",
       "    <tr>\n",
       "      <th>2</th>\n",
       "      <td>AsstProf</td>\n",
       "      <td>B</td>\n",
       "      <td>4</td>\n",
       "      <td>3</td>\n",
       "      <td>Male</td>\n",
       "      <td>79750</td>\n",
       "    </tr>\n",
       "    <tr>\n",
       "      <th>3</th>\n",
       "      <td>Prof</td>\n",
       "      <td>B</td>\n",
       "      <td>45</td>\n",
       "      <td>39</td>\n",
       "      <td>Male</td>\n",
       "      <td>115000</td>\n",
       "    </tr>\n",
       "    <tr>\n",
       "      <th>4</th>\n",
       "      <td>Prof</td>\n",
       "      <td>B</td>\n",
       "      <td>40</td>\n",
       "      <td>41</td>\n",
       "      <td>Male</td>\n",
       "      <td>141500</td>\n",
       "    </tr>\n",
       "    <tr>\n",
       "      <th>...</th>\n",
       "      <td>...</td>\n",
       "      <td>...</td>\n",
       "      <td>...</td>\n",
       "      <td>...</td>\n",
       "      <td>...</td>\n",
       "      <td>...</td>\n",
       "    </tr>\n",
       "    <tr>\n",
       "      <th>392</th>\n",
       "      <td>Prof</td>\n",
       "      <td>A</td>\n",
       "      <td>33</td>\n",
       "      <td>30</td>\n",
       "      <td>Male</td>\n",
       "      <td>103106</td>\n",
       "    </tr>\n",
       "    <tr>\n",
       "      <th>393</th>\n",
       "      <td>Prof</td>\n",
       "      <td>A</td>\n",
       "      <td>31</td>\n",
       "      <td>19</td>\n",
       "      <td>Male</td>\n",
       "      <td>150564</td>\n",
       "    </tr>\n",
       "    <tr>\n",
       "      <th>394</th>\n",
       "      <td>Prof</td>\n",
       "      <td>A</td>\n",
       "      <td>42</td>\n",
       "      <td>25</td>\n",
       "      <td>Male</td>\n",
       "      <td>101738</td>\n",
       "    </tr>\n",
       "    <tr>\n",
       "      <th>395</th>\n",
       "      <td>Prof</td>\n",
       "      <td>A</td>\n",
       "      <td>25</td>\n",
       "      <td>15</td>\n",
       "      <td>Male</td>\n",
       "      <td>95329</td>\n",
       "    </tr>\n",
       "    <tr>\n",
       "      <th>396</th>\n",
       "      <td>AsstProf</td>\n",
       "      <td>A</td>\n",
       "      <td>8</td>\n",
       "      <td>4</td>\n",
       "      <td>Male</td>\n",
       "      <td>81035</td>\n",
       "    </tr>\n",
       "  </tbody>\n",
       "</table>\n",
       "<p>397 rows × 6 columns</p>\n",
       "</div>"
      ],
      "text/plain": [
       "         rank discipline  yrs.since.phd  yrs.service   sex  salary\n",
       "0        Prof          B             19           18  Male  139750\n",
       "1        Prof          B             20           16  Male  173200\n",
       "2    AsstProf          B              4            3  Male   79750\n",
       "3        Prof          B             45           39  Male  115000\n",
       "4        Prof          B             40           41  Male  141500\n",
       "..        ...        ...            ...          ...   ...     ...\n",
       "392      Prof          A             33           30  Male  103106\n",
       "393      Prof          A             31           19  Male  150564\n",
       "394      Prof          A             42           25  Male  101738\n",
       "395      Prof          A             25           15  Male   95329\n",
       "396  AsstProf          A              8            4  Male   81035\n",
       "\n",
       "[397 rows x 6 columns]"
      ]
     },
     "execution_count": 234,
     "metadata": {},
     "output_type": "execute_result"
    }
   ],
   "source": [
    "data"
   ]
  },
  {
   "cell_type": "code",
   "execution_count": 235,
   "id": "f377a83f",
   "metadata": {},
   "outputs": [
    {
     "data": {
      "text/plain": [
       "rank               Prof\n",
       "discipline            B\n",
       "yrs.since.phd        56\n",
       "yrs.service          60\n",
       "sex                Male\n",
       "salary           231545\n",
       "dtype: object"
      ]
     },
     "execution_count": 235,
     "metadata": {},
     "output_type": "execute_result"
    }
   ],
   "source": [
    "data.max()"
   ]
  },
  {
   "cell_type": "code",
   "execution_count": 236,
   "id": "b5a17bec",
   "metadata": {},
   "outputs": [
    {
     "data": {
      "text/plain": [
       "Index(['rank', 'discipline', 'yrs.since.phd', 'yrs.service', 'sex', 'salary'], dtype='object')"
      ]
     },
     "execution_count": 236,
     "metadata": {},
     "output_type": "execute_result"
    }
   ],
   "source": [
    "data.columns"
   ]
  },
  {
   "cell_type": "code",
   "execution_count": 237,
   "id": "919fed5d",
   "metadata": {},
   "outputs": [
    {
     "data": {
      "text/plain": [
       "rank             0\n",
       "discipline       0\n",
       "yrs.since.phd    0\n",
       "yrs.service      0\n",
       "sex              0\n",
       "salary           0\n",
       "dtype: int64"
      ]
     },
     "execution_count": 237,
     "metadata": {},
     "output_type": "execute_result"
    }
   ],
   "source": [
    "data.isnull().sum()"
   ]
  },
  {
   "cell_type": "code",
   "execution_count": 238,
   "id": "f0d4100e",
   "metadata": {},
   "outputs": [
    {
     "data": {
      "text/plain": [
       "rank             object\n",
       "discipline       object\n",
       "yrs.since.phd     int64\n",
       "yrs.service       int64\n",
       "sex              object\n",
       "salary            int64\n",
       "dtype: object"
      ]
     },
     "execution_count": 238,
     "metadata": {},
     "output_type": "execute_result"
    }
   ],
   "source": [
    "data.dtypes"
   ]
  },
  {
   "cell_type": "code",
   "execution_count": 239,
   "id": "f795a6f7",
   "metadata": {},
   "outputs": [
    {
     "data": {
      "text/plain": [
       "<AxesSubplot:xlabel='rank', ylabel='salary'>"
      ]
     },
     "execution_count": 239,
     "metadata": {},
     "output_type": "execute_result"
    },
    {
     "data": {
      "image/png": "[encoded data removed]",
      "text/plain": [
       "<Figure size 720x360 with 1 Axes>"
      ]
     },
     "metadata": {
      "needs_background": "light"
     },
     "output_type": "display_data"
    }
   ],
   "source": [
    "plt.figure(figsize = (10,5))\n",
    "sns.scatterplot(x = \"rank\" , y = \"salary\" , data = data)"
   ]
  },
  {
   "cell_type": "code",
   "execution_count": 240,
   "id": "416bc267",
   "metadata": {},
   "outputs": [
    {
     "data": {
      "text/plain": [
       "<AxesSubplot:xlabel='discipline', ylabel='salary'>"
      ]
     },
     "execution_count": 240,
     "metadata": {},
     "output_type": "execute_result"
    },
    {
     "data": {
      "image/png": "[encoded data removed]",
      "text/plain": [
       "<Figure size 432x288 with 1 Axes>"
      ]
     },
     "metadata": {
      "needs_background": "light"
     },
     "output_type": "display_data"
    }
   ],
   "source": [
    "sns.scatterplot(x = 'discipline', y = \"salary\" , data = data)"
   ]
  },
  {
   "cell_type": "code",
   "execution_count": 241,
   "id": "17465e87",
   "metadata": {},
   "outputs": [
    {
     "data": {
      "text/plain": [
       "<AxesSubplot:xlabel='yrs.since.phd', ylabel='salary'>"
      ]
     },
     "execution_count": 241,
     "metadata": {},
     "output_type": "execute_result"
    },
    {
     "data": {
      "image/png": "[encoded data removed]",
      "text/plain": [
       "<Figure size 432x288 with 1 Axes>"
      ]
     },
     "metadata": {
      "needs_background": "light"
     },
     "output_type": "display_data"
    }
   ],
   "source": [
    "sns.scatterplot(x = 'yrs.since.phd', y = \"salary\" , data = data)"
   ]
  },
  {
   "cell_type": "code",
   "execution_count": 242,
   "id": "3eca9215",
   "metadata": {},
   "outputs": [
    {
     "data": {
      "text/plain": [
       "<AxesSubplot:xlabel='yrs.service', ylabel='salary'>"
      ]
     },
     "execution_count": 242,
     "metadata": {},
     "output_type": "execute_result"
    },
    {
     "data": {
      "image/png": "[encoded data removed]",
      "text/plain": [
       "<Figure size 432x288 with 1 Axes>"
      ]
     },
     "metadata": {
      "needs_background": "light"
     },
     "output_type": "display_data"
    }
   ],
   "source": [
    "sns.scatterplot(x = 'yrs.service', y = \"salary\" , data = data)"
   ]
  },
  {
   "cell_type": "code",
   "execution_count": 243,
   "id": "ff8be8a4",
   "metadata": {},
   "outputs": [
    {
     "data": {
      "text/plain": [
       "<AxesSubplot:xlabel='sex', ylabel='salary'>"
      ]
     },
     "execution_count": 243,
     "metadata": {},
     "output_type": "execute_result"
    },
    {
     "data": {
      "image/png": "[encoded data removed]",
      "text/plain": [
       "<Figure size 432x288 with 1 Axes>"
      ]
     },
     "metadata": {
      "needs_background": "light"
     },
     "output_type": "display_data"
    }
   ],
   "source": [
    "sns.scatterplot(x = 'sex', y = \"salary\" , data = data)"
   ]
  },
  {
   "cell_type": "code",
   "execution_count": 244,
   "id": "c21f06c8",
   "metadata": {},
   "outputs": [],
   "source": [
    "cor = data.corr()"
   ]
  },
  {
   "cell_type": "code",
   "execution_count": 245,
   "id": "0c376d85",
   "metadata": {},
   "outputs": [
    {
     "data": {
      "text/html": [
       "<div>\n",
       "<style scoped>\n",
       "    .dataframe tbody tr th:only-of-type {\n",
       "        vertical-align: middle;\n",
       "    }\n",
       "\n",
       "    .dataframe tbody tr th {\n",
       "        vertical-align: top;\n",
       "    }\n",
       "\n",
       "    .dataframe thead th {\n",
       "        text-align: right;\n",
       "    }\n",
       "</style>\n",
       "<table border=\"1\" class=\"dataframe\">\n",
       "  <thead>\n",
       "    <tr style=\"text-align: right;\">\n",
       "      <th></th>\n",
       "      <th>yrs.since.phd</th>\n",
       "      <th>yrs.service</th>\n",
       "      <th>salary</th>\n",
       "    </tr>\n",
       "  </thead>\n",
       "  <tbody>\n",
       "    <tr>\n",
       "      <th>yrs.since.phd</th>\n",
       "      <td>1.000000</td>\n",
       "      <td>0.909649</td>\n",
       "      <td>0.419231</td>\n",
       "    </tr>\n",
       "    <tr>\n",
       "      <th>yrs.service</th>\n",
       "      <td>0.909649</td>\n",
       "      <td>1.000000</td>\n",
       "      <td>0.334745</td>\n",
       "    </tr>\n",
       "    <tr>\n",
       "      <th>salary</th>\n",
       "      <td>0.419231</td>\n",
       "      <td>0.334745</td>\n",
       "      <td>1.000000</td>\n",
       "    </tr>\n",
       "  </tbody>\n",
       "</table>\n",
       "</div>"
      ],
      "text/plain": [
       "               yrs.since.phd  yrs.service    salary\n",
       "yrs.since.phd       1.000000     0.909649  0.419231\n",
       "yrs.service         0.909649     1.000000  0.334745\n",
       "salary              0.419231     0.334745  1.000000"
      ]
     },
     "execution_count": 245,
     "metadata": {},
     "output_type": "execute_result"
    }
   ],
   "source": [
    "cor"
   ]
  },
  {
   "cell_type": "code",
   "execution_count": 246,
   "id": "782417ed",
   "metadata": {},
   "outputs": [
    {
     "data": {
      "text/plain": [
       "yrs.service      0.334745\n",
       "yrs.since.phd    0.419231\n",
       "salary           1.000000\n",
       "Name: salary, dtype: float64"
      ]
     },
     "execution_count": 246,
     "metadata": {},
     "output_type": "execute_result"
    }
   ],
   "source": [
    "cor[\"salary\"].sort_values()"
   ]
  },
  {
   "cell_type": "code",
   "execution_count": 247,
   "id": "01b8eb62",
   "metadata": {},
   "outputs": [
    {
     "data": {
      "text/plain": [
       "<AxesSubplot:>"
      ]
     },
     "execution_count": 247,
     "metadata": {},
     "output_type": "execute_result"
    },
    {
     "data": {
      "image/png": "[encoded data removed]",
      "text/plain": [
       "<Figure size 1080x648 with 2 Axes>"
      ]
     },
     "metadata": {
      "needs_background": "light"
     },
     "output_type": "display_data"
    }
   ],
   "source": [
    "plt.figure(figsize =  (15,9))\n",
    "sns.heatmap(cor,annot = True,linewidth = 0.5 ,linecolor = \"white\", fmt ='0.2')"
   ]
  },
  {
   "cell_type": "code",
   "execution_count": 248,
   "id": "b8ce38d1",
   "metadata": {},
   "outputs": [],
   "source": [
    "des = data.describe()"
   ]
  },
  {
   "cell_type": "code",
   "execution_count": 249,
   "id": "1c3983f3",
   "metadata": {},
   "outputs": [
    {
     "data": {
      "text/html": [
       "<div>\n",
       "<style scoped>\n",
       "    .dataframe tbody tr th:only-of-type {\n",
       "        vertical-align: middle;\n",
       "    }\n",
       "\n",
       "    .dataframe tbody tr th {\n",
       "        vertical-align: top;\n",
       "    }\n",
       "\n",
       "    .dataframe thead th {\n",
       "        text-align: right;\n",
       "    }\n",
       "</style>\n",
       "<table border=\"1\" class=\"dataframe\">\n",
       "  <thead>\n",
       "    <tr style=\"text-align: right;\">\n",
       "      <th></th>\n",
       "      <th>yrs.since.phd</th>\n",
       "      <th>yrs.service</th>\n",
       "      <th>salary</th>\n",
       "    </tr>\n",
       "  </thead>\n",
       "  <tbody>\n",
       "    <tr>\n",
       "      <th>count</th>\n",
       "      <td>397.000000</td>\n",
       "      <td>397.000000</td>\n",
       "      <td>397.000000</td>\n",
       "    </tr>\n",
       "    <tr>\n",
       "      <th>mean</th>\n",
       "      <td>22.314861</td>\n",
       "      <td>17.614610</td>\n",
       "      <td>113706.458438</td>\n",
       "    </tr>\n",
       "    <tr>\n",
       "      <th>std</th>\n",
       "      <td>12.887003</td>\n",
       "      <td>13.006024</td>\n",
       "      <td>30289.038695</td>\n",
       "    </tr>\n",
       "    <tr>\n",
       "      <th>min</th>\n",
       "      <td>1.000000</td>\n",
       "      <td>0.000000</td>\n",
       "      <td>57800.000000</td>\n",
       "    </tr>\n",
       "    <tr>\n",
       "      <th>25%</th>\n",
       "      <td>12.000000</td>\n",
       "      <td>7.000000</td>\n",
       "      <td>91000.000000</td>\n",
       "    </tr>\n",
       "    <tr>\n",
       "      <th>50%</th>\n",
       "      <td>21.000000</td>\n",
       "      <td>16.000000</td>\n",
       "      <td>107300.000000</td>\n",
       "    </tr>\n",
       "    <tr>\n",
       "      <th>75%</th>\n",
       "      <td>32.000000</td>\n",
       "      <td>27.000000</td>\n",
       "      <td>134185.000000</td>\n",
       "    </tr>\n",
       "    <tr>\n",
       "      <th>max</th>\n",
       "      <td>56.000000</td>\n",
       "      <td>60.000000</td>\n",
       "      <td>231545.000000</td>\n",
       "    </tr>\n",
       "  </tbody>\n",
       "</table>\n",
       "</div>"
      ],
      "text/plain": [
       "       yrs.since.phd  yrs.service         salary\n",
       "count     397.000000   397.000000     397.000000\n",
       "mean       22.314861    17.614610  113706.458438\n",
       "std        12.887003    13.006024   30289.038695\n",
       "min         1.000000     0.000000   57800.000000\n",
       "25%        12.000000     7.000000   91000.000000\n",
       "50%        21.000000    16.000000  107300.000000\n",
       "75%        32.000000    27.000000  134185.000000\n",
       "max        56.000000    60.000000  231545.000000"
      ]
     },
     "execution_count": 249,
     "metadata": {},
     "output_type": "execute_result"
    }
   ],
   "source": [
    "des"
   ]
  },
  {
   "cell_type": "code",
   "execution_count": 250,
   "id": "5b19296f",
   "metadata": {},
   "outputs": [
    {
     "name": "stdout",
     "output_type": "stream",
     "text": [
      "<class 'pandas.core.frame.DataFrame'>\n",
      "RangeIndex: 397 entries, 0 to 396\n",
      "Data columns (total 6 columns):\n",
      " #   Column         Non-Null Count  Dtype \n",
      "---  ------         --------------  ----- \n",
      " 0   rank           397 non-null    object\n",
      " 1   discipline     397 non-null    object\n",
      " 2   yrs.since.phd  397 non-null    int64 \n",
      " 3   yrs.service    397 non-null    int64 \n",
      " 4   sex            397 non-null    object\n",
      " 5   salary         397 non-null    int64 \n",
      "dtypes: int64(3), object(3)\n",
      "memory usage: 18.7+ KB\n"
     ]
    }
   ],
   "source": [
    "data.info()"
   ]
  },
  {
   "cell_type": "code",
   "execution_count": 251,
   "id": "286288ea",
   "metadata": {},
   "outputs": [],
   "source": [
    "data.drop([\"rank\",\"discipline\",\"sex\"], axis = 1 , inplace = True)"
   ]
  },
  {
   "cell_type": "code",
   "execution_count": 252,
   "id": "0ef572ac",
   "metadata": {},
   "outputs": [
    {
     "data": {
      "text/html": [
       "<div>\n",
       "<style scoped>\n",
       "    .dataframe tbody tr th:only-of-type {\n",
       "        vertical-align: middle;\n",
       "    }\n",
       "\n",
       "    .dataframe tbody tr th {\n",
       "        vertical-align: top;\n",
       "    }\n",
       "\n",
       "    .dataframe thead th {\n",
       "        text-align: right;\n",
       "    }\n",
       "</style>\n",
       "<table border=\"1\" class=\"dataframe\">\n",
       "  <thead>\n",
       "    <tr style=\"text-align: right;\">\n",
       "      <th></th>\n",
       "      <th>yrs.since.phd</th>\n",
       "      <th>yrs.service</th>\n",
       "      <th>salary</th>\n",
       "    </tr>\n",
       "  </thead>\n",
       "  <tbody>\n",
       "    <tr>\n",
       "      <th>0</th>\n",
       "      <td>19</td>\n",
       "      <td>18</td>\n",
       "      <td>139750</td>\n",
       "    </tr>\n",
       "    <tr>\n",
       "      <th>1</th>\n",
       "      <td>20</td>\n",
       "      <td>16</td>\n",
       "      <td>173200</td>\n",
       "    </tr>\n",
       "    <tr>\n",
       "      <th>2</th>\n",
       "      <td>4</td>\n",
       "      <td>3</td>\n",
       "      <td>79750</td>\n",
       "    </tr>\n",
       "    <tr>\n",
       "      <th>3</th>\n",
       "      <td>45</td>\n",
       "      <td>39</td>\n",
       "      <td>115000</td>\n",
       "    </tr>\n",
       "    <tr>\n",
       "      <th>4</th>\n",
       "      <td>40</td>\n",
       "      <td>41</td>\n",
       "      <td>141500</td>\n",
       "    </tr>\n",
       "    <tr>\n",
       "      <th>...</th>\n",
       "      <td>...</td>\n",
       "      <td>...</td>\n",
       "      <td>...</td>\n",
       "    </tr>\n",
       "    <tr>\n",
       "      <th>392</th>\n",
       "      <td>33</td>\n",
       "      <td>30</td>\n",
       "      <td>103106</td>\n",
       "    </tr>\n",
       "    <tr>\n",
       "      <th>393</th>\n",
       "      <td>31</td>\n",
       "      <td>19</td>\n",
       "      <td>150564</td>\n",
       "    </tr>\n",
       "    <tr>\n",
       "      <th>394</th>\n",
       "      <td>42</td>\n",
       "      <td>25</td>\n",
       "      <td>101738</td>\n",
       "    </tr>\n",
       "    <tr>\n",
       "      <th>395</th>\n",
       "      <td>25</td>\n",
       "      <td>15</td>\n",
       "      <td>95329</td>\n",
       "    </tr>\n",
       "    <tr>\n",
       "      <th>396</th>\n",
       "      <td>8</td>\n",
       "      <td>4</td>\n",
       "      <td>81035</td>\n",
       "    </tr>\n",
       "  </tbody>\n",
       "</table>\n",
       "<p>397 rows × 3 columns</p>\n",
       "</div>"
      ],
      "text/plain": [
       "     yrs.since.phd  yrs.service  salary\n",
       "0               19           18  139750\n",
       "1               20           16  173200\n",
       "2                4            3   79750\n",
       "3               45           39  115000\n",
       "4               40           41  141500\n",
       "..             ...          ...     ...\n",
       "392             33           30  103106\n",
       "393             31           19  150564\n",
       "394             42           25  101738\n",
       "395             25           15   95329\n",
       "396              8            4   81035\n",
       "\n",
       "[397 rows x 3 columns]"
      ]
     },
     "execution_count": 252,
     "metadata": {},
     "output_type": "execute_result"
    }
   ],
   "source": [
    "data"
   ]
  },
  {
   "cell_type": "code",
   "execution_count": 253,
   "id": "9ce35b99",
   "metadata": {},
   "outputs": [
    {
     "data": {
      "image/png": "[encoded data removed]",
      "text/plain": [
       "<Figure size 1728x60480 with 3 Axes>"
      ]
     },
     "metadata": {
      "needs_background": "light"
     },
     "output_type": "display_data"
    }
   ],
   "source": [
    "column = data.columns.values\n",
    "ncol = 12\n",
    "nrows = 158\n",
    "plt.figure(figsize = (2*ncol,70*ncol))\n",
    "for i in range ( 0 ,len(column)):\n",
    "    plt.subplot(nrows,ncol,i+1)\n",
    "    sns.boxplot(data[column[i]],color =\"green\",orient = \"h\")    \n",
    "    plt.tight_layout()"
   ]
  },
  {
   "cell_type": "code",
   "execution_count": 254,
   "id": "a55a10c2",
   "metadata": {},
   "outputs": [
    {
     "data": {
      "text/plain": [
       "yrs.since.phd    0.300880\n",
       "yrs.service      0.650569\n",
       "salary           0.714568\n",
       "dtype: float64"
      ]
     },
     "execution_count": 254,
     "metadata": {},
     "output_type": "execute_result"
    }
   ],
   "source": [
    "data.skew()"
   ]
  },
  {
   "cell_type": "code",
   "execution_count": 255,
   "id": "d2311825",
   "metadata": {},
   "outputs": [
    {
     "data": {
      "text/plain": [
       "<AxesSubplot:xlabel='yrs.since.phd', ylabel='Density'>"
      ]
     },
     "execution_count": 255,
     "metadata": {},
     "output_type": "execute_result"
    },
    {
     "data": {
      "image/png": "[encoded data removed]",
      "text/plain": [
       "<Figure size 432x288 with 1 Axes>"
      ]
     },
     "metadata": {
      "needs_background": "light"
     },
     "output_type": "display_data"
    }
   ],
   "source": [
    "sns.distplot (data[\"yrs.since.phd\"])"
   ]
  },
  {
   "cell_type": "code",
   "execution_count": 256,
   "id": "626ed496",
   "metadata": {},
   "outputs": [
    {
     "data": {
      "text/plain": [
       "<AxesSubplot:xlabel='yrs.service', ylabel='Density'>"
      ]
     },
     "execution_count": 256,
     "metadata": {},
     "output_type": "execute_result"
    },
    {
     "data": {
      "image/png": "[encoded data removed]",
      "text/plain": [
       "<Figure size 432x288 with 1 Axes>"
      ]
     },
     "metadata": {
      "needs_background": "light"
     },
     "output_type": "display_data"
    }
   ],
   "source": [
    "sns.distplot (data[\"yrs.service\"])"
   ]
  },
  {
   "cell_type": "code",
   "execution_count": 257,
   "id": "17608eb0",
   "metadata": {},
   "outputs": [
    {
     "data": {
      "text/plain": [
       "<AxesSubplot:xlabel='salary', ylabel='Density'>"
      ]
     },
     "execution_count": 257,
     "metadata": {},
     "output_type": "execute_result"
    },
    {
     "data": {
      "image/png": "[encoded data removed]",
      "text/plain": [
       "<Figure size 432x288 with 1 Axes>"
      ]
     },
     "metadata": {
      "needs_background": "light"
     },
     "output_type": "display_data"
    }
   ],
   "source": [
    "sns.distplot (data[\"salary\"])"
   ]
  },
  {
   "cell_type": "code",
   "execution_count": 258,
   "id": "4467d344",
   "metadata": {},
   "outputs": [
    {
     "data": {
      "text/plain": [
       "yrs.since.phd    0.419231\n",
       "yrs.service      0.334745\n",
       "salary           1.000000\n",
       "Name: salary, dtype: float64"
      ]
     },
     "execution_count": 258,
     "metadata": {},
     "output_type": "execute_result"
    }
   ],
   "source": [
    "data.corr()[\"salary\"]"
   ]
  },
  {
   "cell_type": "code",
   "execution_count": 259,
   "id": "07cc8342",
   "metadata": {},
   "outputs": [],
   "source": [
    "from scipy.stats import zscore"
   ]
  },
  {
   "cell_type": "code",
   "execution_count": 260,
   "id": "6127afe7",
   "metadata": {},
   "outputs": [],
   "source": [
    "import numpy as np\n"
   ]
  },
  {
   "cell_type": "code",
   "execution_count": 261,
   "id": "ccfeb903",
   "metadata": {},
   "outputs": [],
   "source": [
    "z = np.abs(zscore(data))"
   ]
  },
  {
   "cell_type": "code",
   "execution_count": 262,
   "id": "a00cfa20",
   "metadata": {},
   "outputs": [
    {
     "data": {
      "text/plain": [
       "(397, 3)"
      ]
     },
     "execution_count": 262,
     "metadata": {},
     "output_type": "execute_result"
    }
   ],
   "source": [
    "z.shape"
   ]
  },
  {
   "cell_type": "code",
   "execution_count": 263,
   "id": "950f2ff4",
   "metadata": {},
   "outputs": [
    {
     "name": "stdout",
     "output_type": "stream",
     "text": [
      "(array([  6,   7,  43,  71,  77, 125, 125, 131, 131, 161, 169, 190, 194,\n",
      "       198, 249, 261, 268, 271, 276, 276, 279, 282, 282, 285, 285, 290,\n",
      "       292, 298, 304, 317, 330, 330, 330, 350, 350, 350, 356, 364, 383,\n",
      "       389], dtype=int64), array([2, 1, 2, 1, 2, 0, 1, 0, 1, 2, 2, 2, 1, 2, 2, 1, 1, 2, 0, 1, 1, 0,\n",
      "       1, 0, 1, 2, 2, 0, 1, 1, 0, 1, 2, 0, 1, 2, 0, 2, 1, 2], dtype=int64))\n"
     ]
    }
   ],
   "source": [
    "threshold = 2\n",
    "print(np.where(z>2))"
   ]
  },
  {
   "cell_type": "code",
   "execution_count": 264,
   "id": "5f2fab34",
   "metadata": {},
   "outputs": [
    {
     "data": {
      "text/plain": [
       "yrs.since.phd    1.218664\n",
       "yrs.service      1.569358\n",
       "salary           3.895377\n",
       "Name: 43, dtype: float64"
      ]
     },
     "execution_count": 264,
     "metadata": {},
     "output_type": "execute_result"
    }
   ],
   "source": [
    "z.iloc[43]"
   ]
  },
  {
   "cell_type": "code",
   "execution_count": 265,
   "id": "01f069a4",
   "metadata": {},
   "outputs": [
    {
     "name": "stdout",
     "output_type": "stream",
     "text": [
      "new data shape :  (366, 3)\n"
     ]
    }
   ],
   "source": [
    "df = data[(z<2).all(axis = 1)]\n",
    "print(\"new data shape : \", df.shape)\n"
   ]
  },
  {
   "cell_type": "code",
   "execution_count": 272,
   "id": "13180f0f",
   "metadata": {},
   "outputs": [],
   "source": [
    "d = pd.DataFrame(df)"
   ]
  },
  {
   "cell_type": "code",
   "execution_count": 273,
   "id": "3ce5af59",
   "metadata": {},
   "outputs": [
    {
     "data": {
      "text/plain": [
       "0   -0.148384\n",
       "1   -0.152336\n",
       "2   -0.002971\n",
       "dtype: float64"
      ]
     },
     "execution_count": 273,
     "metadata": {},
     "output_type": "execute_result"
    }
   ],
   "source": [
    "d.skew()"
   ]
  },
  {
   "cell_type": "code",
   "execution_count": 274,
   "id": "7d692cf2",
   "metadata": {},
   "outputs": [
    {
     "data": {
      "text/html": [
       "<div>\n",
       "<style scoped>\n",
       "    .dataframe tbody tr th:only-of-type {\n",
       "        vertical-align: middle;\n",
       "    }\n",
       "\n",
       "    .dataframe tbody tr th {\n",
       "        vertical-align: top;\n",
       "    }\n",
       "\n",
       "    .dataframe thead th {\n",
       "        text-align: right;\n",
       "    }\n",
       "</style>\n",
       "<table border=\"1\" class=\"dataframe\">\n",
       "  <thead>\n",
       "    <tr style=\"text-align: right;\">\n",
       "      <th></th>\n",
       "      <th>0</th>\n",
       "      <th>1</th>\n",
       "      <th>2</th>\n",
       "    </tr>\n",
       "  </thead>\n",
       "  <tbody>\n",
       "    <tr>\n",
       "      <th>0</th>\n",
       "      <td>-0.022477</td>\n",
       "      <td>0.354072</td>\n",
       "      <td>1.079039</td>\n",
       "    </tr>\n",
       "    <tr>\n",
       "      <th>1</th>\n",
       "      <td>0.060801</td>\n",
       "      <td>0.197605</td>\n",
       "      <td>1.998037</td>\n",
       "    </tr>\n",
       "    <tr>\n",
       "      <th>2</th>\n",
       "      <td>-1.593221</td>\n",
       "      <td>-1.254076</td>\n",
       "      <td>-1.281782</td>\n",
       "    </tr>\n",
       "    <tr>\n",
       "      <th>3</th>\n",
       "      <td>1.804731</td>\n",
       "      <td>1.633482</td>\n",
       "      <td>0.251930</td>\n",
       "    </tr>\n",
       "    <tr>\n",
       "      <th>4</th>\n",
       "      <td>1.493538</td>\n",
       "      <td>1.733516</td>\n",
       "      <td>1.132091</td>\n",
       "    </tr>\n",
       "    <tr>\n",
       "      <th>...</th>\n",
       "      <td>...</td>\n",
       "      <td>...</td>\n",
       "      <td>...</td>\n",
       "    </tr>\n",
       "    <tr>\n",
       "      <th>361</th>\n",
       "      <td>1.031859</td>\n",
       "      <td>1.145648</td>\n",
       "      <td>-0.208165</td>\n",
       "    </tr>\n",
       "    <tr>\n",
       "      <th>362</th>\n",
       "      <td>0.893351</td>\n",
       "      <td>0.428953</td>\n",
       "      <td>1.397224</td>\n",
       "    </tr>\n",
       "    <tr>\n",
       "      <th>363</th>\n",
       "      <td>1.619688</td>\n",
       "      <td>0.840663</td>\n",
       "      <td>-0.264300</td>\n",
       "    </tr>\n",
       "    <tr>\n",
       "      <th>364</th>\n",
       "      <td>0.456114</td>\n",
       "      <td>0.115612</td>\n",
       "      <td>-0.537274</td>\n",
       "    </tr>\n",
       "    <tr>\n",
       "      <th>365</th>\n",
       "      <td>-1.084339</td>\n",
       "      <td>-1.087785</td>\n",
       "      <td>-1.215332</td>\n",
       "    </tr>\n",
       "  </tbody>\n",
       "</table>\n",
       "<p>366 rows × 3 columns</p>\n",
       "</div>"
      ],
      "text/plain": [
       "            0         1         2\n",
       "0   -0.022477  0.354072  1.079039\n",
       "1    0.060801  0.197605  1.998037\n",
       "2   -1.593221 -1.254076 -1.281782\n",
       "3    1.804731  1.633482  0.251930\n",
       "4    1.493538  1.733516  1.132091\n",
       "..        ...       ...       ...\n",
       "361  1.031859  1.145648 -0.208165\n",
       "362  0.893351  0.428953  1.397224\n",
       "363  1.619688  0.840663 -0.264300\n",
       "364  0.456114  0.115612 -0.537274\n",
       "365 -1.084339 -1.087785 -1.215332\n",
       "\n",
       "[366 rows x 3 columns]"
      ]
     },
     "execution_count": 274,
     "metadata": {},
     "output_type": "execute_result"
    }
   ],
   "source": [
    "d"
   ]
  },
  {
   "cell_type": "code",
   "execution_count": 275,
   "id": "bb45d971",
   "metadata": {},
   "outputs": [],
   "source": [
    "x = d.iloc[:,:-1]"
   ]
  },
  {
   "cell_type": "code",
   "execution_count": 276,
   "id": "4d06b955",
   "metadata": {},
   "outputs": [
    {
     "data": {
      "text/html": [
       "<div>\n",
       "<style scoped>\n",
       "    .dataframe tbody tr th:only-of-type {\n",
       "        vertical-align: middle;\n",
       "    }\n",
       "\n",
       "    .dataframe tbody tr th {\n",
       "        vertical-align: top;\n",
       "    }\n",
       "\n",
       "    .dataframe thead th {\n",
       "        text-align: right;\n",
       "    }\n",
       "</style>\n",
       "<table border=\"1\" class=\"dataframe\">\n",
       "  <thead>\n",
       "    <tr style=\"text-align: right;\">\n",
       "      <th></th>\n",
       "      <th>0</th>\n",
       "      <th>1</th>\n",
       "    </tr>\n",
       "  </thead>\n",
       "  <tbody>\n",
       "    <tr>\n",
       "      <th>0</th>\n",
       "      <td>-0.022477</td>\n",
       "      <td>0.354072</td>\n",
       "    </tr>\n",
       "    <tr>\n",
       "      <th>1</th>\n",
       "      <td>0.060801</td>\n",
       "      <td>0.197605</td>\n",
       "    </tr>\n",
       "    <tr>\n",
       "      <th>2</th>\n",
       "      <td>-1.593221</td>\n",
       "      <td>-1.254076</td>\n",
       "    </tr>\n",
       "    <tr>\n",
       "      <th>3</th>\n",
       "      <td>1.804731</td>\n",
       "      <td>1.633482</td>\n",
       "    </tr>\n",
       "    <tr>\n",
       "      <th>4</th>\n",
       "      <td>1.493538</td>\n",
       "      <td>1.733516</td>\n",
       "    </tr>\n",
       "    <tr>\n",
       "      <th>...</th>\n",
       "      <td>...</td>\n",
       "      <td>...</td>\n",
       "    </tr>\n",
       "    <tr>\n",
       "      <th>361</th>\n",
       "      <td>1.031859</td>\n",
       "      <td>1.145648</td>\n",
       "    </tr>\n",
       "    <tr>\n",
       "      <th>362</th>\n",
       "      <td>0.893351</td>\n",
       "      <td>0.428953</td>\n",
       "    </tr>\n",
       "    <tr>\n",
       "      <th>363</th>\n",
       "      <td>1.619688</td>\n",
       "      <td>0.840663</td>\n",
       "    </tr>\n",
       "    <tr>\n",
       "      <th>364</th>\n",
       "      <td>0.456114</td>\n",
       "      <td>0.115612</td>\n",
       "    </tr>\n",
       "    <tr>\n",
       "      <th>365</th>\n",
       "      <td>-1.084339</td>\n",
       "      <td>-1.087785</td>\n",
       "    </tr>\n",
       "  </tbody>\n",
       "</table>\n",
       "<p>366 rows × 2 columns</p>\n",
       "</div>"
      ],
      "text/plain": [
       "            0         1\n",
       "0   -0.022477  0.354072\n",
       "1    0.060801  0.197605\n",
       "2   -1.593221 -1.254076\n",
       "3    1.804731  1.633482\n",
       "4    1.493538  1.733516\n",
       "..        ...       ...\n",
       "361  1.031859  1.145648\n",
       "362  0.893351  0.428953\n",
       "363  1.619688  0.840663\n",
       "364  0.456114  0.115612\n",
       "365 -1.084339 -1.087785\n",
       "\n",
       "[366 rows x 2 columns]"
      ]
     },
     "execution_count": 276,
     "metadata": {},
     "output_type": "execute_result"
    }
   ],
   "source": [
    "x"
   ]
  },
  {
   "cell_type": "code",
   "execution_count": 277,
   "id": "c36597ad",
   "metadata": {},
   "outputs": [],
   "source": [
    "y = d.iloc[:,-1]"
   ]
  },
  {
   "cell_type": "code",
   "execution_count": 278,
   "id": "d710e484",
   "metadata": {},
   "outputs": [
    {
     "data": {
      "text/plain": [
       "0      1.079039\n",
       "1      1.998037\n",
       "2     -1.281782\n",
       "3      0.251930\n",
       "4      1.132091\n",
       "         ...   \n",
       "361   -0.208165\n",
       "362    1.397224\n",
       "363   -0.264300\n",
       "364   -0.537274\n",
       "365   -1.215332\n",
       "Name: 2, Length: 366, dtype: float64"
      ]
     },
     "execution_count": 278,
     "metadata": {},
     "output_type": "execute_result"
    }
   ],
   "source": [
    "y"
   ]
  },
  {
   "cell_type": "code",
   "execution_count": 269,
   "id": "3a06cd34",
   "metadata": {},
   "outputs": [],
   "source": [
    "df =  power_transform(df,method = 'yeo-johnson')"
   ]
  },
  {
   "cell_type": "code",
   "execution_count": 147,
   "id": "cd7c02f8",
   "metadata": {},
   "outputs": [],
   "source": [
    "from sklearn.preprocessing import  power_transform\n",
    "x =  power_transform(x,method = 'yeo-johnson')"
   ]
  },
  {
   "cell_type": "code",
   "execution_count": 148,
   "id": "b986f7f6",
   "metadata": {},
   "outputs": [
    {
     "data": {
      "text/plain": [
       "array([[-0.02247658,  0.35407239],\n",
       "       [ 0.06080119,  0.1976052 ],\n",
       "       [-1.59322145, -1.25407592],\n",
       "       [ 1.80473087,  1.63348163],\n",
       "       [ 1.49353751,  1.73351561],\n",
       "       [-1.32447652, -0.80267646],\n",
       "       [ 0.14255613,  0.50182728],\n",
       "       [-0.10738395,  0.35407239],\n",
       "       [-0.65912955, -0.55922072],\n",
       "       [-1.20149218, -1.44489806],\n",
       "       [-2.09752504, -1.67461378],\n",
       "       [-1.90868763, -1.98097289],\n",
       "       [ 0.06080119,  0.35407239],\n",
       "       [-0.65912955, -1.25407592],\n",
       "       [-0.02247658,  0.50182728],\n",
       "       [ 1.36497974,  1.37083992],\n",
       "       [ 1.29974469,  0.70978553],\n",
       "       [ 1.42956993,  1.47819609],\n",
       "       [ 0.89335058,  0.90405329],\n",
       "       [ 1.23384111,  1.20335886],\n",
       "       [ 1.09992584,  1.14564842],\n",
       "       [ 0.37958881,  0.42895317],\n",
       "       [-0.56121667, -0.55922072],\n",
       "       [ 0.14255613, -0.55922072],\n",
       "       [ 1.16724379,  0.70978553],\n",
       "       [-1.45448835, -1.25407592],\n",
       "       [-0.76000762, -1.98097289],\n",
       "       [-0.65912955, -0.55922072],\n",
       "       [ 0.06080119, -1.08778463],\n",
       "       [-1.20149218, -1.44489806],\n",
       "       [-0.56121667, -0.448538  ],\n",
       "       [-1.59322145, -1.44489806],\n",
       "       [-1.59322145, -1.44489806],\n",
       "       [-1.45448835, -1.98097289],\n",
       "       [ 0.22288348,  0.57284038],\n",
       "       [-1.20149218, -1.08778463],\n",
       "       [ 1.55690348,  1.20335886],\n",
       "       [-0.9721336 , -0.448538  ],\n",
       "       [ 0.30186871, -1.44489806],\n",
       "       [ 0.30186871,  0.70978553],\n",
       "       [ 1.49353751,  0.96618073],\n",
       "       [-0.02247658,  0.42895317],\n",
       "       [ 0.4561135 ,  0.11561152],\n",
       "       [ 1.49353751,  1.02711465],\n",
       "       [ 0.30186871,  0.42895317],\n",
       "       [ 0.4561135 ,  0.8406634 ],\n",
       "       [-2.09752504, -1.67461378],\n",
       "       [ 0.67912138,  1.02711465],\n",
       "       [-0.65912955, -0.24395345],\n",
       "       [-0.76000762, -1.25407592],\n",
       "       [-0.28258492, -0.448538  ],\n",
       "       [-0.65912955, -0.24395345],\n",
       "       [-0.46597866, -0.93874611],\n",
       "       [ 0.30186871,  0.57284038],\n",
       "       [-0.9721336 , -0.55922072],\n",
       "       [-0.86420009, -0.448538  ],\n",
       "       [-1.08433908, -1.25407592],\n",
       "       [-0.9721336 , -0.55922072],\n",
       "       [-1.7432249 , -1.44489806],\n",
       "       [ 1.03185854,  1.20335886],\n",
       "       [-0.76000762, -0.24395345],\n",
       "       [-1.59322145, -1.25407592],\n",
       "       [-0.9721336 , -0.55922072],\n",
       "       [ 0.22288348, -0.14860977],\n",
       "       [ 1.16724379,  1.20335886],\n",
       "       [-0.19404124,  0.27701947],\n",
       "       [ 0.67912138,  1.47819609],\n",
       "       [-0.19404124, -1.44489806],\n",
       "       [ 0.75144547,  0.42895317],\n",
       "       [ 1.16724379,  1.37083992],\n",
       "       [ 0.67912138,  0.70978553],\n",
       "       [-1.08433908, -1.25407592],\n",
       "       [-0.19404124, -1.25407592],\n",
       "       [-1.7432249 , -1.67461378],\n",
       "       [-1.32447652, -1.44489806],\n",
       "       [ 1.68190857,  1.02711465],\n",
       "       [-0.19404124,  0.1976052 ],\n",
       "       [ 0.22288348,  0.50182728],\n",
       "       [-1.32447652, -1.44489806],\n",
       "       [-0.19404124,  0.35407239],\n",
       "       [-0.3731709 ,  0.03078511],\n",
       "       [ 1.29974469,  1.53069309],\n",
       "       [-1.90868763, -1.44489806],\n",
       "       [ 0.4561135 ,  0.8406634 ],\n",
       "       [-0.9721336 , -0.67680536],\n",
       "       [-0.86420009, -0.93874611],\n",
       "       [-0.86420009, -0.67680536],\n",
       "       [-0.86420009, -0.67680536],\n",
       "       [ 1.36497974,  1.58244518],\n",
       "       [ 0.14255613,  0.50182728],\n",
       "       [-1.59322145, -1.98097289],\n",
       "       [-0.19404124, -0.14860977],\n",
       "       [-0.56121667, -0.67680536],\n",
       "       [ 0.82284144,  0.03078511],\n",
       "       [ 1.55690348,  0.90405329],\n",
       "       [ 1.6196876 ,  0.8406634 ],\n",
       "       [ 0.67912138,  0.70978553],\n",
       "       [-0.28258492, -0.93874611],\n",
       "       [ 0.06080119,  0.03078511],\n",
       "       [-0.10738395, -0.3437171 ],\n",
       "       [ 0.89335058,  1.02711465],\n",
       "       [-0.76000762, -0.55922072],\n",
       "       [-0.86420009, -0.55922072],\n",
       "       [-0.3731709 , -0.55922072],\n",
       "       [ 1.49353751,  1.20335886],\n",
       "       [ 0.06080119,  0.1976052 ],\n",
       "       [-0.02247658,  0.1976052 ],\n",
       "       [-1.7432249 , -1.67461378],\n",
       "       [ 1.29974469,  1.53069309],\n",
       "       [-0.65912955, -1.98097289],\n",
       "       [ 0.14255613, -0.448538  ],\n",
       "       [ 0.82284144,  1.086918  ],\n",
       "       [ 1.42956993,  1.47819609],\n",
       "       [-1.59322145, -1.67461378],\n",
       "       [-1.45448835, -1.25407592],\n",
       "       [-0.46597866,  0.03078511],\n",
       "       [ 0.96301112,  1.26009812],\n",
       "       [ 0.37958881,  0.6421215 ],\n",
       "       [ 0.4561135 ,  0.6421215 ],\n",
       "       [ 0.37958881,  0.6421215 ],\n",
       "       [ 0.67912138,  0.90405329],\n",
       "       [-1.90868763, -1.98097289],\n",
       "       [ 0.96301112,  1.14564842],\n",
       "       [-1.59322145, -1.44489806],\n",
       "       [-0.76000762, -0.448538  ],\n",
       "       [-0.86420009, -0.55922072],\n",
       "       [-1.7432249 , -1.67461378],\n",
       "       [ 1.16724379,  0.8406634 ],\n",
       "       [ 0.06080119,  0.35407239],\n",
       "       [-0.28258492,  0.03078511],\n",
       "       [-0.19404124,  0.03078511],\n",
       "       [-0.86420009, -0.67680536],\n",
       "       [ 0.14255613,  0.35407239],\n",
       "       [-0.46597866, -0.55922072],\n",
       "       [-0.3731709 , -0.3437171 ],\n",
       "       [-0.02247658, -0.24395345],\n",
       "       [-1.7432249 , -1.25407592],\n",
       "       [ 0.60582445,  0.96618073],\n",
       "       [ 0.67912138,  1.02711465],\n",
       "       [-1.59322145, -1.08778463],\n",
       "       [ 0.60582445,  0.96618073],\n",
       "       [ 1.23384111,  0.90405329],\n",
       "       [-1.59322145, -1.25407592],\n",
       "       [-0.46597866, -0.14860977],\n",
       "       [-1.59322145, -1.08778463],\n",
       "       [ 0.14255613, -0.448538  ],\n",
       "       [-0.65912955, -0.3437171 ],\n",
       "       [-1.59322145, -1.98097289],\n",
       "       [ 0.14255613,  0.57284038],\n",
       "       [-0.65912955,  0.35407239],\n",
       "       [-2.09752504, -1.98097289],\n",
       "       [-1.32447652, -0.80267646],\n",
       "       [-0.3731709 ,  0.1976052 ],\n",
       "       [-1.90868763, -1.44489806],\n",
       "       [ 0.22288348, -0.67680536],\n",
       "       [-1.7432249 , -1.25407592],\n",
       "       [-2.09752504, -1.98097289],\n",
       "       [ 0.14255613, -0.55922072],\n",
       "       [-0.28258492,  0.1976052 ],\n",
       "       [-0.10738395,  0.42895317],\n",
       "       [-1.08433908, -0.80267646],\n",
       "       [-1.45448835, -0.93874611],\n",
       "       [-0.02247658,  0.42895317],\n",
       "       [ 1.29974469,  0.77593533],\n",
       "       [ 0.06080119,  0.50182728],\n",
       "       [-0.19404124, -0.80267646],\n",
       "       [ 0.67912138,  0.8406634 ],\n",
       "       [-0.86420009, -0.67680536],\n",
       "       [-0.56121667, -0.448538  ],\n",
       "       [ 0.60582445,  0.03078511],\n",
       "       [-1.7432249 , -1.25407592],\n",
       "       [-0.76000762, -0.24395345],\n",
       "       [-0.10738395, -0.93874611],\n",
       "       [-1.08433908, -0.55922072],\n",
       "       [ 0.53150612,  0.6421215 ],\n",
       "       [ 0.30186871,  0.70978553],\n",
       "       [ 1.03185854,  1.14564842],\n",
       "       [-0.56121667, -0.3437171 ],\n",
       "       [-0.10738395, -0.3437171 ],\n",
       "       [ 0.67912138,  1.02711465],\n",
       "       [ 0.4561135 ,  0.42895317],\n",
       "       [ 1.68190857,  0.6421215 ],\n",
       "       [-0.02247658,  0.35407239],\n",
       "       [-0.02247658,  0.42895317],\n",
       "       [-0.9721336 , -0.67680536],\n",
       "       [-1.59322145, -1.08778463],\n",
       "       [-1.59322145, -1.08778463],\n",
       "       [ 1.36497974,  0.6421215 ],\n",
       "       [-1.59322145, -1.08778463],\n",
       "       [ 1.49353751,  1.68382986],\n",
       "       [ 0.67912138,  0.27701947],\n",
       "       [-0.19404124,  0.27701947],\n",
       "       [-0.02247658, -0.93874611],\n",
       "       [ 0.14255613, -1.44489806],\n",
       "       [ 1.16724379,  1.31591123],\n",
       "       [-0.10738395,  0.35407239],\n",
       "       [-1.20149218, -1.44489806],\n",
       "       [ 0.06080119,  0.50182728],\n",
       "       [-1.59322145, -1.25407592],\n",
       "       [ 1.42956993,  1.63348163],\n",
       "       [-0.3731709 , -0.67680536],\n",
       "       [ 0.53150612,  0.42895317],\n",
       "       [-0.76000762, -1.67461378],\n",
       "       [-0.28258492, -0.24395345],\n",
       "       [-0.3731709 , -0.24395345],\n",
       "       [ 0.75144547,  0.6421215 ],\n",
       "       [-0.46597866, -0.67680536],\n",
       "       [-0.56121667, -0.24395345],\n",
       "       [ 0.14255613,  0.57284038],\n",
       "       [ 0.30186871, -0.3437171 ],\n",
       "       [-0.56121667, -0.80267646],\n",
       "       [ 1.09992584,  0.50182728],\n",
       "       [ 1.36497974,  1.42492288],\n",
       "       [ 0.06080119,  0.50182728],\n",
       "       [-1.7432249 , -1.67461378],\n",
       "       [-0.9721336 , -0.67680536],\n",
       "       [-0.28258492, -0.24395345],\n",
       "       [ 1.42956993,  1.58244518],\n",
       "       [ 0.75144547,  0.96618073],\n",
       "       [ 0.53150612,  0.77593533],\n",
       "       [ 1.36497974,  0.42895317],\n",
       "       [ 1.23384111,  0.42895317],\n",
       "       [-1.08433908, -1.25407592],\n",
       "       [ 0.67912138,  0.27701947],\n",
       "       [ 0.4561135 ,  0.8406634 ],\n",
       "       [-1.20149218, -0.80267646],\n",
       "       [ 1.86536483,  1.68382986],\n",
       "       [-0.02247658, -0.80267646],\n",
       "       [-1.45448835, -1.25407592],\n",
       "       [ 0.89335058,  1.14564842],\n",
       "       [ 1.36497974,  1.53069309],\n",
       "       [ 0.30186871,  0.70978553],\n",
       "       [-0.02247658,  0.70978553],\n",
       "       [-0.19404124, -0.24395345],\n",
       "       [ 0.82284144,  0.70978553],\n",
       "       [ 0.14255613,  0.35407239],\n",
       "       [ 0.67912138,  0.70978553],\n",
       "       [ 1.42956993,  1.63348163],\n",
       "       [ 0.06080119, -0.55922072],\n",
       "       [ 0.89335058, -0.14860977],\n",
       "       [-1.59322145, -1.44489806],\n",
       "       [ 0.67912138, -0.67680536],\n",
       "       [-0.65912955, -0.55922072],\n",
       "       [ 0.22288348,  0.6421215 ],\n",
       "       [ 0.82284144,  0.70978553],\n",
       "       [-0.9721336 , -1.25407592],\n",
       "       [ 0.96301112,  1.14564842],\n",
       "       [ 1.55690348,  1.31591123],\n",
       "       [ 0.89335058,  0.90405329],\n",
       "       [ 0.89335058,  1.20335886],\n",
       "       [ 1.29974469,  1.42492288],\n",
       "       [ 1.23384111,  1.14564842],\n",
       "       [ 1.68190857,  1.83099501],\n",
       "       [-0.46597866, -0.3437171 ],\n",
       "       [-0.56121667, -0.67680536],\n",
       "       [ 1.6196876 ,  1.68382986],\n",
       "       [-1.59322145, -1.67461378],\n",
       "       [-1.08433908, -1.08778463],\n",
       "       [-1.08433908, -1.25407592],\n",
       "       [-0.65912955, -0.80267646],\n",
       "       [ 0.89335058,  0.96618073],\n",
       "       [ 0.37958881,  0.35407239],\n",
       "       [ 1.42956993,  1.58244518],\n",
       "       [ 1.29974469,  0.96618073],\n",
       "       [ 1.80473087,  1.83099501],\n",
       "       [-1.08433908, -0.80267646],\n",
       "       [ 0.67912138,  0.96618073],\n",
       "       [-1.90868763, -1.98097289],\n",
       "       [ 0.75144547,  0.96618073],\n",
       "       [-1.08433908, -0.93874611],\n",
       "       [ 0.96301112,  1.02711465],\n",
       "       [-0.76000762, -1.67461378],\n",
       "       [-0.02247658, -0.67680536],\n",
       "       [ 1.49353751,  1.47819609],\n",
       "       [-0.10738395,  0.35407239],\n",
       "       [-0.19404124, -0.24395345],\n",
       "       [ 1.80473087,  1.63348163],\n",
       "       [ 1.42956993,  1.47819609],\n",
       "       [ 0.60582445,  0.1976052 ],\n",
       "       [ 0.67912138, -0.05717121],\n",
       "       [-0.46597866, -1.08778463],\n",
       "       [ 1.03185854,  1.20335886],\n",
       "       [-1.20149218, -1.08778463],\n",
       "       [ 0.89335058,  1.02711465],\n",
       "       [-1.45448835, -1.98097289],\n",
       "       [ 0.22288348,  0.11561152],\n",
       "       [ 0.06080119, -0.67680536],\n",
       "       [-0.46597866, -0.448538  ],\n",
       "       [ 0.75144547,  0.42895317],\n",
       "       [ 1.16724379,  1.42492288],\n",
       "       [ 0.22288348, -0.80267646],\n",
       "       [-1.32447652, -1.25407592],\n",
       "       [-0.65912955, -0.448538  ],\n",
       "       [-0.28258492,  0.1976052 ],\n",
       "       [-0.28258492,  0.11561152],\n",
       "       [ 0.37958881,  0.70978553],\n",
       "       [-0.9721336 , -0.448538  ],\n",
       "       [-0.56121667, -0.24395345],\n",
       "       [ 0.37958881,  0.11561152],\n",
       "       [ 0.82284144,  1.20335886],\n",
       "       [-1.08433908, -1.08778463],\n",
       "       [ 0.30186871,  0.11561152],\n",
       "       [ 1.29974469,  1.53069309],\n",
       "       [-0.86420009, -0.3437171 ],\n",
       "       [ 0.30186871,  0.70978553],\n",
       "       [ 0.06080119, -0.448538  ],\n",
       "       [-0.10738395, -0.3437171 ],\n",
       "       [ 1.03185854,  0.42895317],\n",
       "       [-0.02247658, -0.80267646],\n",
       "       [ 1.23384111,  1.58244518],\n",
       "       [ 1.16724379,  0.70978553],\n",
       "       [-0.56121667, -0.14860977],\n",
       "       [ 0.96301112,  0.8406634 ],\n",
       "       [ 1.29974469,  0.11561152],\n",
       "       [-0.56121667, -0.24395345],\n",
       "       [-0.19404124,  0.27701947],\n",
       "       [ 1.36497974,  1.58244518],\n",
       "       [ 0.89335058,  1.20335886],\n",
       "       [ 0.96301112,  1.42492288],\n",
       "       [-0.3731709 , -0.3437171 ],\n",
       "       [ 1.55690348,  0.96618073],\n",
       "       [ 1.42956993,  1.31591123],\n",
       "       [-1.59322145, -1.25407592],\n",
       "       [ 0.60582445,  1.02711465],\n",
       "       [ 1.36497974,  1.58244518],\n",
       "       [ 0.53150612,  0.96618073],\n",
       "       [ 0.22288348,  0.50182728],\n",
       "       [-1.08433908, -1.67461378],\n",
       "       [ 0.4561135 ,  0.57284038],\n",
       "       [ 1.42956993,  1.42492288],\n",
       "       [ 0.67912138,  0.03078511],\n",
       "       [-0.76000762, -1.08778463],\n",
       "       [-0.46597866, -0.24395345],\n",
       "       [ 0.30186871,  0.11561152],\n",
       "       [ 0.82284144,  1.14564842],\n",
       "       [ 0.06080119,  0.27701947],\n",
       "       [ 1.68190857,  1.68382986],\n",
       "       [-0.3731709 , -0.3437171 ],\n",
       "       [-0.86420009, -1.67461378],\n",
       "       [ 1.16724379,  1.14564842],\n",
       "       [ 1.03185854,  1.20335886],\n",
       "       [-0.56121667, -0.55922072],\n",
       "       [ 0.30186871,  0.50182728],\n",
       "       [-0.65912955, -0.67680536],\n",
       "       [ 0.82284144,  0.90405329],\n",
       "       [ 0.60582445,  0.42895317],\n",
       "       [ 0.67912138,  0.90405329],\n",
       "       [-1.59322145, -1.67461378],\n",
       "       [-1.32447652, -1.25407592],\n",
       "       [ 1.36497974,  1.58244518],\n",
       "       [-0.76000762, -0.55922072],\n",
       "       [-1.08433908, -1.25407592],\n",
       "       [ 0.60582445,  0.70978553],\n",
       "       [-1.08433908, -0.93874611],\n",
       "       [ 0.60582445,  0.57284038],\n",
       "       [-0.3731709 , -0.448538  ],\n",
       "       [ 0.75144547,  0.96618073],\n",
       "       [ 0.75144547,  0.11561152],\n",
       "       [ 1.36497974,  1.47819609],\n",
       "       [ 1.49353751,  0.42895317],\n",
       "       [ 0.82284144,  0.42895317],\n",
       "       [ 1.03185854,  1.14564842],\n",
       "       [ 0.89335058,  0.42895317],\n",
       "       [ 1.6196876 ,  0.8406634 ],\n",
       "       [ 0.4561135 ,  0.11561152],\n",
       "       [-1.08433908, -1.08778463]])"
      ]
     },
     "execution_count": 148,
     "metadata": {},
     "output_type": "execute_result"
    }
   ],
   "source": [
    "x"
   ]
  },
  {
   "cell_type": "code",
   "execution_count": 279,
   "id": "3eba2f3e",
   "metadata": {},
   "outputs": [
    {
     "data": {
      "text/plain": [
       "0   -0.148384\n",
       "1   -0.152336\n",
       "dtype: float64"
      ]
     },
     "execution_count": 279,
     "metadata": {},
     "output_type": "execute_result"
    }
   ],
   "source": [
    "pd.DataFrame(x).skew()"
   ]
  },
  {
   "cell_type": "code",
   "execution_count": 280,
   "id": "6082e3cf",
   "metadata": {},
   "outputs": [],
   "source": [
    "from sklearn.linear_model import LinearRegression"
   ]
  },
  {
   "cell_type": "code",
   "execution_count": 281,
   "id": "1f9cbd2c",
   "metadata": {},
   "outputs": [],
   "source": [
    "from sklearn.model_selection import  train_test_split"
   ]
  },
  {
   "cell_type": "code",
   "execution_count": 282,
   "id": "ce241115",
   "metadata": {},
   "outputs": [],
   "source": [
    "from sklearn.metrics  import    mean_absolute_error,mean_squared_error"
   ]
  },
  {
   "cell_type": "code",
   "execution_count": 283,
   "id": "32b4d5a4",
   "metadata": {},
   "outputs": [],
   "source": [
    "from sklearn.metrics import r2_score\n"
   ]
  },
  {
   "cell_type": "code",
   "execution_count": 284,
   "id": "26d323f9",
   "metadata": {},
   "outputs": [
    {
     "data": {
      "text/plain": [
       "LinearRegression()"
      ]
     },
     "execution_count": 284,
     "metadata": {},
     "output_type": "execute_result"
    }
   ],
   "source": [
    "ln = LinearRegression()\n",
    "ln"
   ]
  },
  {
   "cell_type": "code",
   "execution_count": 285,
   "id": "b2cdbea1",
   "metadata": {},
   "outputs": [
    {
     "name": "stdout",
     "output_type": "stream",
     "text": [
      "at random state 65 model preforms best\n",
      "at random_state =   65\n",
      "training accuracy score is  29.78698948383267\n",
      " testing accuracy  score is  29.84105066670567 \n",
      "\n",
      "at random state 72 model preforms best\n",
      "at random_state =   72\n",
      "training accuracy score is  30.131665339230985\n",
      " testing accuracy  score is  30.129484681930542 \n",
      "\n",
      "at random state 155 model preforms best\n",
      "at random_state =   155\n",
      "training accuracy score is  30.29694288042378\n",
      " testing accuracy  score is  30.298088172114912 \n",
      "\n",
      "at random state 252 model preforms best\n",
      "at random_state =   252\n",
      "training accuracy score is  29.90627691400617\n",
      " testing accuracy  score is  29.870464640657545 \n",
      "\n",
      "at random state 567 model preforms best\n",
      "at random_state =   567\n",
      "training accuracy score is  28.860701044787294\n",
      " testing accuracy  score is  28.89417397221832 \n",
      "\n"
     ]
    }
   ],
   "source": [
    "for i in range (0,1000):\n",
    "    x_train,x_test,y_train,y_test = train_test_split( x , y , random_state = i , test_size = .20)\n",
    "    ln.fit(x_train,y_train)\n",
    "    pred_train = ln.predict(x_train)\n",
    "    pred_test = ln.predict(x_test)\n",
    "    if   round(r2_score(y_train, pred_train)*100,1) == round (r2_score(y_test, pred_test)*100,1):\n",
    "        print(\"at random state\",i,\"model preforms best\")\n",
    "        print(\"at random_state =  \" ,i)\n",
    "        print(\"training accuracy score is \" ,r2_score(y_train, pred_train)*100)\n",
    "        print(\" testing accuracy  score is \" , r2_score(y_test, pred_test)*100,\"\\n\")\n"
   ]
  },
  {
   "cell_type": "code",
   "execution_count": 286,
   "id": "cfc76494",
   "metadata": {},
   "outputs": [],
   "source": [
    "x_train,x_test,y_train,y_test = train_test_split(x,y ,random_state = 42,test_size = .20)"
   ]
  },
  {
   "cell_type": "code",
   "execution_count": 287,
   "id": "e1e783be",
   "metadata": {},
   "outputs": [
    {
     "name": "stdout",
     "output_type": "stream",
     "text": [
      "error :\n",
      "mean absolute error  0.9305786018113459\n",
      "mean squared error  1.2960705585791836\n",
      "Root mean squared error 1.138450946935872\n"
     ]
    }
   ],
   "source": [
    "print (\"error :\")\n",
    "print(\"mean absolute error \", mean_absolute_error(y_test,pred_test))\n",
    "print(\"mean squared error \", mean_squared_error(y_test,pred_test))\n",
    "print('Root mean squared error',np.sqrt(mean_squared_error(y_test,pred_test)))"
   ]
  },
  {
   "cell_type": "code",
   "execution_count": 288,
   "id": "814c939c",
   "metadata": {},
   "outputs": [
    {
     "data": {
      "text/plain": [
       "0.2862681699373175"
      ]
     },
     "execution_count": 288,
     "metadata": {},
     "output_type": "execute_result"
    }
   ],
   "source": [
    "ln.score(x_train,y_train)"
   ]
  },
  {
   "cell_type": "code",
   "execution_count": 289,
   "id": "c889dc1f",
   "metadata": {},
   "outputs": [
    {
     "data": {
      "text/plain": [
       "LinearRegression()"
      ]
     },
     "execution_count": 289,
     "metadata": {},
     "output_type": "execute_result"
    }
   ],
   "source": [
    "ln.fit(x_train,y_train)"
   ]
  },
  {
   "cell_type": "code",
   "execution_count": 290,
   "id": "58b33a97",
   "metadata": {},
   "outputs": [
    {
     "data": {
      "text/plain": [
       "0.2902012195879614"
      ]
     },
     "execution_count": 290,
     "metadata": {},
     "output_type": "execute_result"
    }
   ],
   "source": [
    "ln.score(x_train,y_train)"
   ]
  },
  {
   "cell_type": "code",
   "execution_count": 291,
   "id": "63808a11",
   "metadata": {},
   "outputs": [
    {
     "data": {
      "text/plain": [
       "0.002812671071037477"
      ]
     },
     "execution_count": 291,
     "metadata": {},
     "output_type": "execute_result"
    }
   ],
   "source": [
    "ln.intercept_"
   ]
  },
  {
   "cell_type": "code",
   "execution_count": 292,
   "id": "17785953",
   "metadata": {},
   "outputs": [],
   "source": [
    "predict = ln.predict(x_test)"
   ]
  },
  {
   "cell_type": "code",
   "execution_count": 293,
   "id": "2753478c",
   "metadata": {},
   "outputs": [
    {
     "data": {
      "text/plain": [
       "array([-0.25834596, -0.91749733,  0.76182794,  0.55273605, -0.44834569,\n",
       "        0.08710656, -0.02095193,  0.2698171 , -0.08199505, -0.95021859,\n",
       "        0.64617064,  0.25783687, -0.07261945, -0.38783782,  0.41638038,\n",
       "        0.13046561,  0.0710546 , -0.1156075 , -0.22050678, -0.37605822,\n",
       "       -0.71636555, -0.23537924, -0.33214435, -0.22966332,  0.50104436,\n",
       "        0.04212019,  0.55991857, -0.31795467, -0.37605822,  0.39919861,\n",
       "       -0.76167466,  0.77386463,  0.18302856, -0.56794034, -0.71636555,\n",
       "       -0.76167466,  0.04690903, -0.30831501, -0.899101  , -0.20827729,\n",
       "       -0.34168138,  0.42804016, -0.2845883 ,  0.15695077, -0.64645802,\n",
       "        0.43537195, -0.96477426, -0.63553662, -0.62060461,  0.3384557 ,\n",
       "       -0.1156075 ,  0.47701653,  0.52742465,  0.82919991,  0.60003458,\n",
       "       -0.65066791,  0.28981671,  0.96798633,  0.37517078,  0.18634122,\n",
       "        0.84014043,  0.18302856, -0.75827568, -1.07095563, -0.5387715 ,\n",
       "       -0.95021859,  0.3384557 , -0.35233151, -0.14578108, -0.95736089,\n",
       "        0.72716736, -0.20608293,  0.44639882,  0.48521633])"
      ]
     },
     "execution_count": 293,
     "metadata": {},
     "output_type": "execute_result"
    }
   ],
   "source": [
    "predict\n"
   ]
  },
  {
   "cell_type": "code",
   "execution_count": 294,
   "id": "f072f99b",
   "metadata": {},
   "outputs": [
    {
     "data": {
      "text/plain": [
       "193   -0.484161\n",
       "33    -1.427494\n",
       "15    -0.194162\n",
       "310   -0.419174\n",
       "57    -0.763850\n",
       "         ...   \n",
       "82    -0.852860\n",
       "94    -0.064445\n",
       "192    1.789551\n",
       "307    1.239226\n",
       "211    0.758226\n",
       "Name: 2, Length: 74, dtype: float64"
      ]
     },
     "execution_count": 294,
     "metadata": {},
     "output_type": "execute_result"
    }
   ],
   "source": [
    "data_1 = y_test"
   ]
  },
  {
   "cell_type": "code",
   "execution_count": null,
   "id": "d7aa123c",
   "metadata": {},
   "outputs": [],
   "source": []
  }
 ],
 "metadata": {
  "kernelspec": {
   "display_name": "Python 3 (ipykernel)",
   "language": "python",
   "name": "python3"
  },
  "language_info": {
   "codemirror_mode": {
    "name": "ipython",
    "version": 3
   },
   "file_extension": ".py",
   "mimetype": "text/x-python",
   "name": "python",
   "nbconvert_exporter": "python",
   "pygments_lexer": "ipython3",
   "version": "3.9.7"
  }
 },
 "nbformat": 4,
 "nbformat_minor": 5
}
