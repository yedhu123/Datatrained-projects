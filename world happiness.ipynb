{
 "cells": [
  {
   "cell_type": "raw",
   "id": "33b0d782",
   "metadata": {},
   "source": []
  },
  {
   "cell_type": "code",
   "execution_count": 2,
   "id": "1a4e9415",
   "metadata": {},
   "outputs": [],
   "source": [
    "import numpy as np\n",
    "import pandas as pd \n",
    "import seaborn as sns\n",
    "import matplotlib.pyplot as plt\n",
    "import sklearn\n",
    "from sklearn.linear_model import LinearRegression\n",
    "\n",
    "from sklearn.metrics import  mean_squared_error,mean_absolute_error\n",
    "from sklearn.model_selection  import train_test_split\n",
    "import warnings\n",
    "warnings.filterwarnings(\"ignore\")"
   ]
  },
  {
   "cell_type": "code",
   "execution_count": 3,
   "id": "126b24ad",
   "metadata": {},
   "outputs": [],
   "source": [
    "data = pd.read_csv(\"happiness_score_dataset.csv\")"
   ]
  },
  {
   "cell_type": "code",
   "execution_count": 4,
   "id": "bd8cd411",
   "metadata": {
    "scrolled": true
   },
   "outputs": [
    {
     "data": {
      "text/html": [
       "<div>\n",
       "<style scoped>\n",
       "    .dataframe tbody tr th:only-of-type {\n",
       "        vertical-align: middle;\n",
       "    }\n",
       "\n",
       "    .dataframe tbody tr th {\n",
       "        vertical-align: top;\n",
       "    }\n",
       "\n",
       "    .dataframe thead th {\n",
       "        text-align: right;\n",
       "    }\n",
       "</style>\n",
       "<table border=\"1\" class=\"dataframe\">\n",
       "  <thead>\n",
       "    <tr style=\"text-align: right;\">\n",
       "      <th></th>\n",
       "      <th>Country</th>\n",
       "      <th>Region</th>\n",
       "      <th>Happiness Rank</th>\n",
       "      <th>Happiness Score</th>\n",
       "      <th>Standard Error</th>\n",
       "      <th>Economy (GDP per Capita)</th>\n",
       "      <th>Family</th>\n",
       "      <th>Health (Life Expectancy)</th>\n",
       "      <th>Freedom</th>\n",
       "      <th>Trust (Government Corruption)</th>\n",
       "      <th>Generosity</th>\n",
       "      <th>Dystopia Residual</th>\n",
       "    </tr>\n",
       "  </thead>\n",
       "  <tbody>\n",
       "    <tr>\n",
       "      <th>0</th>\n",
       "      <td>Switzerland</td>\n",
       "      <td>Western Europe</td>\n",
       "      <td>1</td>\n",
       "      <td>7.587</td>\n",
       "      <td>0.03411</td>\n",
       "      <td>1.39651</td>\n",
       "      <td>1.34951</td>\n",
       "      <td>0.94143</td>\n",
       "      <td>0.66557</td>\n",
       "      <td>0.41978</td>\n",
       "      <td>0.29678</td>\n",
       "      <td>2.51738</td>\n",
       "    </tr>\n",
       "    <tr>\n",
       "      <th>1</th>\n",
       "      <td>Iceland</td>\n",
       "      <td>Western Europe</td>\n",
       "      <td>2</td>\n",
       "      <td>7.561</td>\n",
       "      <td>0.04884</td>\n",
       "      <td>1.30232</td>\n",
       "      <td>1.40223</td>\n",
       "      <td>0.94784</td>\n",
       "      <td>0.62877</td>\n",
       "      <td>0.14145</td>\n",
       "      <td>0.43630</td>\n",
       "      <td>2.70201</td>\n",
       "    </tr>\n",
       "    <tr>\n",
       "      <th>2</th>\n",
       "      <td>Denmark</td>\n",
       "      <td>Western Europe</td>\n",
       "      <td>3</td>\n",
       "      <td>7.527</td>\n",
       "      <td>0.03328</td>\n",
       "      <td>1.32548</td>\n",
       "      <td>1.36058</td>\n",
       "      <td>0.87464</td>\n",
       "      <td>0.64938</td>\n",
       "      <td>0.48357</td>\n",
       "      <td>0.34139</td>\n",
       "      <td>2.49204</td>\n",
       "    </tr>\n",
       "    <tr>\n",
       "      <th>3</th>\n",
       "      <td>Norway</td>\n",
       "      <td>Western Europe</td>\n",
       "      <td>4</td>\n",
       "      <td>7.522</td>\n",
       "      <td>0.03880</td>\n",
       "      <td>1.45900</td>\n",
       "      <td>1.33095</td>\n",
       "      <td>0.88521</td>\n",
       "      <td>0.66973</td>\n",
       "      <td>0.36503</td>\n",
       "      <td>0.34699</td>\n",
       "      <td>2.46531</td>\n",
       "    </tr>\n",
       "    <tr>\n",
       "      <th>4</th>\n",
       "      <td>Canada</td>\n",
       "      <td>North America</td>\n",
       "      <td>5</td>\n",
       "      <td>7.427</td>\n",
       "      <td>0.03553</td>\n",
       "      <td>1.32629</td>\n",
       "      <td>1.32261</td>\n",
       "      <td>0.90563</td>\n",
       "      <td>0.63297</td>\n",
       "      <td>0.32957</td>\n",
       "      <td>0.45811</td>\n",
       "      <td>2.45176</td>\n",
       "    </tr>\n",
       "    <tr>\n",
       "      <th>...</th>\n",
       "      <td>...</td>\n",
       "      <td>...</td>\n",
       "      <td>...</td>\n",
       "      <td>...</td>\n",
       "      <td>...</td>\n",
       "      <td>...</td>\n",
       "      <td>...</td>\n",
       "      <td>...</td>\n",
       "      <td>...</td>\n",
       "      <td>...</td>\n",
       "      <td>...</td>\n",
       "      <td>...</td>\n",
       "    </tr>\n",
       "    <tr>\n",
       "      <th>153</th>\n",
       "      <td>Rwanda</td>\n",
       "      <td>Sub-Saharan Africa</td>\n",
       "      <td>154</td>\n",
       "      <td>3.465</td>\n",
       "      <td>0.03464</td>\n",
       "      <td>0.22208</td>\n",
       "      <td>0.77370</td>\n",
       "      <td>0.42864</td>\n",
       "      <td>0.59201</td>\n",
       "      <td>0.55191</td>\n",
       "      <td>0.22628</td>\n",
       "      <td>0.67042</td>\n",
       "    </tr>\n",
       "    <tr>\n",
       "      <th>154</th>\n",
       "      <td>Benin</td>\n",
       "      <td>Sub-Saharan Africa</td>\n",
       "      <td>155</td>\n",
       "      <td>3.340</td>\n",
       "      <td>0.03656</td>\n",
       "      <td>0.28665</td>\n",
       "      <td>0.35386</td>\n",
       "      <td>0.31910</td>\n",
       "      <td>0.48450</td>\n",
       "      <td>0.08010</td>\n",
       "      <td>0.18260</td>\n",
       "      <td>1.63328</td>\n",
       "    </tr>\n",
       "    <tr>\n",
       "      <th>155</th>\n",
       "      <td>Syria</td>\n",
       "      <td>Middle East and Northern Africa</td>\n",
       "      <td>156</td>\n",
       "      <td>3.006</td>\n",
       "      <td>0.05015</td>\n",
       "      <td>0.66320</td>\n",
       "      <td>0.47489</td>\n",
       "      <td>0.72193</td>\n",
       "      <td>0.15684</td>\n",
       "      <td>0.18906</td>\n",
       "      <td>0.47179</td>\n",
       "      <td>0.32858</td>\n",
       "    </tr>\n",
       "    <tr>\n",
       "      <th>156</th>\n",
       "      <td>Burundi</td>\n",
       "      <td>Sub-Saharan Africa</td>\n",
       "      <td>157</td>\n",
       "      <td>2.905</td>\n",
       "      <td>0.08658</td>\n",
       "      <td>0.01530</td>\n",
       "      <td>0.41587</td>\n",
       "      <td>0.22396</td>\n",
       "      <td>0.11850</td>\n",
       "      <td>0.10062</td>\n",
       "      <td>0.19727</td>\n",
       "      <td>1.83302</td>\n",
       "    </tr>\n",
       "    <tr>\n",
       "      <th>157</th>\n",
       "      <td>Togo</td>\n",
       "      <td>Sub-Saharan Africa</td>\n",
       "      <td>158</td>\n",
       "      <td>2.839</td>\n",
       "      <td>0.06727</td>\n",
       "      <td>0.20868</td>\n",
       "      <td>0.13995</td>\n",
       "      <td>0.28443</td>\n",
       "      <td>0.36453</td>\n",
       "      <td>0.10731</td>\n",
       "      <td>0.16681</td>\n",
       "      <td>1.56726</td>\n",
       "    </tr>\n",
       "  </tbody>\n",
       "</table>\n",
       "<p>158 rows × 12 columns</p>\n",
       "</div>"
      ],
      "text/plain": [
       "         Country                           Region  Happiness Rank  \\\n",
       "0    Switzerland                   Western Europe               1   \n",
       "1        Iceland                   Western Europe               2   \n",
       "2        Denmark                   Western Europe               3   \n",
       "3         Norway                   Western Europe               4   \n",
       "4         Canada                    North America               5   \n",
       "..           ...                              ...             ...   \n",
       "153       Rwanda               Sub-Saharan Africa             154   \n",
       "154        Benin               Sub-Saharan Africa             155   \n",
       "155        Syria  Middle East and Northern Africa             156   \n",
       "156      Burundi               Sub-Saharan Africa             157   \n",
       "157         Togo               Sub-Saharan Africa             158   \n",
       "\n",
       "     Happiness Score  Standard Error  Economy (GDP per Capita)   Family  \\\n",
       "0              7.587         0.03411                   1.39651  1.34951   \n",
       "1              7.561         0.04884                   1.30232  1.40223   \n",
       "2              7.527         0.03328                   1.32548  1.36058   \n",
       "3              7.522         0.03880                   1.45900  1.33095   \n",
       "4              7.427         0.03553                   1.32629  1.32261   \n",
       "..               ...             ...                       ...      ...   \n",
       "153            3.465         0.03464                   0.22208  0.77370   \n",
       "154            3.340         0.03656                   0.28665  0.35386   \n",
       "155            3.006         0.05015                   0.66320  0.47489   \n",
       "156            2.905         0.08658                   0.01530  0.41587   \n",
       "157            2.839         0.06727                   0.20868  0.13995   \n",
       "\n",
       "     Health (Life Expectancy)  Freedom  Trust (Government Corruption)  \\\n",
       "0                     0.94143  0.66557                        0.41978   \n",
       "1                     0.94784  0.62877                        0.14145   \n",
       "2                     0.87464  0.64938                        0.48357   \n",
       "3                     0.88521  0.66973                        0.36503   \n",
       "4                     0.90563  0.63297                        0.32957   \n",
       "..                        ...      ...                            ...   \n",
       "153                   0.42864  0.59201                        0.55191   \n",
       "154                   0.31910  0.48450                        0.08010   \n",
       "155                   0.72193  0.15684                        0.18906   \n",
       "156                   0.22396  0.11850                        0.10062   \n",
       "157                   0.28443  0.36453                        0.10731   \n",
       "\n",
       "     Generosity  Dystopia Residual  \n",
       "0       0.29678            2.51738  \n",
       "1       0.43630            2.70201  \n",
       "2       0.34139            2.49204  \n",
       "3       0.34699            2.46531  \n",
       "4       0.45811            2.45176  \n",
       "..          ...                ...  \n",
       "153     0.22628            0.67042  \n",
       "154     0.18260            1.63328  \n",
       "155     0.47179            0.32858  \n",
       "156     0.19727            1.83302  \n",
       "157     0.16681            1.56726  \n",
       "\n",
       "[158 rows x 12 columns]"
      ]
     },
     "execution_count": 4,
     "metadata": {},
     "output_type": "execute_result"
    }
   ],
   "source": [
    "data"
   ]
  },
  {
   "cell_type": "code",
   "execution_count": 5,
   "id": "0fb3a618",
   "metadata": {},
   "outputs": [
    {
     "data": {
      "text/plain": [
       "Index(['Country', 'Region', 'Happiness Rank', 'Happiness Score',\n",
       "       'Standard Error', 'Economy (GDP per Capita)', 'Family',\n",
       "       'Health (Life Expectancy)', 'Freedom', 'Trust (Government Corruption)',\n",
       "       'Generosity', 'Dystopia Residual'],\n",
       "      dtype='object')"
      ]
     },
     "execution_count": 5,
     "metadata": {},
     "output_type": "execute_result"
    }
   ],
   "source": [
    "data.columns"
   ]
  },
  {
   "cell_type": "markdown",
   "id": "15ab0c3b",
   "metadata": {},
   "source": [
    "# columns describe  :\n",
    "#### The following columns: GDP per Capita, Family, Life Expectancy, Freedom, Generosity, Trust Government Corruption describe the extent to which these factors contribute in evaluating the happiness in each country.\n",
    "#### The Dystopia Residual metric actually is the Dystopia Happiness Score(1.85) + the Residual value or the unexplained value for each country.\n",
    "\n",
    "### Country :\n",
    "\n",
    "\n",
    "### Region:\n",
    "\n",
    "\n",
    "###  Happiness Rank:\n",
    "\n",
    "### Happiness Score:\n",
    "\n",
    "### Standard Error:\n",
    "\n",
    "\n",
    "\n",
    "### Economy (GDP per Capita)\t:\n",
    "\n",
    "### Family:\n",
    "\n",
    "### Health (Life Expectancy)\t:\n",
    " \n",
    "### Freedom :\n",
    "\n",
    "### Trust (Government Corruption)  :\n",
    "  \n",
    "### Generosity : \n",
    "\n",
    "### Dystopia Residual : Dystopia is an imaginary country that has the world’s least-happy people\n",
    "   \n",
    "###  residuals, or unexplained components, differ for each country, reflecting the extent to which the six variables either over- or under-explain average life evaluations. These residuals have an average value of approximately zero over the whole set of countries. \n"
   ]
  },
  {
   "cell_type": "code",
   "execution_count": 6,
   "id": "4e828466",
   "metadata": {},
   "outputs": [
    {
     "data": {
      "text/plain": [
       "Country                          0\n",
       "Region                           0\n",
       "Happiness Rank                   0\n",
       "Happiness Score                  0\n",
       "Standard Error                   0\n",
       "Economy (GDP per Capita)         0\n",
       "Family                           0\n",
       "Health (Life Expectancy)         0\n",
       "Freedom                          0\n",
       "Trust (Government Corruption)    0\n",
       "Generosity                       0\n",
       "Dystopia Residual                0\n",
       "dtype: int64"
      ]
     },
     "execution_count": 6,
     "metadata": {},
     "output_type": "execute_result"
    }
   ],
   "source": [
    "data.isnull().sum()"
   ]
  },
  {
   "cell_type": "code",
   "execution_count": 7,
   "id": "68f70eee",
   "metadata": {},
   "outputs": [
    {
     "data": {
      "text/plain": [
       "Country                           object\n",
       "Region                            object\n",
       "Happiness Rank                     int64\n",
       "Happiness Score                  float64\n",
       "Standard Error                   float64\n",
       "Economy (GDP per Capita)         float64\n",
       "Family                           float64\n",
       "Health (Life Expectancy)         float64\n",
       "Freedom                          float64\n",
       "Trust (Government Corruption)    float64\n",
       "Generosity                       float64\n",
       "Dystopia Residual                float64\n",
       "dtype: object"
      ]
     },
     "execution_count": 7,
     "metadata": {},
     "output_type": "execute_result"
    }
   ],
   "source": [
    "data.dtypes"
   ]
  },
  {
   "cell_type": "code",
   "execution_count": 8,
   "id": "5a969666",
   "metadata": {},
   "outputs": [
    {
     "data": {
      "text/plain": [
       "Index(['Country', 'Region', 'Happiness Rank', 'Happiness Score',\n",
       "       'Standard Error', 'Economy (GDP per Capita)', 'Family',\n",
       "       'Health (Life Expectancy)', 'Freedom', 'Trust (Government Corruption)',\n",
       "       'Generosity', 'Dystopia Residual'],\n",
       "      dtype='object')"
      ]
     },
     "execution_count": 8,
     "metadata": {},
     "output_type": "execute_result"
    }
   ],
   "source": [
    "data.columns"
   ]
  },
  {
   "cell_type": "markdown",
   "id": "2b044f07",
   "metadata": {},
   "source": [
    " # Exploratory data analysis \n",
    " \n",
    " \n",
    "   ## Scatter plot : \n",
    "   "
   ]
  },
  {
   "cell_type": "code",
   "execution_count": 9,
   "id": "566c56de",
   "metadata": {
    "scrolled": false
   },
   "outputs": [
    {
     "data": {
      "text/plain": [
       "<AxesSubplot:xlabel='Happiness Score', ylabel='Region'>"
      ]
     },
     "execution_count": 9,
     "metadata": {},
     "output_type": "execute_result"
    },
    {
     "data": {
      "image/png": "[encoded data removed]",
      "text/plain": [
       "<Figure size 1440x720 with 1 Axes>"
      ]
     },
     "metadata": {
      "needs_background": "light"
     },
     "output_type": "display_data"
    }
   ],
   "source": [
    "plt.figure(figsize = (20,10))\n",
    "sns.scatterplot(x = \"Happiness Score\" , y = \"Region\" , data = data)\n",
    "\n"
   ]
  },
  {
   "cell_type": "code",
   "execution_count": 10,
   "id": "ebdbb07f",
   "metadata": {},
   "outputs": [
    {
     "data": {
      "text/plain": [
       "<AxesSubplot:xlabel='Happiness Rank', ylabel='Happiness Score'>"
      ]
     },
     "execution_count": 10,
     "metadata": {},
     "output_type": "execute_result"
    },
    {
     "data": {
      "image/png": "[encoded data removed]",
      "text/plain": [
       "<Figure size 432x288 with 1 Axes>"
      ]
     },
     "metadata": {
      "needs_background": "light"
     },
     "output_type": "display_data"
    }
   ],
   "source": [
    "\n",
    "sns.scatterplot(x = 'Happiness Rank', y = \"Happiness Score\" , data = data)"
   ]
  },
  {
   "cell_type": "markdown",
   "id": "7516c23b",
   "metadata": {},
   "source": [
    "### lower the  happiness score higer the ranking."
   ]
  },
  {
   "cell_type": "code",
   "execution_count": 11,
   "id": "14f24b99",
   "metadata": {
    "scrolled": true
   },
   "outputs": [
    {
     "data": {
      "text/plain": [
       "<AxesSubplot:xlabel='Happiness Score', ylabel='Standard Error'>"
      ]
     },
     "execution_count": 11,
     "metadata": {},
     "output_type": "execute_result"
    },
    {
     "data": {
      "image/png": "[encoded data removed]",
      "text/plain": [
       "<Figure size 432x288 with 1 Axes>"
      ]
     },
     "metadata": {
      "needs_background": "light"
     },
     "output_type": "display_data"
    }
   ],
   "source": [
    "sns.scatterplot ( x = \"Happiness Score\" ,y = \"Standard Error\", data = data)\n",
    "\n"
   ]
  },
  {
   "cell_type": "markdown",
   "id": "779f3aa9",
   "metadata": {},
   "source": []
  },
  {
   "cell_type": "code",
   "execution_count": 12,
   "id": "7c1f23ae",
   "metadata": {},
   "outputs": [
    {
     "data": {
      "text/plain": [
       "<AxesSubplot:xlabel='Happiness Score', ylabel='Economy (GDP per Capita)'>"
      ]
     },
     "execution_count": 12,
     "metadata": {},
     "output_type": "execute_result"
    },
    {
     "data": {
      "image/png": "[encoded data removed]",
      "text/plain": [
       "<Figure size 432x288 with 1 Axes>"
      ]
     },
     "metadata": {
      "needs_background": "light"
     },
     "output_type": "display_data"
    }
   ],
   "source": [
    "sns.scatterplot ( x = \"Happiness Score\" ,y = 'Economy (GDP per Capita)', data = data)\n",
    "\n"
   ]
  },
  {
   "cell_type": "markdown",
   "id": "6f018cda",
   "metadata": {},
   "source": [
    "### the graph shows higher the happiness score , GDP of the  country also increases "
   ]
  },
  {
   "cell_type": "code",
   "execution_count": 13,
   "id": "c55f6acc",
   "metadata": {},
   "outputs": [
    {
     "data": {
      "text/plain": [
       "<AxesSubplot:xlabel='Happiness Score', ylabel='Family'>"
      ]
     },
     "execution_count": 13,
     "metadata": {},
     "output_type": "execute_result"
    },
    {
     "data": {
      "image/png": "[encoded data removed]",
      "text/plain": [
       "<Figure size 432x288 with 1 Axes>"
      ]
     },
     "metadata": {
      "needs_background": "light"
     },
     "output_type": "display_data"
    }
   ],
   "source": [
    "sns.scatterplot ( x = \"Happiness Score\" ,y =  'Family'  , data = data)\n",
    "\n"
   ]
  },
  {
   "cell_type": "markdown",
   "id": "43019f58",
   "metadata": {},
   "source": [
    "### with higher happiness score ,family also increase "
   ]
  },
  {
   "cell_type": "code",
   "execution_count": 14,
   "id": "442f18b0",
   "metadata": {},
   "outputs": [
    {
     "data": {
      "text/plain": [
       "<AxesSubplot:xlabel='Happiness Score', ylabel='Health (Life Expectancy)'>"
      ]
     },
     "execution_count": 14,
     "metadata": {},
     "output_type": "execute_result"
    },
    {
     "data": {
      "image/png": "[encoded data removed]",
      "text/plain": [
       "<Figure size 432x288 with 1 Axes>"
      ]
     },
     "metadata": {
      "needs_background": "light"
     },
     "output_type": "display_data"
    }
   ],
   "source": [
    "sns.scatterplot ( x = \"Happiness Score\" ,y =  'Health (Life Expectancy)'  , data = data)\n"
   ]
  },
  {
   "cell_type": "markdown",
   "id": "1f5bd71f",
   "metadata": {},
   "source": [
    "### the life expectency of the people increases with higher happiness score "
   ]
  },
  {
   "cell_type": "code",
   "execution_count": 15,
   "id": "c44bcb82",
   "metadata": {},
   "outputs": [
    {
     "data": {
      "text/plain": [
       "<AxesSubplot:xlabel='Happiness Score', ylabel='Freedom'>"
      ]
     },
     "execution_count": 15,
     "metadata": {},
     "output_type": "execute_result"
    },
    {
     "data": {
      "image/png": "[encoded data removed]",
      "text/plain": [
       "<Figure size 432x288 with 1 Axes>"
      ]
     },
     "metadata": {
      "needs_background": "light"
     },
     "output_type": "display_data"
    }
   ],
   "source": [
    "sns.scatterplot ( x = \"Happiness Score\" ,y =   'Freedom'  , data = data)\n",
    "\n",
    "\n"
   ]
  },
  {
   "cell_type": "markdown",
   "id": "5b0b3a29",
   "metadata": {},
   "source": [
    "### people  from higher happiness score  countires get more freedom "
   ]
  },
  {
   "cell_type": "code",
   "execution_count": 16,
   "id": "beb13fa2",
   "metadata": {
    "scrolled": true
   },
   "outputs": [
    {
     "data": {
      "text/plain": [
       "<AxesSubplot:xlabel='Happiness Score', ylabel='Trust (Government Corruption)'>"
      ]
     },
     "execution_count": 16,
     "metadata": {},
     "output_type": "execute_result"
    },
    {
     "data": {
      "image/png": "[encoded data removed]",
      "text/plain": [
       "<Figure size 432x288 with 1 Axes>"
      ]
     },
     "metadata": {
      "needs_background": "light"
     },
     "output_type": "display_data"
    }
   ],
   "source": [
    "sns.scatterplot ( x = \"Happiness Score\" ,y =   'Trust (Government Corruption)', data = data)\n",
    "\n",
    "\n"
   ]
  },
  {
   "cell_type": "markdown",
   "id": "b8064381",
   "metadata": {},
   "source": [
    "### people trust the goverment when the happines score is  more "
   ]
  },
  {
   "cell_type": "code",
   "execution_count": 17,
   "id": "f63a9502",
   "metadata": {},
   "outputs": [
    {
     "data": {
      "text/plain": [
       "<AxesSubplot:xlabel='Happiness Score', ylabel='Generosity'>"
      ]
     },
     "execution_count": 17,
     "metadata": {},
     "output_type": "execute_result"
    },
    {
     "data": {
      "image/png": "[encoded data removed]",
      "text/plain": [
       "<Figure size 432x288 with 1 Axes>"
      ]
     },
     "metadata": {
      "needs_background": "light"
     },
     "output_type": "display_data"
    }
   ],
   "source": [
    "sns.scatterplot ( x = \"Happiness Score\" ,y = 'Generosity', data = data)\n",
    "\n",
    "\n"
   ]
  },
  {
   "cell_type": "markdown",
   "id": "911df9ff",
   "metadata": {},
   "source": [
    "### Happiness score has not much impact on  generosity of the people "
   ]
  },
  {
   "cell_type": "code",
   "execution_count": 18,
   "id": "36c1e167",
   "metadata": {},
   "outputs": [
    {
     "data": {
      "text/plain": [
       "<AxesSubplot:xlabel='Happiness Score', ylabel='Dystopia Residual'>"
      ]
     },
     "execution_count": 18,
     "metadata": {},
     "output_type": "execute_result"
    },
    {
     "data": {
      "image/png": "[encoded data removed]",
      "text/plain": [
       "<Figure size 432x288 with 1 Axes>"
      ]
     },
     "metadata": {
      "needs_background": "light"
     },
     "output_type": "display_data"
    }
   ],
   "source": [
    "sns.scatterplot ( x = \"Happiness Score\" ,y = 'Dystopia Residual', data = data)\n",
    "\n"
   ]
  },
  {
   "cell_type": "markdown",
   "id": "9bd44775",
   "metadata": {},
   "source": [
    "### high Dystopia Residual with high happiness score "
   ]
  },
  {
   "cell_type": "code",
   "execution_count": null,
   "id": "880a0383",
   "metadata": {},
   "outputs": [],
   "source": [
    " "
   ]
  },
  {
   "cell_type": "markdown",
   "id": "ea344189",
   "metadata": {},
   "source": [
    "# correlation"
   ]
  },
  {
   "cell_type": "code",
   "execution_count": 19,
   "id": "44edbd9e",
   "metadata": {},
   "outputs": [],
   "source": [
    "cor = data.corr()"
   ]
  },
  {
   "cell_type": "code",
   "execution_count": null,
   "id": "340e97f5",
   "metadata": {},
   "outputs": [],
   "source": []
  },
  {
   "cell_type": "code",
   "execution_count": 20,
   "id": "befe475b",
   "metadata": {},
   "outputs": [
    {
     "data": {
      "text/html": [
       "<div>\n",
       "<style scoped>\n",
       "    .dataframe tbody tr th:only-of-type {\n",
       "        vertical-align: middle;\n",
       "    }\n",
       "\n",
       "    .dataframe tbody tr th {\n",
       "        vertical-align: top;\n",
       "    }\n",
       "\n",
       "    .dataframe thead th {\n",
       "        text-align: right;\n",
       "    }\n",
       "</style>\n",
       "<table border=\"1\" class=\"dataframe\">\n",
       "  <thead>\n",
       "    <tr style=\"text-align: right;\">\n",
       "      <th></th>\n",
       "      <th>Happiness Rank</th>\n",
       "      <th>Happiness Score</th>\n",
       "      <th>Standard Error</th>\n",
       "      <th>Economy (GDP per Capita)</th>\n",
       "      <th>Family</th>\n",
       "      <th>Health (Life Expectancy)</th>\n",
       "      <th>Freedom</th>\n",
       "      <th>Trust (Government Corruption)</th>\n",
       "      <th>Generosity</th>\n",
       "      <th>Dystopia Residual</th>\n",
       "    </tr>\n",
       "  </thead>\n",
       "  <tbody>\n",
       "    <tr>\n",
       "      <th>Happiness Rank</th>\n",
       "      <td>1.000000</td>\n",
       "      <td>-0.992105</td>\n",
       "      <td>0.158516</td>\n",
       "      <td>-0.785267</td>\n",
       "      <td>-0.733644</td>\n",
       "      <td>-0.735613</td>\n",
       "      <td>-0.556886</td>\n",
       "      <td>-0.372315</td>\n",
       "      <td>-0.160142</td>\n",
       "      <td>-0.521999</td>\n",
       "    </tr>\n",
       "    <tr>\n",
       "      <th>Happiness Score</th>\n",
       "      <td>-0.992105</td>\n",
       "      <td>1.000000</td>\n",
       "      <td>-0.177254</td>\n",
       "      <td>0.780966</td>\n",
       "      <td>0.740605</td>\n",
       "      <td>0.724200</td>\n",
       "      <td>0.568211</td>\n",
       "      <td>0.395199</td>\n",
       "      <td>0.180319</td>\n",
       "      <td>0.530474</td>\n",
       "    </tr>\n",
       "    <tr>\n",
       "      <th>Standard Error</th>\n",
       "      <td>0.158516</td>\n",
       "      <td>-0.177254</td>\n",
       "      <td>1.000000</td>\n",
       "      <td>-0.217651</td>\n",
       "      <td>-0.120728</td>\n",
       "      <td>-0.310287</td>\n",
       "      <td>-0.129773</td>\n",
       "      <td>-0.178325</td>\n",
       "      <td>-0.088439</td>\n",
       "      <td>0.083981</td>\n",
       "    </tr>\n",
       "    <tr>\n",
       "      <th>Economy (GDP per Capita)</th>\n",
       "      <td>-0.785267</td>\n",
       "      <td>0.780966</td>\n",
       "      <td>-0.217651</td>\n",
       "      <td>1.000000</td>\n",
       "      <td>0.645299</td>\n",
       "      <td>0.816478</td>\n",
       "      <td>0.370300</td>\n",
       "      <td>0.307885</td>\n",
       "      <td>-0.010465</td>\n",
       "      <td>0.040059</td>\n",
       "    </tr>\n",
       "    <tr>\n",
       "      <th>Family</th>\n",
       "      <td>-0.733644</td>\n",
       "      <td>0.740605</td>\n",
       "      <td>-0.120728</td>\n",
       "      <td>0.645299</td>\n",
       "      <td>1.000000</td>\n",
       "      <td>0.531104</td>\n",
       "      <td>0.441518</td>\n",
       "      <td>0.205605</td>\n",
       "      <td>0.087513</td>\n",
       "      <td>0.148117</td>\n",
       "    </tr>\n",
       "    <tr>\n",
       "      <th>Health (Life Expectancy)</th>\n",
       "      <td>-0.735613</td>\n",
       "      <td>0.724200</td>\n",
       "      <td>-0.310287</td>\n",
       "      <td>0.816478</td>\n",
       "      <td>0.531104</td>\n",
       "      <td>1.000000</td>\n",
       "      <td>0.360477</td>\n",
       "      <td>0.248335</td>\n",
       "      <td>0.108335</td>\n",
       "      <td>0.018979</td>\n",
       "    </tr>\n",
       "    <tr>\n",
       "      <th>Freedom</th>\n",
       "      <td>-0.556886</td>\n",
       "      <td>0.568211</td>\n",
       "      <td>-0.129773</td>\n",
       "      <td>0.370300</td>\n",
       "      <td>0.441518</td>\n",
       "      <td>0.360477</td>\n",
       "      <td>1.000000</td>\n",
       "      <td>0.493524</td>\n",
       "      <td>0.373916</td>\n",
       "      <td>0.062783</td>\n",
       "    </tr>\n",
       "    <tr>\n",
       "      <th>Trust (Government Corruption)</th>\n",
       "      <td>-0.372315</td>\n",
       "      <td>0.395199</td>\n",
       "      <td>-0.178325</td>\n",
       "      <td>0.307885</td>\n",
       "      <td>0.205605</td>\n",
       "      <td>0.248335</td>\n",
       "      <td>0.493524</td>\n",
       "      <td>1.000000</td>\n",
       "      <td>0.276123</td>\n",
       "      <td>-0.033105</td>\n",
       "    </tr>\n",
       "    <tr>\n",
       "      <th>Generosity</th>\n",
       "      <td>-0.160142</td>\n",
       "      <td>0.180319</td>\n",
       "      <td>-0.088439</td>\n",
       "      <td>-0.010465</td>\n",
       "      <td>0.087513</td>\n",
       "      <td>0.108335</td>\n",
       "      <td>0.373916</td>\n",
       "      <td>0.276123</td>\n",
       "      <td>1.000000</td>\n",
       "      <td>-0.101301</td>\n",
       "    </tr>\n",
       "    <tr>\n",
       "      <th>Dystopia Residual</th>\n",
       "      <td>-0.521999</td>\n",
       "      <td>0.530474</td>\n",
       "      <td>0.083981</td>\n",
       "      <td>0.040059</td>\n",
       "      <td>0.148117</td>\n",
       "      <td>0.018979</td>\n",
       "      <td>0.062783</td>\n",
       "      <td>-0.033105</td>\n",
       "      <td>-0.101301</td>\n",
       "      <td>1.000000</td>\n",
       "    </tr>\n",
       "  </tbody>\n",
       "</table>\n",
       "</div>"
      ],
      "text/plain": [
       "                               Happiness Rank  Happiness Score  \\\n",
       "Happiness Rank                       1.000000        -0.992105   \n",
       "Happiness Score                     -0.992105         1.000000   \n",
       "Standard Error                       0.158516        -0.177254   \n",
       "Economy (GDP per Capita)            -0.785267         0.780966   \n",
       "Family                              -0.733644         0.740605   \n",
       "Health (Life Expectancy)            -0.735613         0.724200   \n",
       "Freedom                             -0.556886         0.568211   \n",
       "Trust (Government Corruption)       -0.372315         0.395199   \n",
       "Generosity                          -0.160142         0.180319   \n",
       "Dystopia Residual                   -0.521999         0.530474   \n",
       "\n",
       "                               Standard Error  Economy (GDP per Capita)  \\\n",
       "Happiness Rank                       0.158516                 -0.785267   \n",
       "Happiness Score                     -0.177254                  0.780966   \n",
       "Standard Error                       1.000000                 -0.217651   \n",
       "Economy (GDP per Capita)            -0.217651                  1.000000   \n",
       "Family                              -0.120728                  0.645299   \n",
       "Health (Life Expectancy)            -0.310287                  0.816478   \n",
       "Freedom                             -0.129773                  0.370300   \n",
       "Trust (Government Corruption)       -0.178325                  0.307885   \n",
       "Generosity                          -0.088439                 -0.010465   \n",
       "Dystopia Residual                    0.083981                  0.040059   \n",
       "\n",
       "                                 Family  Health (Life Expectancy)   Freedom  \\\n",
       "Happiness Rank                -0.733644                 -0.735613 -0.556886   \n",
       "Happiness Score                0.740605                  0.724200  0.568211   \n",
       "Standard Error                -0.120728                 -0.310287 -0.129773   \n",
       "Economy (GDP per Capita)       0.645299                  0.816478  0.370300   \n",
       "Family                         1.000000                  0.531104  0.441518   \n",
       "Health (Life Expectancy)       0.531104                  1.000000  0.360477   \n",
       "Freedom                        0.441518                  0.360477  1.000000   \n",
       "Trust (Government Corruption)  0.205605                  0.248335  0.493524   \n",
       "Generosity                     0.087513                  0.108335  0.373916   \n",
       "Dystopia Residual              0.148117                  0.018979  0.062783   \n",
       "\n",
       "                               Trust (Government Corruption)  Generosity  \\\n",
       "Happiness Rank                                     -0.372315   -0.160142   \n",
       "Happiness Score                                     0.395199    0.180319   \n",
       "Standard Error                                     -0.178325   -0.088439   \n",
       "Economy (GDP per Capita)                            0.307885   -0.010465   \n",
       "Family                                              0.205605    0.087513   \n",
       "Health (Life Expectancy)                            0.248335    0.108335   \n",
       "Freedom                                             0.493524    0.373916   \n",
       "Trust (Government Corruption)                       1.000000    0.276123   \n",
       "Generosity                                          0.276123    1.000000   \n",
       "Dystopia Residual                                  -0.033105   -0.101301   \n",
       "\n",
       "                               Dystopia Residual  \n",
       "Happiness Rank                         -0.521999  \n",
       "Happiness Score                         0.530474  \n",
       "Standard Error                          0.083981  \n",
       "Economy (GDP per Capita)                0.040059  \n",
       "Family                                  0.148117  \n",
       "Health (Life Expectancy)                0.018979  \n",
       "Freedom                                 0.062783  \n",
       "Trust (Government Corruption)          -0.033105  \n",
       "Generosity                             -0.101301  \n",
       "Dystopia Residual                       1.000000  "
      ]
     },
     "execution_count": 20,
     "metadata": {},
     "output_type": "execute_result"
    }
   ],
   "source": [
    "cor"
   ]
  },
  {
   "cell_type": "code",
   "execution_count": 21,
   "id": "5a0be9eb",
   "metadata": {},
   "outputs": [
    {
     "data": {
      "text/plain": [
       "Happiness Rank                  -0.992105\n",
       "Standard Error                  -0.177254\n",
       "Generosity                       0.180319\n",
       "Trust (Government Corruption)    0.395199\n",
       "Dystopia Residual                0.530474\n",
       "Freedom                          0.568211\n",
       "Health (Life Expectancy)         0.724200\n",
       "Family                           0.740605\n",
       "Economy (GDP per Capita)         0.780966\n",
       "Happiness Score                  1.000000\n",
       "Name: Happiness Score, dtype: float64"
      ]
     },
     "execution_count": 21,
     "metadata": {},
     "output_type": "execute_result"
    }
   ],
   "source": [
    "cor[\"Happiness Score\"].sort_values()"
   ]
  },
  {
   "cell_type": "markdown",
   "id": "a5f3a94a",
   "metadata": {},
   "source": [
    " # correlation using heat map"
   ]
  },
  {
   "cell_type": "code",
   "execution_count": 22,
   "id": "62c2d2ae",
   "metadata": {},
   "outputs": [
    {
     "data": {
      "text/plain": [
       "<AxesSubplot:>"
      ]
     },
     "execution_count": 22,
     "metadata": {},
     "output_type": "execute_result"
    },
    {
     "data": {
      "image/png": "[encoded data removed]",
      "text/plain": [
       "<Figure size 1080x648 with 2 Axes>"
      ]
     },
     "metadata": {
      "needs_background": "light"
     },
     "output_type": "display_data"
    }
   ],
   "source": [
    "plt.figure(figsize =  (15,9))\n",
    "sns.heatmap(cor,annot = True,linewidth = 0.5 ,linecolor = \"white\", fmt ='0.2')"
   ]
  },
  {
   "cell_type": "code",
   "execution_count": null,
   "id": "2195251a",
   "metadata": {},
   "outputs": [],
   "source": []
  },
  {
   "cell_type": "markdown",
   "id": "c8596daf",
   "metadata": {},
   "source": [
    "# outcome of heatmap correlation :\n",
    "\n",
    "## in  total 10 columns 2 columns have negative impact on happiness scores\n",
    "\n",
    "\n",
    "### 1. Happiness rank  (-99%) is the negatively  impacting  happiness score \n",
    "\n",
    "### 2 . standard error (-18%) is another one that negatively affecting happiness score\n",
    "\n",
    "### 3 .Economy (GDP per Capita)     has the  strongest correlation with happiness score , i.e 78%\n",
    "\n",
    "### 4 .Family is the second  strongest correlation with happiness score , i.e 74%\n",
    "\n",
    "### 5 . Health (Life Expectancy)\talso has a strong correlation of 72 % with happiness score\n",
    "\n",
    "### 6.  Freedom has a strong correlation of 57 % with happiness score\n",
    "\n",
    "### 7 .  Trust (Government Corruption)\t has a correltion of good correlation of 40 % \n",
    "\n",
    "### 8 . Generosity\t has a positve correlation but the  weakest correlation 18%\n",
    "\n",
    "### 9 . Dystopia Residual has a strong correlation of 53 %\n",
    "\n",
    "\n",
    "## max correlation is with  Economy (GDP per Capita)\n",
    "## min correlation is with Happiness rank"
   ]
  },
  {
   "cell_type": "code",
   "execution_count": null,
   "id": "646a151b",
   "metadata": {},
   "outputs": [],
   "source": []
  },
  {
   "cell_type": "markdown",
   "id": "f84bf00b",
   "metadata": {},
   "source": [
    "# Describing datasets:"
   ]
  },
  {
   "cell_type": "code",
   "execution_count": 23,
   "id": "824920a8",
   "metadata": {},
   "outputs": [],
   "source": [
    "des = data.describe()"
   ]
  },
  {
   "cell_type": "code",
   "execution_count": 24,
   "id": "ef0c32f5",
   "metadata": {},
   "outputs": [
    {
     "data": {
      "text/html": [
       "<div>\n",
       "<style scoped>\n",
       "    .dataframe tbody tr th:only-of-type {\n",
       "        vertical-align: middle;\n",
       "    }\n",
       "\n",
       "    .dataframe tbody tr th {\n",
       "        vertical-align: top;\n",
       "    }\n",
       "\n",
       "    .dataframe thead th {\n",
       "        text-align: right;\n",
       "    }\n",
       "</style>\n",
       "<table border=\"1\" class=\"dataframe\">\n",
       "  <thead>\n",
       "    <tr style=\"text-align: right;\">\n",
       "      <th></th>\n",
       "      <th>Happiness Rank</th>\n",
       "      <th>Happiness Score</th>\n",
       "      <th>Standard Error</th>\n",
       "      <th>Economy (GDP per Capita)</th>\n",
       "      <th>Family</th>\n",
       "      <th>Health (Life Expectancy)</th>\n",
       "      <th>Freedom</th>\n",
       "      <th>Trust (Government Corruption)</th>\n",
       "      <th>Generosity</th>\n",
       "      <th>Dystopia Residual</th>\n",
       "    </tr>\n",
       "  </thead>\n",
       "  <tbody>\n",
       "    <tr>\n",
       "      <th>count</th>\n",
       "      <td>158.000000</td>\n",
       "      <td>158.000000</td>\n",
       "      <td>158.000000</td>\n",
       "      <td>158.000000</td>\n",
       "      <td>158.000000</td>\n",
       "      <td>158.000000</td>\n",
       "      <td>158.000000</td>\n",
       "      <td>158.000000</td>\n",
       "      <td>158.000000</td>\n",
       "      <td>158.000000</td>\n",
       "    </tr>\n",
       "    <tr>\n",
       "      <th>mean</th>\n",
       "      <td>79.493671</td>\n",
       "      <td>5.375734</td>\n",
       "      <td>0.047885</td>\n",
       "      <td>0.846137</td>\n",
       "      <td>0.991046</td>\n",
       "      <td>0.630259</td>\n",
       "      <td>0.428615</td>\n",
       "      <td>0.143422</td>\n",
       "      <td>0.237296</td>\n",
       "      <td>2.098977</td>\n",
       "    </tr>\n",
       "    <tr>\n",
       "      <th>std</th>\n",
       "      <td>45.754363</td>\n",
       "      <td>1.145010</td>\n",
       "      <td>0.017146</td>\n",
       "      <td>0.403121</td>\n",
       "      <td>0.272369</td>\n",
       "      <td>0.247078</td>\n",
       "      <td>0.150693</td>\n",
       "      <td>0.120034</td>\n",
       "      <td>0.126685</td>\n",
       "      <td>0.553550</td>\n",
       "    </tr>\n",
       "    <tr>\n",
       "      <th>min</th>\n",
       "      <td>1.000000</td>\n",
       "      <td>2.839000</td>\n",
       "      <td>0.018480</td>\n",
       "      <td>0.000000</td>\n",
       "      <td>0.000000</td>\n",
       "      <td>0.000000</td>\n",
       "      <td>0.000000</td>\n",
       "      <td>0.000000</td>\n",
       "      <td>0.000000</td>\n",
       "      <td>0.328580</td>\n",
       "    </tr>\n",
       "    <tr>\n",
       "      <th>25%</th>\n",
       "      <td>40.250000</td>\n",
       "      <td>4.526000</td>\n",
       "      <td>0.037268</td>\n",
       "      <td>0.545808</td>\n",
       "      <td>0.856823</td>\n",
       "      <td>0.439185</td>\n",
       "      <td>0.328330</td>\n",
       "      <td>0.061675</td>\n",
       "      <td>0.150553</td>\n",
       "      <td>1.759410</td>\n",
       "    </tr>\n",
       "    <tr>\n",
       "      <th>50%</th>\n",
       "      <td>79.500000</td>\n",
       "      <td>5.232500</td>\n",
       "      <td>0.043940</td>\n",
       "      <td>0.910245</td>\n",
       "      <td>1.029510</td>\n",
       "      <td>0.696705</td>\n",
       "      <td>0.435515</td>\n",
       "      <td>0.107220</td>\n",
       "      <td>0.216130</td>\n",
       "      <td>2.095415</td>\n",
       "    </tr>\n",
       "    <tr>\n",
       "      <th>75%</th>\n",
       "      <td>118.750000</td>\n",
       "      <td>6.243750</td>\n",
       "      <td>0.052300</td>\n",
       "      <td>1.158448</td>\n",
       "      <td>1.214405</td>\n",
       "      <td>0.811013</td>\n",
       "      <td>0.549092</td>\n",
       "      <td>0.180255</td>\n",
       "      <td>0.309883</td>\n",
       "      <td>2.462415</td>\n",
       "    </tr>\n",
       "    <tr>\n",
       "      <th>max</th>\n",
       "      <td>158.000000</td>\n",
       "      <td>7.587000</td>\n",
       "      <td>0.136930</td>\n",
       "      <td>1.690420</td>\n",
       "      <td>1.402230</td>\n",
       "      <td>1.025250</td>\n",
       "      <td>0.669730</td>\n",
       "      <td>0.551910</td>\n",
       "      <td>0.795880</td>\n",
       "      <td>3.602140</td>\n",
       "    </tr>\n",
       "  </tbody>\n",
       "</table>\n",
       "</div>"
      ],
      "text/plain": [
       "       Happiness Rank  Happiness Score  Standard Error  \\\n",
       "count      158.000000       158.000000      158.000000   \n",
       "mean        79.493671         5.375734        0.047885   \n",
       "std         45.754363         1.145010        0.017146   \n",
       "min          1.000000         2.839000        0.018480   \n",
       "25%         40.250000         4.526000        0.037268   \n",
       "50%         79.500000         5.232500        0.043940   \n",
       "75%        118.750000         6.243750        0.052300   \n",
       "max        158.000000         7.587000        0.136930   \n",
       "\n",
       "       Economy (GDP per Capita)      Family  Health (Life Expectancy)  \\\n",
       "count                158.000000  158.000000                158.000000   \n",
       "mean                   0.846137    0.991046                  0.630259   \n",
       "std                    0.403121    0.272369                  0.247078   \n",
       "min                    0.000000    0.000000                  0.000000   \n",
       "25%                    0.545808    0.856823                  0.439185   \n",
       "50%                    0.910245    1.029510                  0.696705   \n",
       "75%                    1.158448    1.214405                  0.811013   \n",
       "max                    1.690420    1.402230                  1.025250   \n",
       "\n",
       "          Freedom  Trust (Government Corruption)  Generosity  \\\n",
       "count  158.000000                     158.000000  158.000000   \n",
       "mean     0.428615                       0.143422    0.237296   \n",
       "std      0.150693                       0.120034    0.126685   \n",
       "min      0.000000                       0.000000    0.000000   \n",
       "25%      0.328330                       0.061675    0.150553   \n",
       "50%      0.435515                       0.107220    0.216130   \n",
       "75%      0.549092                       0.180255    0.309883   \n",
       "max      0.669730                       0.551910    0.795880   \n",
       "\n",
       "       Dystopia Residual  \n",
       "count         158.000000  \n",
       "mean            2.098977  \n",
       "std             0.553550  \n",
       "min             0.328580  \n",
       "25%             1.759410  \n",
       "50%             2.095415  \n",
       "75%             2.462415  \n",
       "max             3.602140  "
      ]
     },
     "execution_count": 24,
     "metadata": {},
     "output_type": "execute_result"
    }
   ],
   "source": [
    "des"
   ]
  },
  {
   "cell_type": "code",
   "execution_count": 25,
   "id": "dc758cd1",
   "metadata": {},
   "outputs": [],
   "source": [
    "des.drop([\"Happiness Score\"] , axis = 1 , inplace =  True )"
   ]
  },
  {
   "cell_type": "code",
   "execution_count": null,
   "id": "10d9b51a",
   "metadata": {},
   "outputs": [],
   "source": []
  },
  {
   "cell_type": "markdown",
   "id": "5f4ffbe6",
   "metadata": {},
   "source": [
    "### heatmap"
   ]
  },
  {
   "cell_type": "code",
   "execution_count": 26,
   "id": "9f11360f",
   "metadata": {},
   "outputs": [
    {
     "data": {
      "text/plain": [
       "<AxesSubplot:>"
      ]
     },
     "execution_count": 26,
     "metadata": {},
     "output_type": "execute_result"
    },
    {
     "data": {
      "image/png": "[encoded data removed]",
      "text/plain": [
       "<Figure size 1080x504 with 2 Axes>"
      ]
     },
     "metadata": {
      "needs_background": "light"
     },
     "output_type": "display_data"
    }
   ],
   "source": [
    "plt.figure(figsize = (15,7))\n",
    "sns.heatmap(round(des.transpose()),2 , annot = True)"
   ]
  },
  {
   "cell_type": "code",
   "execution_count": null,
   "id": "0a095bb5",
   "metadata": {},
   "outputs": [],
   "source": []
  },
  {
   "cell_type": "code",
   "execution_count": null,
   "id": "ee8fdeb4",
   "metadata": {},
   "outputs": [],
   "source": []
  },
  {
   "cell_type": "code",
   "execution_count": 27,
   "id": "81cfa5e5",
   "metadata": {},
   "outputs": [
    {
     "data": {
      "text/plain": [
       "(158, 12)"
      ]
     },
     "execution_count": 27,
     "metadata": {},
     "output_type": "execute_result"
    }
   ],
   "source": [
    "data.shape"
   ]
  },
  {
   "cell_type": "markdown",
   "id": "30e43763",
   "metadata": {},
   "source": [
    "# outcome of description of data"
   ]
  },
  {
   "cell_type": "markdown",
   "id": "ce000cab",
   "metadata": {},
   "source": [
    "### rows = 158\n",
    "### columns = 12\n",
    "\n",
    "## Happiness Rank :\n",
    "#### mean\t 79.493671\t\n",
    "#### std\t     45.754363\t\n",
    "#### min\t    1.000000\t\n",
    "#### median  79.500000\t\n",
    "#### max\t    158.000000\t\n",
    "\n",
    "\n",
    "## Standard Error :\n",
    "#### mean\t  0.047885\n",
    "#### std\t     0.017146\n",
    "#### min\t    0.018480\n",
    "#### median  0.043940\n",
    "#### max\t    0.136930\n",
    "\n",
    "## Economy (GDP per Capita)\t\n",
    "\n",
    "#### mean\t   0.846137\n",
    "#### std\t      0.403121\n",
    "#### min\t     0.000000\n",
    "#### median   0.910245\n",
    "#### max\t    1.690420\n",
    "\n",
    "## Family\n",
    "\n",
    "#### mean\t   0.991046\n",
    "#### std\t      0.272369\n",
    "#### min\t     0.000000\n",
    "#### median   1.029510\n",
    "#### max\t    1.402230\n",
    "\n",
    "## Health (Life Expectancy)\t\n",
    "\n",
    "#### mean\t    0.630259\n",
    "#### std\t       0.247078\n",
    "#### min\t      0.000000\n",
    "#### median \t0.696705\n",
    "#### max\t      1.025250\n",
    "\n",
    "## Freedom\n",
    "\n",
    "#### mean\t 0.428615\n",
    "#### std\t     0.150693\n",
    "#### min\t    0.000000\n",
    "#### median   0.435515\n",
    "#### max\t    0.669730\n",
    "\n",
    "\n",
    "\n",
    "## Trust (Government Corruption)\t\n",
    "\n",
    "\n",
    "#### mean\t 0.143422\t\n",
    "#### std\t    0.120034\n",
    "#### min\t   0.000000\n",
    "#### median 0.107220\n",
    "#### max\t  0.551910\n",
    "\n",
    "\n",
    "\n",
    "\n",
    "## Generosity\t\n",
    "\n",
    "#### mean\t  0.237296\n",
    "#### std\t     0.126685\n",
    "#### min\t    0.000000\n",
    "#### median  0.216130\n",
    "#### max\t    0.795880\n",
    "\n",
    "\n",
    "\n",
    "## Dystopia Residual\n",
    "\n",
    "#### mean      2.098977\n",
    "#### std\t     0.553550\n",
    "#### min\t    0.328580\n",
    "#### median  2.095415\n",
    "#### max\t   3.602140\n"
   ]
  },
  {
   "cell_type": "code",
   "execution_count": 28,
   "id": "d365c458",
   "metadata": {},
   "outputs": [
    {
     "name": "stdout",
     "output_type": "stream",
     "text": [
      "<class 'pandas.core.frame.DataFrame'>\n",
      "RangeIndex: 158 entries, 0 to 157\n",
      "Data columns (total 12 columns):\n",
      " #   Column                         Non-Null Count  Dtype  \n",
      "---  ------                         --------------  -----  \n",
      " 0   Country                        158 non-null    object \n",
      " 1   Region                         158 non-null    object \n",
      " 2   Happiness Rank                 158 non-null    int64  \n",
      " 3   Happiness Score                158 non-null    float64\n",
      " 4   Standard Error                 158 non-null    float64\n",
      " 5   Economy (GDP per Capita)       158 non-null    float64\n",
      " 6   Family                         158 non-null    float64\n",
      " 7   Health (Life Expectancy)       158 non-null    float64\n",
      " 8   Freedom                        158 non-null    float64\n",
      " 9   Trust (Government Corruption)  158 non-null    float64\n",
      " 10  Generosity                     158 non-null    float64\n",
      " 11  Dystopia Residual              158 non-null    float64\n",
      "dtypes: float64(9), int64(1), object(2)\n",
      "memory usage: 14.9+ KB\n"
     ]
    }
   ],
   "source": [
    "data.info()"
   ]
  },
  {
   "cell_type": "code",
   "execution_count": 29,
   "id": "9c02bf96",
   "metadata": {},
   "outputs": [],
   "source": [
    "data.drop([\"Country\",\"Region\"],axis = 1  , inplace = True)"
   ]
  },
  {
   "cell_type": "code",
   "execution_count": null,
   "id": "af0947f0",
   "metadata": {},
   "outputs": [],
   "source": []
  },
  {
   "cell_type": "code",
   "execution_count": 30,
   "id": "3b25187d",
   "metadata": {},
   "outputs": [
    {
     "data": {
      "text/html": [
       "<div>\n",
       "<style scoped>\n",
       "    .dataframe tbody tr th:only-of-type {\n",
       "        vertical-align: middle;\n",
       "    }\n",
       "\n",
       "    .dataframe tbody tr th {\n",
       "        vertical-align: top;\n",
       "    }\n",
       "\n",
       "    .dataframe thead th {\n",
       "        text-align: right;\n",
       "    }\n",
       "</style>\n",
       "<table border=\"1\" class=\"dataframe\">\n",
       "  <thead>\n",
       "    <tr style=\"text-align: right;\">\n",
       "      <th></th>\n",
       "      <th>Happiness Rank</th>\n",
       "      <th>Happiness Score</th>\n",
       "      <th>Standard Error</th>\n",
       "      <th>Economy (GDP per Capita)</th>\n",
       "      <th>Family</th>\n",
       "      <th>Health (Life Expectancy)</th>\n",
       "      <th>Freedom</th>\n",
       "      <th>Trust (Government Corruption)</th>\n",
       "      <th>Generosity</th>\n",
       "      <th>Dystopia Residual</th>\n",
       "    </tr>\n",
       "  </thead>\n",
       "  <tbody>\n",
       "    <tr>\n",
       "      <th>0</th>\n",
       "      <td>1</td>\n",
       "      <td>7.587</td>\n",
       "      <td>0.03411</td>\n",
       "      <td>1.39651</td>\n",
       "      <td>1.34951</td>\n",
       "      <td>0.94143</td>\n",
       "      <td>0.66557</td>\n",
       "      <td>0.41978</td>\n",
       "      <td>0.29678</td>\n",
       "      <td>2.51738</td>\n",
       "    </tr>\n",
       "    <tr>\n",
       "      <th>1</th>\n",
       "      <td>2</td>\n",
       "      <td>7.561</td>\n",
       "      <td>0.04884</td>\n",
       "      <td>1.30232</td>\n",
       "      <td>1.40223</td>\n",
       "      <td>0.94784</td>\n",
       "      <td>0.62877</td>\n",
       "      <td>0.14145</td>\n",
       "      <td>0.43630</td>\n",
       "      <td>2.70201</td>\n",
       "    </tr>\n",
       "    <tr>\n",
       "      <th>2</th>\n",
       "      <td>3</td>\n",
       "      <td>7.527</td>\n",
       "      <td>0.03328</td>\n",
       "      <td>1.32548</td>\n",
       "      <td>1.36058</td>\n",
       "      <td>0.87464</td>\n",
       "      <td>0.64938</td>\n",
       "      <td>0.48357</td>\n",
       "      <td>0.34139</td>\n",
       "      <td>2.49204</td>\n",
       "    </tr>\n",
       "    <tr>\n",
       "      <th>3</th>\n",
       "      <td>4</td>\n",
       "      <td>7.522</td>\n",
       "      <td>0.03880</td>\n",
       "      <td>1.45900</td>\n",
       "      <td>1.33095</td>\n",
       "      <td>0.88521</td>\n",
       "      <td>0.66973</td>\n",
       "      <td>0.36503</td>\n",
       "      <td>0.34699</td>\n",
       "      <td>2.46531</td>\n",
       "    </tr>\n",
       "    <tr>\n",
       "      <th>4</th>\n",
       "      <td>5</td>\n",
       "      <td>7.427</td>\n",
       "      <td>0.03553</td>\n",
       "      <td>1.32629</td>\n",
       "      <td>1.32261</td>\n",
       "      <td>0.90563</td>\n",
       "      <td>0.63297</td>\n",
       "      <td>0.32957</td>\n",
       "      <td>0.45811</td>\n",
       "      <td>2.45176</td>\n",
       "    </tr>\n",
       "    <tr>\n",
       "      <th>...</th>\n",
       "      <td>...</td>\n",
       "      <td>...</td>\n",
       "      <td>...</td>\n",
       "      <td>...</td>\n",
       "      <td>...</td>\n",
       "      <td>...</td>\n",
       "      <td>...</td>\n",
       "      <td>...</td>\n",
       "      <td>...</td>\n",
       "      <td>...</td>\n",
       "    </tr>\n",
       "    <tr>\n",
       "      <th>153</th>\n",
       "      <td>154</td>\n",
       "      <td>3.465</td>\n",
       "      <td>0.03464</td>\n",
       "      <td>0.22208</td>\n",
       "      <td>0.77370</td>\n",
       "      <td>0.42864</td>\n",
       "      <td>0.59201</td>\n",
       "      <td>0.55191</td>\n",
       "      <td>0.22628</td>\n",
       "      <td>0.67042</td>\n",
       "    </tr>\n",
       "    <tr>\n",
       "      <th>154</th>\n",
       "      <td>155</td>\n",
       "      <td>3.340</td>\n",
       "      <td>0.03656</td>\n",
       "      <td>0.28665</td>\n",
       "      <td>0.35386</td>\n",
       "      <td>0.31910</td>\n",
       "      <td>0.48450</td>\n",
       "      <td>0.08010</td>\n",
       "      <td>0.18260</td>\n",
       "      <td>1.63328</td>\n",
       "    </tr>\n",
       "    <tr>\n",
       "      <th>155</th>\n",
       "      <td>156</td>\n",
       "      <td>3.006</td>\n",
       "      <td>0.05015</td>\n",
       "      <td>0.66320</td>\n",
       "      <td>0.47489</td>\n",
       "      <td>0.72193</td>\n",
       "      <td>0.15684</td>\n",
       "      <td>0.18906</td>\n",
       "      <td>0.47179</td>\n",
       "      <td>0.32858</td>\n",
       "    </tr>\n",
       "    <tr>\n",
       "      <th>156</th>\n",
       "      <td>157</td>\n",
       "      <td>2.905</td>\n",
       "      <td>0.08658</td>\n",
       "      <td>0.01530</td>\n",
       "      <td>0.41587</td>\n",
       "      <td>0.22396</td>\n",
       "      <td>0.11850</td>\n",
       "      <td>0.10062</td>\n",
       "      <td>0.19727</td>\n",
       "      <td>1.83302</td>\n",
       "    </tr>\n",
       "    <tr>\n",
       "      <th>157</th>\n",
       "      <td>158</td>\n",
       "      <td>2.839</td>\n",
       "      <td>0.06727</td>\n",
       "      <td>0.20868</td>\n",
       "      <td>0.13995</td>\n",
       "      <td>0.28443</td>\n",
       "      <td>0.36453</td>\n",
       "      <td>0.10731</td>\n",
       "      <td>0.16681</td>\n",
       "      <td>1.56726</td>\n",
       "    </tr>\n",
       "  </tbody>\n",
       "</table>\n",
       "<p>158 rows × 10 columns</p>\n",
       "</div>"
      ],
      "text/plain": [
       "     Happiness Rank  Happiness Score  Standard Error  \\\n",
       "0                 1            7.587         0.03411   \n",
       "1                 2            7.561         0.04884   \n",
       "2                 3            7.527         0.03328   \n",
       "3                 4            7.522         0.03880   \n",
       "4                 5            7.427         0.03553   \n",
       "..              ...              ...             ...   \n",
       "153             154            3.465         0.03464   \n",
       "154             155            3.340         0.03656   \n",
       "155             156            3.006         0.05015   \n",
       "156             157            2.905         0.08658   \n",
       "157             158            2.839         0.06727   \n",
       "\n",
       "     Economy (GDP per Capita)   Family  Health (Life Expectancy)  Freedom  \\\n",
       "0                     1.39651  1.34951                   0.94143  0.66557   \n",
       "1                     1.30232  1.40223                   0.94784  0.62877   \n",
       "2                     1.32548  1.36058                   0.87464  0.64938   \n",
       "3                     1.45900  1.33095                   0.88521  0.66973   \n",
       "4                     1.32629  1.32261                   0.90563  0.63297   \n",
       "..                        ...      ...                       ...      ...   \n",
       "153                   0.22208  0.77370                   0.42864  0.59201   \n",
       "154                   0.28665  0.35386                   0.31910  0.48450   \n",
       "155                   0.66320  0.47489                   0.72193  0.15684   \n",
       "156                   0.01530  0.41587                   0.22396  0.11850   \n",
       "157                   0.20868  0.13995                   0.28443  0.36453   \n",
       "\n",
       "     Trust (Government Corruption)  Generosity  Dystopia Residual  \n",
       "0                          0.41978     0.29678            2.51738  \n",
       "1                          0.14145     0.43630            2.70201  \n",
       "2                          0.48357     0.34139            2.49204  \n",
       "3                          0.36503     0.34699            2.46531  \n",
       "4                          0.32957     0.45811            2.45176  \n",
       "..                             ...         ...                ...  \n",
       "153                        0.55191     0.22628            0.67042  \n",
       "154                        0.08010     0.18260            1.63328  \n",
       "155                        0.18906     0.47179            0.32858  \n",
       "156                        0.10062     0.19727            1.83302  \n",
       "157                        0.10731     0.16681            1.56726  \n",
       "\n",
       "[158 rows x 10 columns]"
      ]
     },
     "execution_count": 30,
     "metadata": {},
     "output_type": "execute_result"
    }
   ],
   "source": [
    "data"
   ]
  },
  {
   "cell_type": "markdown",
   "id": "6a28090d",
   "metadata": {},
   "source": [
    "# outliers checking "
   ]
  },
  {
   "cell_type": "code",
   "execution_count": 31,
   "id": "b8646e52",
   "metadata": {
    "scrolled": true
   },
   "outputs": [
    {
     "data": {
      "image/png": "[encoded data removed]",
      "text/plain": [
       "<Figure size 1728x60480 with 10 Axes>"
      ]
     },
     "metadata": {
      "needs_background": "light"
     },
     "output_type": "display_data"
    }
   ],
   "source": [
    "column = data.columns.values\n",
    "ncol = 12\n",
    "nrows = 158\n",
    "plt.figure(figsize = (2*ncol,70*ncol))\n",
    "for i in range ( 0 ,len(column)):\n",
    "    plt.subplot(nrows,ncol,i+1)\n",
    "    sns.boxplot(data[column[i]],color =\"green\",orient = \"h\")    \n",
    "    plt.tight_layout()"
   ]
  },
  {
   "cell_type": "markdown",
   "id": "9cf8d061",
   "metadata": {},
   "source": [
    "### from above plot , outliers are preset in standard error, family , Trust (Government Corruption), Generosity and Dystopia Residual\n"
   ]
  },
  {
   "cell_type": "code",
   "execution_count": null,
   "id": "f12fc4ec",
   "metadata": {},
   "outputs": [],
   "source": []
  },
  {
   "cell_type": "markdown",
   "id": "cb28ed00",
   "metadata": {},
   "source": [
    "# checking skewness : \n"
   ]
  },
  {
   "cell_type": "code",
   "execution_count": 32,
   "id": "685d7e0b",
   "metadata": {
    "scrolled": true
   },
   "outputs": [
    {
     "data": {
      "text/plain": [
       "Happiness Rank                   0.000418\n",
       "Happiness Score                  0.097769\n",
       "Standard Error                   1.983439\n",
       "Economy (GDP per Capita)        -0.317575\n",
       "Family                          -1.006893\n",
       "Health (Life Expectancy)        -0.705328\n",
       "Freedom                         -0.413462\n",
       "Trust (Government Corruption)    1.385463\n",
       "Generosity                       1.001961\n",
       "Dystopia Residual               -0.238911\n",
       "dtype: float64"
      ]
     },
     "execution_count": 32,
     "metadata": {},
     "output_type": "execute_result"
    }
   ],
   "source": [
    "data.skew()"
   ]
  },
  {
   "cell_type": "markdown",
   "id": "52a5d574",
   "metadata": {},
   "source": [
    "#### skewness threshold   is taken as +/- 0.80\n",
    "#### columns  which exceeds threshold values are  Standard Error , family , Trust (Government Corruption)   , Generosity  "
   ]
  },
  {
   "cell_type": "markdown",
   "id": "5365611a",
   "metadata": {},
   "source": []
  },
  {
   "cell_type": "markdown",
   "id": "8c35f96c",
   "metadata": {},
   "source": [
    "# Normal Distribustion Curve :"
   ]
  },
  {
   "cell_type": "code",
   "execution_count": 33,
   "id": "4ce86bcb",
   "metadata": {},
   "outputs": [
    {
     "data": {
      "text/plain": [
       "<AxesSubplot:xlabel='Happiness Rank', ylabel='Density'>"
      ]
     },
     "execution_count": 33,
     "metadata": {},
     "output_type": "execute_result"
    },
    {
     "data": {
      "image/png": "[encoded data removed]",
      "text/plain": [
       "<Figure size 432x288 with 1 Axes>"
      ]
     },
     "metadata": {
      "needs_background": "light"
     },
     "output_type": "display_data"
    }
   ],
   "source": [
    "\n",
    "sns.distplot (data[\"Happiness Rank\"])"
   ]
  },
  {
   "cell_type": "code",
   "execution_count": 34,
   "id": "58f62580",
   "metadata": {},
   "outputs": [
    {
     "data": {
      "text/plain": [
       "<AxesSubplot:xlabel='Happiness Score', ylabel='Density'>"
      ]
     },
     "execution_count": 34,
     "metadata": {},
     "output_type": "execute_result"
    },
    {
     "data": {
      "image/png": "[encoded data removed]",
      "text/plain": [
       "<Figure size 432x288 with 1 Axes>"
      ]
     },
     "metadata": {
      "needs_background": "light"
     },
     "output_type": "display_data"
    }
   ],
   "source": [
    "sns.distplot (data[\"Happiness Score\"])"
   ]
  },
  {
   "cell_type": "code",
   "execution_count": 35,
   "id": "e6459616",
   "metadata": {},
   "outputs": [
    {
     "data": {
      "text/plain": [
       "<AxesSubplot:xlabel='Standard Error', ylabel='Density'>"
      ]
     },
     "execution_count": 35,
     "metadata": {},
     "output_type": "execute_result"
    },
    {
     "data": {
      "image/png": "[encoded data removed]",
      "text/plain": [
       "<Figure size 432x288 with 1 Axes>"
      ]
     },
     "metadata": {
      "needs_background": "light"
     },
     "output_type": "display_data"
    }
   ],
   "source": [
    "sns.distplot (data[\"Standard Error\"])\n"
   ]
  },
  {
   "cell_type": "code",
   "execution_count": 36,
   "id": "4e26c760",
   "metadata": {},
   "outputs": [
    {
     "data": {
      "text/plain": [
       "<AxesSubplot:xlabel='Economy (GDP per Capita)', ylabel='Density'>"
      ]
     },
     "execution_count": 36,
     "metadata": {},
     "output_type": "execute_result"
    },
    {
     "data": {
      "image/png": "[encoded data removed]",
      "text/plain": [
       "<Figure size 432x288 with 1 Axes>"
      ]
     },
     "metadata": {
      "needs_background": "light"
     },
     "output_type": "display_data"
    }
   ],
   "source": [
    "sns.distplot (data[\"Economy (GDP per Capita)\"])\n"
   ]
  },
  {
   "cell_type": "code",
   "execution_count": 37,
   "id": "60de0c7c",
   "metadata": {},
   "outputs": [
    {
     "data": {
      "text/plain": [
       "<AxesSubplot:xlabel='Family', ylabel='Density'>"
      ]
     },
     "execution_count": 37,
     "metadata": {},
     "output_type": "execute_result"
    },
    {
     "data": {
      "image/png": "[encoded data removed]",
      "text/plain": [
       "<Figure size 432x288 with 1 Axes>"
      ]
     },
     "metadata": {
      "needs_background": "light"
     },
     "output_type": "display_data"
    }
   ],
   "source": [
    "sns.distplot (data[\"Family\"])\n",
    "\n",
    "\n"
   ]
  },
  {
   "cell_type": "code",
   "execution_count": 38,
   "id": "2d86af50",
   "metadata": {},
   "outputs": [
    {
     "data": {
      "text/plain": [
       "<AxesSubplot:xlabel='Health (Life Expectancy)', ylabel='Density'>"
      ]
     },
     "execution_count": 38,
     "metadata": {},
     "output_type": "execute_result"
    },
    {
     "data": {
      "image/png": "[encoded data removed]",
      "text/plain": [
       "<Figure size 432x288 with 1 Axes>"
      ]
     },
     "metadata": {
      "needs_background": "light"
     },
     "output_type": "display_data"
    }
   ],
   "source": [
    "sns.distplot (data[\"Health (Life Expectancy)\"])\n"
   ]
  },
  {
   "cell_type": "code",
   "execution_count": 39,
   "id": "2db9f903",
   "metadata": {},
   "outputs": [
    {
     "data": {
      "text/plain": [
       "<AxesSubplot:xlabel='Freedom', ylabel='Density'>"
      ]
     },
     "execution_count": 39,
     "metadata": {},
     "output_type": "execute_result"
    },
    {
     "data": {
      "image/png": "[encoded data removed]",
      "text/plain": [
       "<Figure size 432x288 with 1 Axes>"
      ]
     },
     "metadata": {
      "needs_background": "light"
     },
     "output_type": "display_data"
    }
   ],
   "source": [
    "sns.distplot (data[\"Freedom\"])\n",
    "\n",
    "\n"
   ]
  },
  {
   "cell_type": "code",
   "execution_count": 40,
   "id": "b05d270a",
   "metadata": {},
   "outputs": [
    {
     "data": {
      "text/plain": [
       "<AxesSubplot:xlabel='Trust (Government Corruption)', ylabel='Density'>"
      ]
     },
     "execution_count": 40,
     "metadata": {},
     "output_type": "execute_result"
    },
    {
     "data": {
      "image/png": "[encoded data removed]",
      "text/plain": [
       "<Figure size 432x288 with 1 Axes>"
      ]
     },
     "metadata": {
      "needs_background": "light"
     },
     "output_type": "display_data"
    }
   ],
   "source": [
    "sns.distplot (data[\"Trust (Government Corruption)\"])\n",
    "\n",
    "\n"
   ]
  },
  {
   "cell_type": "code",
   "execution_count": 41,
   "id": "d701e2f3",
   "metadata": {},
   "outputs": [
    {
     "data": {
      "text/plain": [
       "<AxesSubplot:xlabel='Generosity', ylabel='Density'>"
      ]
     },
     "execution_count": 41,
     "metadata": {},
     "output_type": "execute_result"
    },
    {
     "data": {
      "image/png": "[encoded data removed]",
      "text/plain": [
       "<Figure size 432x288 with 1 Axes>"
      ]
     },
     "metadata": {
      "needs_background": "light"
     },
     "output_type": "display_data"
    }
   ],
   "source": [
    "sns.distplot (data[\"Generosity\"])\n",
    "\n",
    "\n"
   ]
  },
  {
   "cell_type": "code",
   "execution_count": 42,
   "id": "ede5374b",
   "metadata": {},
   "outputs": [
    {
     "data": {
      "text/plain": [
       "<AxesSubplot:xlabel='Dystopia Residual', ylabel='Density'>"
      ]
     },
     "execution_count": 42,
     "metadata": {},
     "output_type": "execute_result"
    },
    {
     "data": {
      "image/png": "[encoded data removed]",
      "text/plain": [
       "<Figure size 432x288 with 1 Axes>"
      ]
     },
     "metadata": {
      "needs_background": "light"
     },
     "output_type": "display_data"
    }
   ],
   "source": [
    "sns.distplot (data[\"Dystopia Residual\"])\n",
    "\n",
    "\n"
   ]
  },
  {
   "cell_type": "markdown",
   "id": "1527f0d5",
   "metadata": {},
   "source": [
    "### normal distrbution shows datas are  skewed   "
   ]
  },
  {
   "cell_type": "code",
   "execution_count": null,
   "id": "27e0cf43",
   "metadata": {},
   "outputs": [],
   "source": []
  },
  {
   "cell_type": "markdown",
   "id": "d77c44a2",
   "metadata": {},
   "source": [
    "#  Data Cleaning"
   ]
  },
  {
   "cell_type": "code",
   "execution_count": 43,
   "id": "fda61b57",
   "metadata": {},
   "outputs": [
    {
     "data": {
      "text/plain": [
       "Happiness Rank                  -0.992105\n",
       "Happiness Score                  1.000000\n",
       "Standard Error                  -0.177254\n",
       "Economy (GDP per Capita)         0.780966\n",
       "Family                           0.740605\n",
       "Health (Life Expectancy)         0.724200\n",
       "Freedom                          0.568211\n",
       "Trust (Government Corruption)    0.395199\n",
       "Generosity                       0.180319\n",
       "Dystopia Residual                0.530474\n",
       "Name: Happiness Score, dtype: float64"
      ]
     },
     "execution_count": 43,
     "metadata": {},
     "output_type": "execute_result"
    }
   ],
   "source": [
    "data.corr()[\"Happiness Score\"]"
   ]
  },
  {
   "cell_type": "markdown",
   "id": "a85deb6a",
   "metadata": {},
   "source": [
    "### dropping Happiness Rank    and Standard Error   as they have negative correlation with Happiness score "
   ]
  },
  {
   "cell_type": "code",
   "execution_count": 44,
   "id": "566a6977",
   "metadata": {},
   "outputs": [],
   "source": [
    "data_new = data.drop([\"Happiness Rank\",\"Standard Error\"] , axis = 1)"
   ]
  },
  {
   "cell_type": "code",
   "execution_count": 45,
   "id": "a918ebf9",
   "metadata": {},
   "outputs": [
    {
     "data": {
      "text/html": [
       "<div>\n",
       "<style scoped>\n",
       "    .dataframe tbody tr th:only-of-type {\n",
       "        vertical-align: middle;\n",
       "    }\n",
       "\n",
       "    .dataframe tbody tr th {\n",
       "        vertical-align: top;\n",
       "    }\n",
       "\n",
       "    .dataframe thead th {\n",
       "        text-align: right;\n",
       "    }\n",
       "</style>\n",
       "<table border=\"1\" class=\"dataframe\">\n",
       "  <thead>\n",
       "    <tr style=\"text-align: right;\">\n",
       "      <th></th>\n",
       "      <th>Happiness Score</th>\n",
       "      <th>Economy (GDP per Capita)</th>\n",
       "      <th>Family</th>\n",
       "      <th>Health (Life Expectancy)</th>\n",
       "      <th>Freedom</th>\n",
       "      <th>Trust (Government Corruption)</th>\n",
       "      <th>Generosity</th>\n",
       "      <th>Dystopia Residual</th>\n",
       "    </tr>\n",
       "  </thead>\n",
       "  <tbody>\n",
       "    <tr>\n",
       "      <th>0</th>\n",
       "      <td>7.587</td>\n",
       "      <td>1.39651</td>\n",
       "      <td>1.34951</td>\n",
       "      <td>0.94143</td>\n",
       "      <td>0.66557</td>\n",
       "      <td>0.41978</td>\n",
       "      <td>0.29678</td>\n",
       "      <td>2.51738</td>\n",
       "    </tr>\n",
       "    <tr>\n",
       "      <th>1</th>\n",
       "      <td>7.561</td>\n",
       "      <td>1.30232</td>\n",
       "      <td>1.40223</td>\n",
       "      <td>0.94784</td>\n",
       "      <td>0.62877</td>\n",
       "      <td>0.14145</td>\n",
       "      <td>0.43630</td>\n",
       "      <td>2.70201</td>\n",
       "    </tr>\n",
       "    <tr>\n",
       "      <th>2</th>\n",
       "      <td>7.527</td>\n",
       "      <td>1.32548</td>\n",
       "      <td>1.36058</td>\n",
       "      <td>0.87464</td>\n",
       "      <td>0.64938</td>\n",
       "      <td>0.48357</td>\n",
       "      <td>0.34139</td>\n",
       "      <td>2.49204</td>\n",
       "    </tr>\n",
       "    <tr>\n",
       "      <th>3</th>\n",
       "      <td>7.522</td>\n",
       "      <td>1.45900</td>\n",
       "      <td>1.33095</td>\n",
       "      <td>0.88521</td>\n",
       "      <td>0.66973</td>\n",
       "      <td>0.36503</td>\n",
       "      <td>0.34699</td>\n",
       "      <td>2.46531</td>\n",
       "    </tr>\n",
       "    <tr>\n",
       "      <th>4</th>\n",
       "      <td>7.427</td>\n",
       "      <td>1.32629</td>\n",
       "      <td>1.32261</td>\n",
       "      <td>0.90563</td>\n",
       "      <td>0.63297</td>\n",
       "      <td>0.32957</td>\n",
       "      <td>0.45811</td>\n",
       "      <td>2.45176</td>\n",
       "    </tr>\n",
       "    <tr>\n",
       "      <th>...</th>\n",
       "      <td>...</td>\n",
       "      <td>...</td>\n",
       "      <td>...</td>\n",
       "      <td>...</td>\n",
       "      <td>...</td>\n",
       "      <td>...</td>\n",
       "      <td>...</td>\n",
       "      <td>...</td>\n",
       "    </tr>\n",
       "    <tr>\n",
       "      <th>153</th>\n",
       "      <td>3.465</td>\n",
       "      <td>0.22208</td>\n",
       "      <td>0.77370</td>\n",
       "      <td>0.42864</td>\n",
       "      <td>0.59201</td>\n",
       "      <td>0.55191</td>\n",
       "      <td>0.22628</td>\n",
       "      <td>0.67042</td>\n",
       "    </tr>\n",
       "    <tr>\n",
       "      <th>154</th>\n",
       "      <td>3.340</td>\n",
       "      <td>0.28665</td>\n",
       "      <td>0.35386</td>\n",
       "      <td>0.31910</td>\n",
       "      <td>0.48450</td>\n",
       "      <td>0.08010</td>\n",
       "      <td>0.18260</td>\n",
       "      <td>1.63328</td>\n",
       "    </tr>\n",
       "    <tr>\n",
       "      <th>155</th>\n",
       "      <td>3.006</td>\n",
       "      <td>0.66320</td>\n",
       "      <td>0.47489</td>\n",
       "      <td>0.72193</td>\n",
       "      <td>0.15684</td>\n",
       "      <td>0.18906</td>\n",
       "      <td>0.47179</td>\n",
       "      <td>0.32858</td>\n",
       "    </tr>\n",
       "    <tr>\n",
       "      <th>156</th>\n",
       "      <td>2.905</td>\n",
       "      <td>0.01530</td>\n",
       "      <td>0.41587</td>\n",
       "      <td>0.22396</td>\n",
       "      <td>0.11850</td>\n",
       "      <td>0.10062</td>\n",
       "      <td>0.19727</td>\n",
       "      <td>1.83302</td>\n",
       "    </tr>\n",
       "    <tr>\n",
       "      <th>157</th>\n",
       "      <td>2.839</td>\n",
       "      <td>0.20868</td>\n",
       "      <td>0.13995</td>\n",
       "      <td>0.28443</td>\n",
       "      <td>0.36453</td>\n",
       "      <td>0.10731</td>\n",
       "      <td>0.16681</td>\n",
       "      <td>1.56726</td>\n",
       "    </tr>\n",
       "  </tbody>\n",
       "</table>\n",
       "<p>158 rows × 8 columns</p>\n",
       "</div>"
      ],
      "text/plain": [
       "     Happiness Score  Economy (GDP per Capita)   Family  \\\n",
       "0              7.587                   1.39651  1.34951   \n",
       "1              7.561                   1.30232  1.40223   \n",
       "2              7.527                   1.32548  1.36058   \n",
       "3              7.522                   1.45900  1.33095   \n",
       "4              7.427                   1.32629  1.32261   \n",
       "..               ...                       ...      ...   \n",
       "153            3.465                   0.22208  0.77370   \n",
       "154            3.340                   0.28665  0.35386   \n",
       "155            3.006                   0.66320  0.47489   \n",
       "156            2.905                   0.01530  0.41587   \n",
       "157            2.839                   0.20868  0.13995   \n",
       "\n",
       "     Health (Life Expectancy)  Freedom  Trust (Government Corruption)  \\\n",
       "0                     0.94143  0.66557                        0.41978   \n",
       "1                     0.94784  0.62877                        0.14145   \n",
       "2                     0.87464  0.64938                        0.48357   \n",
       "3                     0.88521  0.66973                        0.36503   \n",
       "4                     0.90563  0.63297                        0.32957   \n",
       "..                        ...      ...                            ...   \n",
       "153                   0.42864  0.59201                        0.55191   \n",
       "154                   0.31910  0.48450                        0.08010   \n",
       "155                   0.72193  0.15684                        0.18906   \n",
       "156                   0.22396  0.11850                        0.10062   \n",
       "157                   0.28443  0.36453                        0.10731   \n",
       "\n",
       "     Generosity  Dystopia Residual  \n",
       "0       0.29678            2.51738  \n",
       "1       0.43630            2.70201  \n",
       "2       0.34139            2.49204  \n",
       "3       0.34699            2.46531  \n",
       "4       0.45811            2.45176  \n",
       "..          ...                ...  \n",
       "153     0.22628            0.67042  \n",
       "154     0.18260            1.63328  \n",
       "155     0.47179            0.32858  \n",
       "156     0.19727            1.83302  \n",
       "157     0.16681            1.56726  \n",
       "\n",
       "[158 rows x 8 columns]"
      ]
     },
     "execution_count": 45,
     "metadata": {},
     "output_type": "execute_result"
    }
   ],
   "source": [
    "data_new"
   ]
  },
  {
   "cell_type": "code",
   "execution_count": 46,
   "id": "7e592cba",
   "metadata": {},
   "outputs": [
    {
     "data": {
      "text/plain": [
       "(158, 8)"
      ]
     },
     "execution_count": 46,
     "metadata": {},
     "output_type": "execute_result"
    }
   ],
   "source": [
    "data_new.shape"
   ]
  },
  {
   "cell_type": "markdown",
   "id": "93b10d79",
   "metadata": {},
   "source": [
    "#   Deleting  Outliers"
   ]
  },
  {
   "cell_type": "code",
   "execution_count": 47,
   "id": "10bf1d8a",
   "metadata": {},
   "outputs": [],
   "source": [
    "from scipy.stats import zscore"
   ]
  },
  {
   "cell_type": "code",
   "execution_count": 48,
   "id": "2a1b0faa",
   "metadata": {},
   "outputs": [],
   "source": [
    "import numpy as np\n"
   ]
  },
  {
   "cell_type": "code",
   "execution_count": 49,
   "id": "0867e039",
   "metadata": {},
   "outputs": [],
   "source": [
    "z = np.abs(zscore(data_new))"
   ]
  },
  {
   "cell_type": "code",
   "execution_count": 50,
   "id": "28371574",
   "metadata": {},
   "outputs": [
    {
     "data": {
      "text/plain": [
       "(158, 8)"
      ]
     },
     "execution_count": 50,
     "metadata": {},
     "output_type": "execute_result"
    }
   ],
   "source": [
    "z.shape"
   ]
  },
  {
   "cell_type": "code",
   "execution_count": 51,
   "id": "a82b641f",
   "metadata": {},
   "outputs": [
    {
     "name": "stdout",
     "output_type": "stream",
     "text": [
      "(array([ 27, 128, 147, 153, 155, 157], dtype=int64), array([5, 6, 2, 5, 7, 2], dtype=int64))\n"
     ]
    }
   ],
   "source": [
    "threshold = 3\n",
    "print(np.where(z>3))"
   ]
  },
  {
   "cell_type": "code",
   "execution_count": 52,
   "id": "1deb8d21",
   "metadata": {},
   "outputs": [
    {
     "data": {
      "text/plain": [
       "6"
      ]
     },
     "execution_count": 52,
     "metadata": {},
     "output_type": "execute_result"
    }
   ],
   "source": [
    "len(np.where(z>3)[0])"
   ]
  },
  {
   "cell_type": "code",
   "execution_count": 53,
   "id": "11700570",
   "metadata": {},
   "outputs": [
    {
     "data": {
      "text/plain": [
       "Happiness Score                  1.082256\n",
       "Economy (GDP per Capita)         2.101026\n",
       "Family                           0.322476\n",
       "Health (Life Expectancy)         0.678336\n",
       "Freedom                          1.409878\n",
       "Trust (Government Corruption)    3.164619\n",
       "Generosity                       0.700286\n",
       "Dystopia Residual                0.982677\n",
       "Name: 27, dtype: float64"
      ]
     },
     "execution_count": 53,
     "metadata": {},
     "output_type": "execute_result"
    }
   ],
   "source": [
    "z.iloc[27]"
   ]
  },
  {
   "cell_type": "code",
   "execution_count": 54,
   "id": "22dc3036",
   "metadata": {},
   "outputs": [
    {
     "data": {
      "text/plain": [
       "Happiness Score                  0.936352\n",
       "Economy (GDP per Capita)         1.431049\n",
       "Family                           1.038637\n",
       "Health (Life Expectancy)         0.600092\n",
       "Freedom                          0.076923\n",
       "Trust (Government Corruption)    0.392117\n",
       "Generosity                       4.423262\n",
       "Dystopia Residual                1.234021\n",
       "Name: 128, dtype: float64"
      ]
     },
     "execution_count": 54,
     "metadata": {},
     "output_type": "execute_result"
    }
   ],
   "source": [
    "z.iloc[128]"
   ]
  },
  {
   "cell_type": "code",
   "execution_count": 55,
   "id": "a63db310",
   "metadata": {},
   "outputs": [
    {
     "name": "stdout",
     "output_type": "stream",
     "text": [
      "old data shape  :  (158, 8)\n",
      "new data shape :  (152, 8)\n",
      "total dropped rows  :   6\n"
     ]
    }
   ],
   "source": [
    "df = data_new[(z<3).all(axis = 1)]\n",
    "print(\"old data shape  : \" , data_new.shape)\n",
    "print(\"new data shape : \", df.shape)\n",
    "print(\"total dropped rows  :  \" , data_new.shape[0] - df.shape[0])"
   ]
  },
  {
   "cell_type": "code",
   "execution_count": null,
   "id": "72c7dfec",
   "metadata": {},
   "outputs": [],
   "source": []
  },
  {
   "cell_type": "markdown",
   "id": "c7db4fa2",
   "metadata": {},
   "source": [
    "#  Data  Loss Percentage "
   ]
  },
  {
   "cell_type": "code",
   "execution_count": 56,
   "id": "41dab543",
   "metadata": {},
   "outputs": [],
   "source": [
    "data_loss = (158-152)/158*100"
   ]
  },
  {
   "cell_type": "code",
   "execution_count": 57,
   "id": "54986608",
   "metadata": {},
   "outputs": [
    {
     "name": "stdout",
     "output_type": "stream",
     "text": [
      "3.79746835443038 %\n"
     ]
    }
   ],
   "source": [
    "print(data_loss,\"%\")"
   ]
  },
  {
   "cell_type": "code",
   "execution_count": null,
   "id": "6a1ecb79",
   "metadata": {},
   "outputs": [],
   "source": []
  },
  {
   "cell_type": "markdown",
   "id": "6a4ed4d9",
   "metadata": {},
   "source": [
    "# separting X/input data and y/output  data "
   ]
  },
  {
   "cell_type": "code",
   "execution_count": 58,
   "id": "260330e4",
   "metadata": {},
   "outputs": [],
   "source": [
    "x = df.drop([\"Happiness Score\"] , axis = 1)"
   ]
  },
  {
   "cell_type": "code",
   "execution_count": 59,
   "id": "379c02fe",
   "metadata": {},
   "outputs": [
    {
     "data": {
      "text/html": [
       "<div>\n",
       "<style scoped>\n",
       "    .dataframe tbody tr th:only-of-type {\n",
       "        vertical-align: middle;\n",
       "    }\n",
       "\n",
       "    .dataframe tbody tr th {\n",
       "        vertical-align: top;\n",
       "    }\n",
       "\n",
       "    .dataframe thead th {\n",
       "        text-align: right;\n",
       "    }\n",
       "</style>\n",
       "<table border=\"1\" class=\"dataframe\">\n",
       "  <thead>\n",
       "    <tr style=\"text-align: right;\">\n",
       "      <th></th>\n",
       "      <th>Economy (GDP per Capita)</th>\n",
       "      <th>Family</th>\n",
       "      <th>Health (Life Expectancy)</th>\n",
       "      <th>Freedom</th>\n",
       "      <th>Trust (Government Corruption)</th>\n",
       "      <th>Generosity</th>\n",
       "      <th>Dystopia Residual</th>\n",
       "    </tr>\n",
       "  </thead>\n",
       "  <tbody>\n",
       "    <tr>\n",
       "      <th>0</th>\n",
       "      <td>1.39651</td>\n",
       "      <td>1.34951</td>\n",
       "      <td>0.94143</td>\n",
       "      <td>0.66557</td>\n",
       "      <td>0.41978</td>\n",
       "      <td>0.29678</td>\n",
       "      <td>2.51738</td>\n",
       "    </tr>\n",
       "    <tr>\n",
       "      <th>1</th>\n",
       "      <td>1.30232</td>\n",
       "      <td>1.40223</td>\n",
       "      <td>0.94784</td>\n",
       "      <td>0.62877</td>\n",
       "      <td>0.14145</td>\n",
       "      <td>0.43630</td>\n",
       "      <td>2.70201</td>\n",
       "    </tr>\n",
       "    <tr>\n",
       "      <th>2</th>\n",
       "      <td>1.32548</td>\n",
       "      <td>1.36058</td>\n",
       "      <td>0.87464</td>\n",
       "      <td>0.64938</td>\n",
       "      <td>0.48357</td>\n",
       "      <td>0.34139</td>\n",
       "      <td>2.49204</td>\n",
       "    </tr>\n",
       "    <tr>\n",
       "      <th>3</th>\n",
       "      <td>1.45900</td>\n",
       "      <td>1.33095</td>\n",
       "      <td>0.88521</td>\n",
       "      <td>0.66973</td>\n",
       "      <td>0.36503</td>\n",
       "      <td>0.34699</td>\n",
       "      <td>2.46531</td>\n",
       "    </tr>\n",
       "    <tr>\n",
       "      <th>4</th>\n",
       "      <td>1.32629</td>\n",
       "      <td>1.32261</td>\n",
       "      <td>0.90563</td>\n",
       "      <td>0.63297</td>\n",
       "      <td>0.32957</td>\n",
       "      <td>0.45811</td>\n",
       "      <td>2.45176</td>\n",
       "    </tr>\n",
       "    <tr>\n",
       "      <th>...</th>\n",
       "      <td>...</td>\n",
       "      <td>...</td>\n",
       "      <td>...</td>\n",
       "      <td>...</td>\n",
       "      <td>...</td>\n",
       "      <td>...</td>\n",
       "      <td>...</td>\n",
       "    </tr>\n",
       "    <tr>\n",
       "      <th>150</th>\n",
       "      <td>0.46534</td>\n",
       "      <td>0.77115</td>\n",
       "      <td>0.15185</td>\n",
       "      <td>0.46866</td>\n",
       "      <td>0.17922</td>\n",
       "      <td>0.20165</td>\n",
       "      <td>1.41723</td>\n",
       "    </tr>\n",
       "    <tr>\n",
       "      <th>151</th>\n",
       "      <td>0.25812</td>\n",
       "      <td>0.85188</td>\n",
       "      <td>0.27125</td>\n",
       "      <td>0.39493</td>\n",
       "      <td>0.12832</td>\n",
       "      <td>0.21747</td>\n",
       "      <td>1.46494</td>\n",
       "    </tr>\n",
       "    <tr>\n",
       "      <th>152</th>\n",
       "      <td>0.31982</td>\n",
       "      <td>0.30285</td>\n",
       "      <td>0.30335</td>\n",
       "      <td>0.23414</td>\n",
       "      <td>0.09719</td>\n",
       "      <td>0.36510</td>\n",
       "      <td>1.95210</td>\n",
       "    </tr>\n",
       "    <tr>\n",
       "      <th>154</th>\n",
       "      <td>0.28665</td>\n",
       "      <td>0.35386</td>\n",
       "      <td>0.31910</td>\n",
       "      <td>0.48450</td>\n",
       "      <td>0.08010</td>\n",
       "      <td>0.18260</td>\n",
       "      <td>1.63328</td>\n",
       "    </tr>\n",
       "    <tr>\n",
       "      <th>156</th>\n",
       "      <td>0.01530</td>\n",
       "      <td>0.41587</td>\n",
       "      <td>0.22396</td>\n",
       "      <td>0.11850</td>\n",
       "      <td>0.10062</td>\n",
       "      <td>0.19727</td>\n",
       "      <td>1.83302</td>\n",
       "    </tr>\n",
       "  </tbody>\n",
       "</table>\n",
       "<p>152 rows × 7 columns</p>\n",
       "</div>"
      ],
      "text/plain": [
       "     Economy (GDP per Capita)   Family  Health (Life Expectancy)  Freedom  \\\n",
       "0                     1.39651  1.34951                   0.94143  0.66557   \n",
       "1                     1.30232  1.40223                   0.94784  0.62877   \n",
       "2                     1.32548  1.36058                   0.87464  0.64938   \n",
       "3                     1.45900  1.33095                   0.88521  0.66973   \n",
       "4                     1.32629  1.32261                   0.90563  0.63297   \n",
       "..                        ...      ...                       ...      ...   \n",
       "150                   0.46534  0.77115                   0.15185  0.46866   \n",
       "151                   0.25812  0.85188                   0.27125  0.39493   \n",
       "152                   0.31982  0.30285                   0.30335  0.23414   \n",
       "154                   0.28665  0.35386                   0.31910  0.48450   \n",
       "156                   0.01530  0.41587                   0.22396  0.11850   \n",
       "\n",
       "     Trust (Government Corruption)  Generosity  Dystopia Residual  \n",
       "0                          0.41978     0.29678            2.51738  \n",
       "1                          0.14145     0.43630            2.70201  \n",
       "2                          0.48357     0.34139            2.49204  \n",
       "3                          0.36503     0.34699            2.46531  \n",
       "4                          0.32957     0.45811            2.45176  \n",
       "..                             ...         ...                ...  \n",
       "150                        0.17922     0.20165            1.41723  \n",
       "151                        0.12832     0.21747            1.46494  \n",
       "152                        0.09719     0.36510            1.95210  \n",
       "154                        0.08010     0.18260            1.63328  \n",
       "156                        0.10062     0.19727            1.83302  \n",
       "\n",
       "[152 rows x 7 columns]"
      ]
     },
     "execution_count": 59,
     "metadata": {},
     "output_type": "execute_result"
    }
   ],
   "source": [
    "x"
   ]
  },
  {
   "cell_type": "code",
   "execution_count": null,
   "id": "b670a021",
   "metadata": {},
   "outputs": [],
   "source": []
  },
  {
   "cell_type": "code",
   "execution_count": 60,
   "id": "2138da20",
   "metadata": {},
   "outputs": [],
   "source": [
    "y = df[\"Happiness Score\"]"
   ]
  },
  {
   "cell_type": "code",
   "execution_count": 61,
   "id": "99955e74",
   "metadata": {},
   "outputs": [
    {
     "data": {
      "text/plain": [
       "0      7.587\n",
       "1      7.561\n",
       "2      7.527\n",
       "3      7.522\n",
       "4      7.427\n",
       "       ...  \n",
       "150    3.655\n",
       "151    3.587\n",
       "152    3.575\n",
       "154    3.340\n",
       "156    2.905\n",
       "Name: Happiness Score, Length: 152, dtype: float64"
      ]
     },
     "execution_count": 61,
     "metadata": {},
     "output_type": "execute_result"
    }
   ],
   "source": [
    "y"
   ]
  },
  {
   "cell_type": "code",
   "execution_count": null,
   "id": "9db18434",
   "metadata": {},
   "outputs": [],
   "source": []
  },
  {
   "cell_type": "markdown",
   "id": "9112ddc9",
   "metadata": {},
   "source": []
  },
  {
   "cell_type": "markdown",
   "id": "a53d2717",
   "metadata": {},
   "source": [
    "# Transforming   Data  To  Clear  Skewness"
   ]
  },
  {
   "cell_type": "code",
   "execution_count": 63,
   "id": "a610ae3b",
   "metadata": {},
   "outputs": [],
   "source": [
    "from sklearn.preprocessing import  power_transform\n",
    "x =  power_transform(x,method = 'yeo-johnson')"
   ]
  },
  {
   "cell_type": "code",
   "execution_count": 445,
   "id": "a050dbc0",
   "metadata": {},
   "outputs": [
    {
     "data": {
      "text/plain": [
       "array([[ 1.49611068,  1.66761865,  1.48143363, ...,  1.8220699 ,\n",
       "         0.65595135,  0.74453432],\n",
       "       [ 1.19771756,  2.02101058,  1.52291872, ...,  0.35523024,\n",
       "         1.57166845,  1.10426166],\n",
       "       [ 1.27024568,  1.7401529 ,  1.06659878, ...,  1.95457489,\n",
       "         0.97742359,  0.69531125],\n",
       "       ...,\n",
       "       [-1.35114936, -2.09149024, -1.35026722, ..., -0.16357633,\n",
       "         1.13659521, -0.34441601],\n",
       "       [-1.4183337 , -2.01503265, -1.30696688, ..., -0.40394411,\n",
       "        -0.32359556, -0.94945138],\n",
       "       [-1.91827051, -1.91154624, -1.55177307, ..., -0.11827784,\n",
       "        -0.18319784, -0.57122297]])"
      ]
     },
     "execution_count": 445,
     "metadata": {},
     "output_type": "execute_result"
    }
   ],
   "source": []
  },
  {
   "cell_type": "code",
   "execution_count": 64,
   "id": "56cf4088",
   "metadata": {},
   "outputs": [
    {
     "data": {
      "text/plain": [
       "0   -0.144167\n",
       "1   -0.149268\n",
       "2   -0.184207\n",
       "3   -0.077878\n",
       "4    0.179115\n",
       "5    0.022444\n",
       "6    0.014422\n",
       "dtype: float64"
      ]
     },
     "execution_count": 64,
     "metadata": {},
     "output_type": "execute_result"
    }
   ],
   "source": [
    "pd.DataFrame(x).skew()"
   ]
  },
  {
   "cell_type": "code",
   "execution_count": 451,
   "id": "8469f959",
   "metadata": {},
   "outputs": [],
   "source": [
    "from sklearn.preprocessing import   StandardScaler\n",
    "sc = StandardScaler()"
   ]
  },
  {
   "cell_type": "code",
   "execution_count": 452,
   "id": "e9204ada",
   "metadata": {},
   "outputs": [],
   "source": [
    "\n",
    "x = sc.fit_transform(x) "
   ]
  },
  {
   "cell_type": "code",
   "execution_count": 457,
   "id": "e8742b3a",
   "metadata": {},
   "outputs": [
    {
     "data": {
      "text/plain": [
       "array([[ 1.49611068,  1.66761865,  1.48143363, ...,  1.8220699 ,\n",
       "         0.65595135,  0.74453432],\n",
       "       [ 1.19771756,  2.02101058,  1.52291872, ...,  0.35523024,\n",
       "         1.57166845,  1.10426166],\n",
       "       [ 1.27024568,  1.7401529 ,  1.06659878, ...,  1.95457489,\n",
       "         0.97742359,  0.69531125],\n",
       "       ...,\n",
       "       [-1.35114936, -2.09149024, -1.35026722, ..., -0.16357633,\n",
       "         1.13659521, -0.34441601],\n",
       "       [-1.4183337 , -2.01503265, -1.30696688, ..., -0.40394411,\n",
       "        -0.32359556, -0.94945138],\n",
       "       [-1.91827051, -1.91154624, -1.55177307, ..., -0.11827784,\n",
       "        -0.18319784, -0.57122297]])"
      ]
     },
     "execution_count": 457,
     "metadata": {},
     "output_type": "execute_result"
    }
   ],
   "source": [
    "x"
   ]
  },
  {
   "cell_type": "code",
   "execution_count": null,
   "id": "56649f0f",
   "metadata": {},
   "outputs": [],
   "source": []
  },
  {
   "cell_type": "markdown",
   "id": "3dac6bac",
   "metadata": {},
   "source": [
    "# Linear Regression"
   ]
  },
  {
   "cell_type": "code",
   "execution_count": 83,
   "id": "a55d907a",
   "metadata": {},
   "outputs": [],
   "source": [
    "from sklearn.linear_model import LinearRegression"
   ]
  },
  {
   "cell_type": "code",
   "execution_count": 84,
   "id": "8950b972",
   "metadata": {},
   "outputs": [],
   "source": [
    "from sklearn.model_selection import  train_test_split"
   ]
  },
  {
   "cell_type": "code",
   "execution_count": 85,
   "id": "172708a9",
   "metadata": {},
   "outputs": [],
   "source": [
    "from sklearn.metrics  import    mean_absolute_error,mean_squared_error"
   ]
  },
  {
   "cell_type": "code",
   "execution_count": 86,
   "id": "6cf6c80d",
   "metadata": {},
   "outputs": [],
   "source": [
    "from sklearn.metrics import r2_score"
   ]
  },
  {
   "cell_type": "code",
   "execution_count": 87,
   "id": "4909b074",
   "metadata": {},
   "outputs": [
    {
     "data": {
      "text/plain": [
       "LinearRegression()"
      ]
     },
     "execution_count": 87,
     "metadata": {},
     "output_type": "execute_result"
    }
   ],
   "source": [
    "ln = LinearRegression()\n",
    "ln"
   ]
  },
  {
   "cell_type": "markdown",
   "id": "d5fb77c3",
   "metadata": {},
   "source": [
    "### checking random state "
   ]
  },
  {
   "cell_type": "code",
   "execution_count": null,
   "id": "fa3dc883",
   "metadata": {},
   "outputs": [],
   "source": []
  },
  {
   "cell_type": "code",
   "execution_count": 89,
   "id": "4e38eb6a",
   "metadata": {},
   "outputs": [
    {
     "name": "stdout",
     "output_type": "stream",
     "text": [
      "at random state 0 model preforms best\n",
      "at random_state =   0\n",
      "training accuracy score is  99.42960118977413\n",
      " testing accuracy  score is  99.3833323777213 \n",
      "\n",
      "at random state 2 model preforms best\n",
      "at random_state =   2\n",
      "training accuracy score is  99.40485523372035\n",
      " testing accuracy  score is  99.42662583739342 \n",
      "\n",
      "at random state 4 model preforms best\n",
      "at random_state =   4\n",
      "training accuracy score is  99.39845815506561\n",
      " testing accuracy  score is  99.36872249509473 \n",
      "\n",
      "at random state 6 model preforms best\n",
      "at random_state =   6\n",
      "training accuracy score is  99.42646082474647\n",
      " testing accuracy  score is  99.40519219774745 \n",
      "\n",
      "at random state 15 model preforms best\n",
      "at random_state =   15\n",
      "training accuracy score is  99.41304824438188\n",
      " testing accuracy  score is  99.42567130333913 \n",
      "\n",
      "at random state 19 model preforms best\n",
      "at random_state =   19\n",
      "training accuracy score is  99.41937139114569\n",
      " testing accuracy  score is  99.3656955634416 \n",
      "\n",
      "at random state 20 model preforms best\n",
      "at random_state =   20\n",
      "training accuracy score is  99.4178723027901\n",
      " testing accuracy  score is  99.39113152670632 \n",
      "\n",
      "at random state 21 model preforms best\n",
      "at random_state =   21\n",
      "training accuracy score is  99.41913267822461\n",
      " testing accuracy  score is  99.35008530474806 \n",
      "\n",
      "at random state 24 model preforms best\n",
      "at random_state =   24\n",
      "training accuracy score is  99.417704944276\n",
      " testing accuracy  score is  99.39633019412676 \n",
      "\n",
      "at random state 25 model preforms best\n",
      "at random_state =   25\n",
      "training accuracy score is  99.41825707536863\n",
      " testing accuracy  score is  99.43359666044115 \n",
      "\n",
      "at random state 29 model preforms best\n",
      "at random_state =   29\n",
      "training accuracy score is  99.41604902711705\n",
      " testing accuracy  score is  99.3987251877458 \n",
      "\n",
      "at random state 35 model preforms best\n",
      "at random_state =   35\n",
      "training accuracy score is  99.41941493759124\n",
      " testing accuracy  score is  99.41805428234099 \n",
      "\n",
      "at random state 40 model preforms best\n",
      "at random_state =   40\n",
      "training accuracy score is  99.40637312021865\n",
      " testing accuracy  score is  99.43751810538849 \n",
      "\n",
      "at random state 43 model preforms best\n",
      "at random_state =   43\n",
      "training accuracy score is  99.41319122980957\n",
      " testing accuracy  score is  99.42956042235586 \n",
      "\n",
      "at random state 48 model preforms best\n",
      "at random_state =   48\n",
      "training accuracy score is  99.41307916669327\n",
      " testing accuracy  score is  99.4326676537081 \n",
      "\n",
      "at random state 53 model preforms best\n",
      "at random_state =   53\n",
      "training accuracy score is  99.43219929949512\n",
      " testing accuracy  score is  99.38715227578369 \n",
      "\n",
      "at random state 60 model preforms best\n",
      "at random_state =   60\n",
      "training accuracy score is  99.41873687327404\n",
      " testing accuracy  score is  99.40605860842308 \n",
      "\n",
      "at random state 66 model preforms best\n",
      "at random_state =   66\n",
      "training accuracy score is  99.43359068979396\n",
      " testing accuracy  score is  99.39120103390606 \n",
      "\n",
      "at random state 73 model preforms best\n",
      "at random_state =   73\n",
      "training accuracy score is  99.43281614127677\n",
      " testing accuracy  score is  99.36848828009074 \n",
      "\n",
      "at random state 77 model preforms best\n",
      "at random_state =   77\n",
      "training accuracy score is  99.42765593922978\n",
      " testing accuracy  score is  99.38956132169376 \n",
      "\n",
      "at random state 79 model preforms best\n",
      "at random_state =   79\n",
      "training accuracy score is  99.42235144048419\n",
      " testing accuracy  score is  99.43857026407467 \n",
      "\n",
      "at random state 84 model preforms best\n",
      "at random_state =   84\n",
      "training accuracy score is  99.42535555613838\n",
      " testing accuracy  score is  99.42580861284178 \n",
      "\n",
      "at random state 85 model preforms best\n",
      "at random_state =   85\n",
      "training accuracy score is  99.42417980297303\n",
      " testing accuracy  score is  99.38851074698299 \n",
      "\n",
      "at random state 91 model preforms best\n",
      "at random_state =   91\n",
      "training accuracy score is  99.41841938129289\n",
      " testing accuracy  score is  99.39850713467338 \n",
      "\n",
      "at random state 95 model preforms best\n",
      "at random_state =   95\n",
      "training accuracy score is  99.41878844708879\n",
      " testing accuracy  score is  99.4245221915696 \n",
      "\n",
      "at random state 96 model preforms best\n",
      "at random_state =   96\n",
      "training accuracy score is  99.41292453390528\n",
      " testing accuracy  score is  99.41522591155353 \n",
      "\n",
      "at random state 108 model preforms best\n",
      "at random_state =   108\n",
      "training accuracy score is  99.41638344498459\n",
      " testing accuracy  score is  99.36220821077994 \n",
      "\n",
      "at random state 119 model preforms best\n",
      "at random_state =   119\n",
      "training accuracy score is  99.43546049444414\n",
      " testing accuracy  score is  99.37210016253344 \n",
      "\n",
      "at random state 138 model preforms best\n",
      "at random_state =   138\n",
      "training accuracy score is  99.41668810948389\n",
      " testing accuracy  score is  99.36777375712873 \n",
      "\n",
      "at random state 143 model preforms best\n",
      "at random_state =   143\n",
      "training accuracy score is  99.41035703176645\n",
      " testing accuracy  score is  99.41873313784981 \n",
      "\n",
      "at random state 144 model preforms best\n",
      "at random_state =   144\n",
      "training accuracy score is  99.42787560569742\n",
      " testing accuracy  score is  99.37099916863966 \n",
      "\n",
      "at random state 149 model preforms best\n",
      "at random_state =   149\n",
      "training accuracy score is  99.41780975240745\n",
      " testing accuracy  score is  99.40987207143725 \n",
      "\n",
      "at random state 150 model preforms best\n",
      "at random_state =   150\n",
      "training accuracy score is  99.4190515691492\n",
      " testing accuracy  score is  99.44776395125456 \n",
      "\n",
      "at random state 153 model preforms best\n",
      "at random_state =   153\n",
      "training accuracy score is  99.43884269913039\n",
      " testing accuracy  score is  99.36220533054693 \n",
      "\n",
      "at random state 156 model preforms best\n",
      "at random_state =   156\n",
      "training accuracy score is  99.41711176155749\n",
      " testing accuracy  score is  99.44033394891825 \n",
      "\n",
      "at random state 157 model preforms best\n",
      "at random_state =   157\n",
      "training accuracy score is  99.43267567108266\n",
      " testing accuracy  score is  99.35329733295058 \n",
      "\n",
      "at random state 158 model preforms best\n",
      "at random_state =   158\n",
      "training accuracy score is  99.41610510462655\n",
      " testing accuracy  score is  99.44568306822225 \n",
      "\n",
      "at random state 160 model preforms best\n",
      "at random_state =   160\n",
      "training accuracy score is  99.40134147173646\n",
      " testing accuracy  score is  99.44747108165011 \n",
      "\n",
      "at random state 163 model preforms best\n",
      "at random_state =   163\n",
      "training accuracy score is  99.39567586673486\n",
      " testing accuracy  score is  99.43045955347728 \n",
      "\n",
      "at random state 165 model preforms best\n",
      "at random_state =   165\n",
      "training accuracy score is  99.42906160683665\n",
      " testing accuracy  score is  99.3521726258538 \n",
      "\n",
      "at random state 169 model preforms best\n",
      "at random_state =   169\n",
      "training accuracy score is  99.41878092830035\n",
      " testing accuracy  score is  99.413869104532 \n",
      "\n",
      "at random state 172 model preforms best\n",
      "at random_state =   172\n",
      "training accuracy score is  99.42844625247115\n",
      " testing accuracy  score is  99.38600035305308 \n",
      "\n",
      "at random state 177 model preforms best\n",
      "at random_state =   177\n",
      "training accuracy score is  99.42898335855205\n",
      " testing accuracy  score is  99.38275942659175 \n",
      "\n",
      "at random state 181 model preforms best\n",
      "at random_state =   181\n",
      "training accuracy score is  99.42937575043464\n",
      " testing accuracy  score is  99.38625174929257 \n",
      "\n",
      "at random state 185 model preforms best\n",
      "at random_state =   185\n",
      "training accuracy score is  99.43344095277202\n",
      " testing accuracy  score is  99.35866203637579 \n",
      "\n",
      "at random state 202 model preforms best\n",
      "at random_state =   202\n",
      "training accuracy score is  99.4349975642427\n",
      " testing accuracy  score is  99.3762272808992 \n",
      "\n",
      "at random state 208 model preforms best\n",
      "at random_state =   208\n",
      "training accuracy score is  99.40594277852766\n",
      " testing accuracy  score is  99.44851358501279 \n",
      "\n",
      "at random state 211 model preforms best\n",
      "at random_state =   211\n",
      "training accuracy score is  99.43207162132707\n",
      " testing accuracy  score is  99.3714102885188 \n",
      "\n",
      "at random state 213 model preforms best\n",
      "at random_state =   213\n",
      "training accuracy score is  99.41702291183927\n",
      " testing accuracy  score is  99.42000214077392 \n",
      "\n",
      "at random state 224 model preforms best\n",
      "at random_state =   224\n",
      "training accuracy score is  99.40237133207623\n",
      " testing accuracy  score is  99.38030558303161 \n",
      "\n",
      "at random state 227 model preforms best\n",
      "at random_state =   227\n",
      "training accuracy score is  99.41549055208868\n",
      " testing accuracy  score is  99.43678272256673 \n",
      "\n",
      "at random state 230 model preforms best\n",
      "at random_state =   230\n",
      "training accuracy score is  99.40807882435273\n",
      " testing accuracy  score is  99.44116084518045 \n",
      "\n",
      "at random state 238 model preforms best\n",
      "at random_state =   238\n",
      "training accuracy score is  99.41771715208915\n",
      " testing accuracy  score is  99.39999099866058 \n",
      "\n",
      "at random state 239 model preforms best\n",
      "at random_state =   239\n",
      "training accuracy score is  99.41682738433356\n",
      " testing accuracy  score is  99.43568037980933 \n",
      "\n",
      "at random state 243 model preforms best\n",
      "at random_state =   243\n",
      "training accuracy score is  99.41378728360701\n",
      " testing accuracy  score is  99.42387808716995 \n",
      "\n",
      "at random state 245 model preforms best\n",
      "at random_state =   245\n",
      "training accuracy score is  99.41383992315848\n",
      " testing accuracy  score is  99.43983257384522 \n",
      "\n",
      "at random state 246 model preforms best\n",
      "at random_state =   246\n",
      "training accuracy score is  99.43718608691461\n",
      " testing accuracy  score is  99.3508741246448 \n",
      "\n",
      "at random state 251 model preforms best\n",
      "at random_state =   251\n",
      "training accuracy score is  99.42334166617816\n",
      " testing accuracy  score is  99.4229933875751 \n",
      "\n",
      "at random state 259 model preforms best\n",
      "at random_state =   259\n",
      "training accuracy score is  99.4190905637114\n",
      " testing accuracy  score is  99.44553347844692 \n",
      "\n",
      "at random state 262 model preforms best\n",
      "at random_state =   262\n",
      "training accuracy score is  99.41052640005587\n",
      " testing accuracy  score is  99.43052310905162 \n",
      "\n",
      "at random state 279 model preforms best\n",
      "at random_state =   279\n",
      "training accuracy score is  99.41992880491091\n",
      " testing accuracy  score is  99.43420229226639 \n",
      "\n",
      "at random state 300 model preforms best\n",
      "at random_state =   300\n",
      "training accuracy score is  99.4336784018651\n",
      " testing accuracy  score is  99.38083849275841 \n",
      "\n",
      "at random state 301 model preforms best\n",
      "at random_state =   301\n",
      "training accuracy score is  99.41247665057644\n",
      " testing accuracy  score is  99.43705518099134 \n",
      "\n",
      "at random state 303 model preforms best\n",
      "at random_state =   303\n",
      "training accuracy score is  99.41867122667614\n",
      " testing accuracy  score is  99.38712882505453 \n",
      "\n",
      "at random state 307 model preforms best\n",
      "at random_state =   307\n",
      "training accuracy score is  99.39604923346818\n",
      " testing accuracy  score is  99.36622495224573 \n",
      "\n",
      "at random state 308 model preforms best\n",
      "at random_state =   308\n",
      "training accuracy score is  99.41768074862539\n",
      " testing accuracy  score is  99.4361372979118 \n",
      "\n",
      "at random state 312 model preforms best\n",
      "at random_state =   312\n",
      "training accuracy score is  99.41502022387795\n",
      " testing accuracy  score is  99.41676342164256 \n",
      "\n",
      "at random state 322 model preforms best\n",
      "at random_state =   322\n",
      "training accuracy score is  99.42653384424665\n",
      " testing accuracy  score is  99.38485926142477 \n",
      "\n"
     ]
    },
    {
     "name": "stdout",
     "output_type": "stream",
     "text": [
      "at random state 331 model preforms best\n",
      "at random_state =   331\n",
      "training accuracy score is  99.41297813800468\n",
      " testing accuracy  score is  99.44973769460712 \n",
      "\n",
      "at random state 335 model preforms best\n",
      "at random_state =   335\n",
      "training accuracy score is  99.43020480609822\n",
      " testing accuracy  score is  99.3543230032351 \n",
      "\n",
      "at random state 338 model preforms best\n",
      "at random_state =   338\n",
      "training accuracy score is  99.43334967018413\n",
      " testing accuracy  score is  99.37505040668417 \n",
      "\n",
      "at random state 342 model preforms best\n",
      "at random_state =   342\n",
      "training accuracy score is  99.43638639047619\n",
      " testing accuracy  score is  99.36016037716226 \n",
      "\n",
      "at random state 357 model preforms best\n",
      "at random_state =   357\n",
      "training accuracy score is  99.43412789673167\n",
      " testing accuracy  score is  99.36182202087895 \n",
      "\n",
      "at random state 360 model preforms best\n",
      "at random_state =   360\n",
      "training accuracy score is  99.4295417129199\n",
      " testing accuracy  score is  99.39177385895034 \n",
      "\n",
      "at random state 370 model preforms best\n",
      "at random_state =   370\n",
      "training accuracy score is  99.42994243484623\n",
      " testing accuracy  score is  99.35077586776498 \n",
      "\n",
      "at random state 372 model preforms best\n",
      "at random_state =   372\n",
      "training accuracy score is  99.42386432877323\n",
      " testing accuracy  score is  99.40675834730006 \n",
      "\n",
      "at random state 374 model preforms best\n",
      "at random_state =   374\n",
      "training accuracy score is  99.43865980012234\n",
      " testing accuracy  score is  99.37460643067192 \n",
      "\n",
      "at random state 384 model preforms best\n",
      "at random_state =   384\n",
      "training accuracy score is  99.42613597046062\n",
      " testing accuracy  score is  99.37040213553604 \n",
      "\n",
      "at random state 389 model preforms best\n",
      "at random_state =   389\n",
      "training accuracy score is  99.4246533247594\n",
      " testing accuracy  score is  99.36000077592414 \n",
      "\n",
      "at random state 393 model preforms best\n",
      "at random_state =   393\n",
      "training accuracy score is  99.42463397770815\n",
      " testing accuracy  score is  99.3927878475032 \n",
      "\n",
      "at random state 400 model preforms best\n",
      "at random_state =   400\n",
      "training accuracy score is  99.4172935352588\n",
      " testing accuracy  score is  99.44432501450132 \n",
      "\n",
      "at random state 407 model preforms best\n",
      "at random_state =   407\n",
      "training accuracy score is  99.4236935521851\n",
      " testing accuracy  score is  99.38037499286897 \n",
      "\n",
      "at random state 412 model preforms best\n",
      "at random_state =   412\n",
      "training accuracy score is  99.4081346209121\n",
      " testing accuracy  score is  99.44151570217743 \n",
      "\n",
      "at random state 424 model preforms best\n",
      "at random_state =   424\n",
      "training accuracy score is  99.43994053768814\n",
      " testing accuracy  score is  99.3609552184054 \n",
      "\n",
      "at random state 443 model preforms best\n",
      "at random_state =   443\n",
      "training accuracy score is  99.4269509916067\n",
      " testing accuracy  score is  99.35592918368246 \n",
      "\n",
      "at random state 450 model preforms best\n",
      "at random_state =   450\n",
      "training accuracy score is  99.43761003817801\n",
      " testing accuracy  score is  99.37458363469742 \n",
      "\n",
      "at random state 451 model preforms best\n",
      "at random_state =   451\n",
      "training accuracy score is  99.41252829569271\n",
      " testing accuracy  score is  99.40875865321395 \n",
      "\n",
      "at random state 456 model preforms best\n",
      "at random_state =   456\n",
      "training accuracy score is  99.4185215858685\n",
      " testing accuracy  score is  99.42948100092758 \n",
      "\n",
      "at random state 460 model preforms best\n",
      "at random_state =   460\n",
      "training accuracy score is  99.41893154274337\n",
      " testing accuracy  score is  99.41207795872195 \n",
      "\n",
      "at random state 463 model preforms best\n",
      "at random_state =   463\n",
      "training accuracy score is  99.41276951653364\n",
      " testing accuracy  score is  99.42378684942808 \n",
      "\n",
      "at random state 478 model preforms best\n",
      "at random_state =   478\n",
      "training accuracy score is  99.42293475103256\n",
      " testing accuracy  score is  99.43597696385783 \n",
      "\n",
      "at random state 479 model preforms best\n",
      "at random_state =   479\n",
      "training accuracy score is  99.41420770531668\n",
      " testing accuracy  score is  99.3800229007022 \n",
      "\n",
      "at random state 488 model preforms best\n",
      "at random_state =   488\n",
      "training accuracy score is  99.43578039419407\n",
      " testing accuracy  score is  99.35843137057151 \n",
      "\n",
      "at random state 489 model preforms best\n",
      "at random_state =   489\n",
      "training accuracy score is  99.4356762709684\n",
      " testing accuracy  score is  99.35558979146009 \n",
      "\n",
      "at random state 495 model preforms best\n",
      "at random_state =   495\n",
      "training accuracy score is  99.42195460877757\n",
      " testing accuracy  score is  99.3778788076558 \n",
      "\n",
      "at random state 498 model preforms best\n",
      "at random_state =   498\n",
      "training accuracy score is  99.42713402463977\n",
      " testing accuracy  score is  99.381965882881 \n",
      "\n",
      "at random state 508 model preforms best\n",
      "at random_state =   508\n",
      "training accuracy score is  99.43797460454734\n",
      " testing accuracy  score is  99.36090806870644 \n",
      "\n",
      "at random state 517 model preforms best\n",
      "at random_state =   517\n",
      "training accuracy score is  99.41863206569941\n",
      " testing accuracy  score is  99.40443434383552 \n",
      "\n",
      "at random state 521 model preforms best\n",
      "at random_state =   521\n",
      "training accuracy score is  99.40366867102497\n",
      " testing accuracy  score is  99.40134873372266 \n",
      "\n",
      "at random state 523 model preforms best\n",
      "at random_state =   523\n",
      "training accuracy score is  99.42216930507466\n",
      " testing accuracy  score is  99.38427801274518 \n",
      "\n",
      "at random state 526 model preforms best\n",
      "at random_state =   526\n",
      "training accuracy score is  99.39871769897543\n",
      " testing accuracy  score is  99.42686821302095 \n",
      "\n",
      "at random state 528 model preforms best\n",
      "at random_state =   528\n",
      "training accuracy score is  99.41812069591822\n",
      " testing accuracy  score is  99.43707558788385 \n",
      "\n",
      "at random state 530 model preforms best\n",
      "at random_state =   530\n",
      "training accuracy score is  99.43382542731099\n",
      " testing accuracy  score is  99.37464908541567 \n",
      "\n",
      "at random state 531 model preforms best\n",
      "at random_state =   531\n",
      "training accuracy score is  99.41912270625156\n",
      " testing accuracy  score is  99.4379933738968 \n",
      "\n",
      "at random state 535 model preforms best\n",
      "at random_state =   535\n",
      "training accuracy score is  99.43639887595572\n",
      " testing accuracy  score is  99.35267414977861 \n",
      "\n",
      "at random state 536 model preforms best\n",
      "at random_state =   536\n",
      "training accuracy score is  99.40432400022868\n",
      " testing accuracy  score is  99.3887148302172 \n",
      "\n",
      "at random state 549 model preforms best\n",
      "at random_state =   549\n",
      "training accuracy score is  99.41021784188955\n",
      " testing accuracy  score is  99.40631603716868 \n",
      "\n",
      "at random state 554 model preforms best\n",
      "at random_state =   554\n",
      "training accuracy score is  99.40159543653172\n",
      " testing accuracy  score is  99.4224138698458 \n",
      "\n",
      "at random state 564 model preforms best\n",
      "at random_state =   564\n",
      "training accuracy score is  99.4172752881841\n",
      " testing accuracy  score is  99.43778824851664 \n",
      "\n",
      "at random state 565 model preforms best\n",
      "at random_state =   565\n",
      "training accuracy score is  99.42489794197262\n",
      " testing accuracy  score is  99.42280473211915 \n",
      "\n",
      "at random state 574 model preforms best\n",
      "at random_state =   574\n",
      "training accuracy score is  99.44383992769555\n",
      " testing accuracy  score is  99.35464183780464 \n",
      "\n",
      "at random state 575 model preforms best\n",
      "at random_state =   575\n",
      "training accuracy score is  99.41882003141566\n",
      " testing accuracy  score is  99.3839811971144 \n",
      "\n",
      "at random state 576 model preforms best\n",
      "at random_state =   576\n",
      "training accuracy score is  99.43389185040573\n",
      " testing accuracy  score is  99.36367683222025 \n",
      "\n",
      "at random state 581 model preforms best\n",
      "at random_state =   581\n",
      "training accuracy score is  99.41871677377307\n",
      " testing accuracy  score is  99.36788440712891 \n",
      "\n",
      "at random state 584 model preforms best\n",
      "at random_state =   584\n",
      "training accuracy score is  99.41660056558297\n",
      " testing accuracy  score is  99.4275238249551 \n",
      "\n",
      "at random state 587 model preforms best\n",
      "at random_state =   587\n",
      "training accuracy score is  99.41499647801344\n",
      " testing accuracy  score is  99.42978820686933 \n",
      "\n",
      "at random state 591 model preforms best\n",
      "at random_state =   591\n",
      "training accuracy score is  99.43178223095818\n",
      " testing accuracy  score is  99.3532288532764 \n",
      "\n",
      "at random state 592 model preforms best\n",
      "at random_state =   592\n",
      "training accuracy score is  99.41731700841807\n",
      " testing accuracy  score is  99.42960800259632 \n",
      "\n",
      "at random state 593 model preforms best\n",
      "at random_state =   593\n",
      "training accuracy score is  99.41707061779262\n",
      " testing accuracy  score is  99.43126525567375 \n",
      "\n",
      "at random state 600 model preforms best\n",
      "at random_state =   600\n",
      "training accuracy score is  99.4252884279774\n",
      " testing accuracy  score is  99.41477387406145 \n",
      "\n",
      "at random state 601 model preforms best\n",
      "at random_state =   601\n",
      "training accuracy score is  99.4148296031023\n",
      " testing accuracy  score is  99.42156787195412 \n",
      "\n",
      "at random state 605 model preforms best\n",
      "at random_state =   605\n",
      "training accuracy score is  99.42324379918209\n",
      " testing accuracy  score is  99.3747328205353 \n",
      "\n",
      "at random state 609 model preforms best\n",
      "at random_state =   609\n",
      "training accuracy score is  99.41812827794921\n",
      " testing accuracy  score is  99.40223172291252 \n",
      "\n",
      "at random state 619 model preforms best\n",
      "at random_state =   619\n",
      "training accuracy score is  99.402926391612\n",
      " testing accuracy  score is  99.44411003149179 \n",
      "\n",
      "at random state 637 model preforms best\n",
      "at random_state =   637\n",
      "training accuracy score is  99.42234579354606\n",
      " testing accuracy  score is  99.42126666209822 \n",
      "\n",
      "at random state 641 model preforms best\n",
      "at random_state =   641\n",
      "training accuracy score is  99.41009487577544\n",
      " testing accuracy  score is  99.44281162341392 \n",
      "\n",
      "at random state 654 model preforms best\n",
      "at random_state =   654\n",
      "training accuracy score is  99.40402727036431\n",
      " testing accuracy  score is  99.4142512951181 \n",
      "\n"
     ]
    },
    {
     "name": "stdout",
     "output_type": "stream",
     "text": [
      "at random state 676 model preforms best\n",
      "at random_state =   676\n",
      "training accuracy score is  99.41443642834228\n",
      " testing accuracy  score is  99.40822432026185 \n",
      "\n",
      "at random state 680 model preforms best\n",
      "at random_state =   680\n",
      "training accuracy score is  99.41061669185032\n",
      " testing accuracy  score is  99.4209432628519 \n",
      "\n",
      "at random state 686 model preforms best\n",
      "at random_state =   686\n",
      "training accuracy score is  99.42331453170111\n",
      " testing accuracy  score is  99.40240709499896 \n",
      "\n",
      "at random state 689 model preforms best\n",
      "at random_state =   689\n",
      "training accuracy score is  99.42654215664719\n",
      " testing accuracy  score is  99.41059447462872 \n",
      "\n",
      "at random state 694 model preforms best\n",
      "at random_state =   694\n",
      "training accuracy score is  99.4150345409602\n",
      " testing accuracy  score is  99.42654374269081 \n",
      "\n",
      "at random state 702 model preforms best\n",
      "at random_state =   702\n",
      "training accuracy score is  99.41522344395835\n",
      " testing accuracy  score is  99.42225493563495 \n",
      "\n",
      "at random state 707 model preforms best\n",
      "at random_state =   707\n",
      "training accuracy score is  99.42356903999303\n",
      " testing accuracy  score is  99.4295681213125 \n",
      "\n",
      "at random state 723 model preforms best\n",
      "at random_state =   723\n",
      "training accuracy score is  99.42336188200368\n",
      " testing accuracy  score is  99.36115972117113 \n",
      "\n",
      "at random state 732 model preforms best\n",
      "at random_state =   732\n",
      "training accuracy score is  99.42285589275335\n",
      " testing accuracy  score is  99.36834696016487 \n",
      "\n",
      "at random state 750 model preforms best\n",
      "at random_state =   750\n",
      "training accuracy score is  99.41391643896152\n",
      " testing accuracy  score is  99.41289065567311 \n",
      "\n",
      "at random state 751 model preforms best\n",
      "at random_state =   751\n",
      "training accuracy score is  99.43296173349208\n",
      " testing accuracy  score is  99.35268391859785 \n",
      "\n",
      "at random state 756 model preforms best\n",
      "at random_state =   756\n",
      "training accuracy score is  99.41424408963155\n",
      " testing accuracy  score is  99.41691170582664 \n",
      "\n",
      "at random state 758 model preforms best\n",
      "at random_state =   758\n",
      "training accuracy score is  99.4403796859775\n",
      " testing accuracy  score is  99.35968359548257 \n",
      "\n",
      "at random state 759 model preforms best\n",
      "at random_state =   759\n",
      "training accuracy score is  99.41606825256524\n",
      " testing accuracy  score is  99.44214260849404 \n",
      "\n",
      "at random state 764 model preforms best\n",
      "at random_state =   764\n",
      "training accuracy score is  99.40120057394498\n",
      " testing accuracy  score is  99.38112703926063 \n",
      "\n",
      "at random state 766 model preforms best\n",
      "at random_state =   766\n",
      "training accuracy score is  99.41394119643783\n",
      " testing accuracy  score is  99.44762478535571 \n",
      "\n",
      "at random state 771 model preforms best\n",
      "at random_state =   771\n",
      "training accuracy score is  99.40937656073599\n",
      " testing accuracy  score is  99.42456933130201 \n",
      "\n",
      "at random state 772 model preforms best\n",
      "at random_state =   772\n",
      "training accuracy score is  99.42352859109074\n",
      " testing accuracy  score is  99.40859259890883 \n",
      "\n",
      "at random state 774 model preforms best\n",
      "at random_state =   774\n",
      "training accuracy score is  99.40873444001157\n",
      " testing accuracy  score is  99.38894095914756 \n",
      "\n",
      "at random state 785 model preforms best\n",
      "at random_state =   785\n",
      "training accuracy score is  99.41501625872789\n",
      " testing accuracy  score is  99.41409955662324 \n",
      "\n",
      "at random state 790 model preforms best\n",
      "at random_state =   790\n",
      "training accuracy score is  99.42370746062724\n",
      " testing accuracy  score is  99.39118832133647 \n",
      "\n",
      "at random state 799 model preforms best\n",
      "at random_state =   799\n",
      "training accuracy score is  99.41805422800401\n",
      " testing accuracy  score is  99.42754628946481 \n",
      "\n",
      "at random state 800 model preforms best\n",
      "at random_state =   800\n",
      "training accuracy score is  99.41596297868708\n",
      " testing accuracy  score is  99.41213219787728 \n",
      "\n",
      "at random state 802 model preforms best\n",
      "at random_state =   802\n",
      "training accuracy score is  99.41220598521458\n",
      " testing accuracy  score is  99.43479869137228 \n",
      "\n",
      "at random state 805 model preforms best\n",
      "at random_state =   805\n",
      "training accuracy score is  99.42489973364079\n",
      " testing accuracy  score is  99.3794162774289 \n",
      "\n",
      "at random state 812 model preforms best\n",
      "at random_state =   812\n",
      "training accuracy score is  99.419891626806\n",
      " testing accuracy  score is  99.37607897981655 \n",
      "\n",
      "at random state 823 model preforms best\n",
      "at random_state =   823\n",
      "training accuracy score is  99.42780733224154\n",
      " testing accuracy  score is  99.38767474612725 \n",
      "\n",
      "at random state 834 model preforms best\n",
      "at random_state =   834\n",
      "training accuracy score is  99.43071090488074\n",
      " testing accuracy  score is  99.38587592164144 \n",
      "\n",
      "at random state 837 model preforms best\n",
      "at random_state =   837\n",
      "training accuracy score is  99.43253259909608\n",
      " testing accuracy  score is  99.35761348508699 \n",
      "\n",
      "at random state 839 model preforms best\n",
      "at random_state =   839\n",
      "training accuracy score is  99.41320307048245\n",
      " testing accuracy  score is  99.43476811465939 \n",
      "\n",
      "at random state 847 model preforms best\n",
      "at random_state =   847\n",
      "training accuracy score is  99.44669479324948\n",
      " testing accuracy  score is  99.35762796295073 \n",
      "\n",
      "at random state 850 model preforms best\n",
      "at random_state =   850\n",
      "training accuracy score is  99.42969725465403\n",
      " testing accuracy  score is  99.36011968697397 \n",
      "\n",
      "at random state 852 model preforms best\n",
      "at random_state =   852\n",
      "training accuracy score is  99.41587899231807\n",
      " testing accuracy  score is  99.43937355479896 \n",
      "\n",
      "at random state 856 model preforms best\n",
      "at random_state =   856\n",
      "training accuracy score is  99.43001372180602\n",
      " testing accuracy  score is  99.37462567556582 \n",
      "\n",
      "at random state 864 model preforms best\n",
      "at random_state =   864\n",
      "training accuracy score is  99.41603860358613\n",
      " testing accuracy  score is  99.44096710548095 \n",
      "\n",
      "at random state 866 model preforms best\n",
      "at random_state =   866\n",
      "training accuracy score is  99.41417440070617\n",
      " testing accuracy  score is  99.4177679778704 \n",
      "\n",
      "at random state 876 model preforms best\n",
      "at random_state =   876\n",
      "training accuracy score is  99.42929037497365\n",
      " testing accuracy  score is  99.35187300879946 \n",
      "\n",
      "at random state 885 model preforms best\n",
      "at random_state =   885\n",
      "training accuracy score is  99.41934753745404\n",
      " testing accuracy  score is  99.41819898039604 \n",
      "\n",
      "at random state 892 model preforms best\n",
      "at random_state =   892\n",
      "training accuracy score is  99.42381999821936\n",
      " testing accuracy  score is  99.39222467863138 \n",
      "\n",
      "at random state 910 model preforms best\n",
      "at random_state =   910\n",
      "training accuracy score is  99.42776602970018\n",
      " testing accuracy  score is  99.40611810289454 \n",
      "\n",
      "at random state 911 model preforms best\n",
      "at random_state =   911\n",
      "training accuracy score is  99.42645503907087\n",
      " testing accuracy  score is  99.35879880922988 \n",
      "\n",
      "at random state 912 model preforms best\n",
      "at random_state =   912\n",
      "training accuracy score is  99.41783752165152\n",
      " testing accuracy  score is  99.43230391216159 \n",
      "\n",
      "at random state 915 model preforms best\n",
      "at random_state =   915\n",
      "training accuracy score is  99.41012891253057\n",
      " testing accuracy  score is  99.43194706874222 \n",
      "\n",
      "at random state 917 model preforms best\n",
      "at random_state =   917\n",
      "training accuracy score is  99.42164934809139\n",
      " testing accuracy  score is  99.39625736180471 \n",
      "\n",
      "at random state 919 model preforms best\n",
      "at random_state =   919\n",
      "training accuracy score is  99.42333922196602\n",
      " testing accuracy  score is  99.38191116789383 \n",
      "\n",
      "at random state 920 model preforms best\n",
      "at random_state =   920\n",
      "training accuracy score is  99.41637296199075\n",
      " testing accuracy  score is  99.41491044080398 \n",
      "\n",
      "at random state 922 model preforms best\n",
      "at random_state =   922\n",
      "training accuracy score is  99.42385037069236\n",
      " testing accuracy  score is  99.41517076083338 \n",
      "\n",
      "at random state 932 model preforms best\n",
      "at random_state =   932\n",
      "training accuracy score is  99.41765566470953\n",
      " testing accuracy  score is  99.40749331769211 \n",
      "\n",
      "at random state 938 model preforms best\n",
      "at random_state =   938\n",
      "training accuracy score is  99.42216500887578\n",
      " testing accuracy  score is  99.35409544932527 \n",
      "\n",
      "at random state 943 model preforms best\n",
      "at random_state =   943\n",
      "training accuracy score is  99.40776444316944\n",
      " testing accuracy  score is  99.3879671088907 \n",
      "\n",
      "at random state 945 model preforms best\n",
      "at random_state =   945\n",
      "training accuracy score is  99.40984572851572\n",
      " testing accuracy  score is  99.39944745624055 \n",
      "\n",
      "at random state 947 model preforms best\n",
      "at random_state =   947\n",
      "training accuracy score is  99.410603375986\n",
      " testing accuracy  score is  99.44697804626887 \n",
      "\n",
      "at random state 966 model preforms best\n",
      "at random_state =   966\n",
      "training accuracy score is  99.41164434748589\n",
      " testing accuracy  score is  99.38936415643198 \n",
      "\n",
      "at random state 970 model preforms best\n",
      "at random_state =   970\n",
      "training accuracy score is  99.42788751793977\n",
      " testing accuracy  score is  99.37528677690757 \n",
      "\n",
      "at random state 982 model preforms best\n",
      "at random_state =   982\n",
      "training accuracy score is  99.43588016668097\n",
      " testing accuracy  score is  99.3702674549657 \n",
      "\n",
      "at random state 984 model preforms best\n",
      "at random_state =   984\n",
      "training accuracy score is  99.40675161734788\n",
      " testing accuracy  score is  99.44921016363305 \n",
      "\n",
      "at random state 987 model preforms best\n",
      "at random_state =   987\n",
      "training accuracy score is  99.41592382585155\n",
      " testing accuracy  score is  99.38176538406415 \n",
      "\n"
     ]
    },
    {
     "name": "stdout",
     "output_type": "stream",
     "text": [
      "at random state 989 model preforms best\n",
      "at random_state =   989\n",
      "training accuracy score is  99.41758304329771\n",
      " testing accuracy  score is  99.40825824034984 \n",
      "\n",
      "at random state 994 model preforms best\n",
      "at random_state =   994\n",
      "training accuracy score is  99.42727128794037\n",
      " testing accuracy  score is  99.3991853467414 \n",
      "\n",
      "at random state 995 model preforms best\n",
      "at random_state =   995\n",
      "training accuracy score is  99.41419894608335\n",
      " testing accuracy  score is  99.43305878094795 \n",
      "\n",
      "at random state 997 model preforms best\n",
      "at random_state =   997\n",
      "training accuracy score is  99.4233269499248\n",
      " testing accuracy  score is  99.38000477156673 \n",
      "\n"
     ]
    }
   ],
   "source": [
    "for i in range (0,1000):\n",
    "    x_train,x_test,y_train,y_test = train_test_split( x , y , random_state = i , test_size = .20)\n",
    "    ln.fit(x_train,y_train)\n",
    "    pred_train = ln.predict(x_train)\n",
    "    pred_test = ln.predict(x_test)\n",
    "    if   round(r2_score(y_train, pred_train)*100,1) == round (r2_score(y_test, pred_test)*100,1):\n",
    "        print(\"at random state\",i,\"model preforms best\")\n",
    "        print(\"at random_state =  \" ,i)\n",
    "        print(\"training accuracy score is \" ,r2_score(y_train, pred_train)*100)\n",
    "        print(\" testing accuracy  score is \" , r2_score(y_test, pred_test)*100,\"\\n\")\n"
   ]
  },
  {
   "cell_type": "code",
   "execution_count": 71,
   "id": "bcd4012e",
   "metadata": {},
   "outputs": [],
   "source": [
    "x_train,x_test,y_train,y_test = train_test_split(x,y ,random_state = 301,test_size = .20)"
   ]
  },
  {
   "cell_type": "code",
   "execution_count": 72,
   "id": "d368f9f8",
   "metadata": {},
   "outputs": [
    {
     "name": "stdout",
     "output_type": "stream",
     "text": [
      "-2.2641630752931836\n"
     ]
    }
   ],
   "source": [
    "print(r2_score(y_test,pred_test))"
   ]
  },
  {
   "cell_type": "code",
   "execution_count": 73,
   "id": "b0e4127c",
   "metadata": {},
   "outputs": [
    {
     "name": "stdout",
     "output_type": "stream",
     "text": [
      "error :\n",
      "mean absolute error  1.5529750039907466\n",
      "mean squared error  3.4255420341886818\n",
      "Root mean squared error 1.85082198879003\n"
     ]
    }
   ],
   "source": [
    "print (\"error :\")\n",
    "print(\"mean absolute error \", mean_absolute_error(y_test,pred_test))\n",
    "print(\"mean squared error \", mean_squared_error(y_test,pred_test))\n",
    "print('Root mean squared error',np.sqrt(mean_squared_error(y_test,pred_test)))"
   ]
  },
  {
   "cell_type": "code",
   "execution_count": 74,
   "id": "ea95a026",
   "metadata": {
    "scrolled": true
   },
   "outputs": [
    {
     "data": {
      "text/plain": [
       "133    4.218\n",
       "48     5.960\n",
       "54     5.848\n",
       "85     5.124\n",
       "50     5.890\n",
       "124    4.419\n",
       "116    4.565\n",
       "16     6.946\n",
       "4      7.427\n",
       "125    4.369\n",
       "143    3.845\n",
       "79     5.212\n",
       "23     6.798\n",
       "58     5.813\n",
       "40     6.168\n",
       "2      7.527\n",
       "18     6.937\n",
       "89     5.073\n",
       "122    4.507\n",
       "82     5.192\n",
       "44     5.995\n",
       "70     5.477\n",
       "46     5.984\n",
       "13     7.187\n",
       "20     6.867\n",
       "97     4.885\n",
       "17     6.940\n",
       "131    4.271\n",
       "67     5.605\n",
       "91     5.013\n",
       "45     5.987\n",
       "Name: Happiness Score, dtype: float64"
      ]
     },
     "execution_count": 74,
     "metadata": {},
     "output_type": "execute_result"
    }
   ],
   "source": [
    "y_test"
   ]
  },
  {
   "cell_type": "code",
   "execution_count": 75,
   "id": "20ff857a",
   "metadata": {},
   "outputs": [
    {
     "data": {
      "text/plain": [
       "array([0.39162337, 0.2516023 , 0.25476043, 0.15027277, 0.07496374,\n",
       "       0.10043802, 0.50965559])"
      ]
     },
     "execution_count": 75,
     "metadata": {},
     "output_type": "execute_result"
    }
   ],
   "source": [
    "ln.coef_"
   ]
  },
  {
   "cell_type": "code",
   "execution_count": 82,
   "id": "600232d4",
   "metadata": {},
   "outputs": [
    {
     "data": {
      "text/plain": [
       "0.9940786569544122"
      ]
     },
     "execution_count": 82,
     "metadata": {},
     "output_type": "execute_result"
    }
   ],
   "source": [
    "ln.score(x_train,y_train)"
   ]
  },
  {
   "cell_type": "code",
   "execution_count": null,
   "id": "7b268ad2",
   "metadata": {},
   "outputs": [],
   "source": []
  },
  {
   "cell_type": "code",
   "execution_count": 90,
   "id": "e9768a50",
   "metadata": {},
   "outputs": [],
   "source": [
    "pred_ln = ln.predict(x_test)"
   ]
  },
  {
   "cell_type": "code",
   "execution_count": 92,
   "id": "17b33ba3",
   "metadata": {},
   "outputs": [],
   "source": [
    "from sklearn.model_selection import cross_val_score"
   ]
  },
  {
   "cell_type": "code",
   "execution_count": 93,
   "id": "298091f2",
   "metadata": {},
   "outputs": [],
   "source": [
    "lss = r2_score(y_test,pred_ln)"
   ]
  },
  {
   "cell_type": "code",
   "execution_count": 94,
   "id": "37291df2",
   "metadata": {},
   "outputs": [
    {
     "data": {
      "text/plain": [
       "0.9968670906701949"
      ]
     },
     "execution_count": 94,
     "metadata": {},
     "output_type": "execute_result"
    }
   ],
   "source": [
    "lss"
   ]
  },
  {
   "cell_type": "code",
   "execution_count": 100,
   "id": "b834fd99",
   "metadata": {
    "scrolled": true
   },
   "outputs": [
    {
     "name": "stdout",
     "output_type": "stream",
     "text": [
      "at cv : 2\n",
      "cross validation score is : 82.73874754937609\n",
      " score =  99.68670906701948\n",
      "\n",
      "\n",
      "at cv : 3\n",
      "cross validation score is : 89.54106852740375\n",
      " score =  99.68670906701948\n",
      "\n",
      "\n",
      "at cv : 4\n",
      "cross validation score is : 83.01795008999021\n",
      " score =  99.68670906701948\n",
      "\n",
      "\n",
      "at cv : 5\n",
      "cross validation score is : 80.46524369106318\n",
      " score =  99.68670906701948\n",
      "\n",
      "\n",
      "at cv : 6\n",
      "cross validation score is : 73.08421845362086\n",
      " score =  99.68670906701948\n",
      "\n",
      "\n",
      "at cv : 7\n",
      "cross validation score is : 59.772395680013176\n",
      " score =  99.68670906701948\n",
      "\n",
      "\n",
      "at cv : 8\n",
      "cross validation score is : 54.103407266531136\n",
      " score =  99.68670906701948\n",
      "\n",
      "\n",
      "at cv : 9\n",
      "cross validation score is : 50.28894401906413\n",
      " score =  99.68670906701948\n",
      "\n",
      "\n"
     ]
    }
   ],
   "source": [
    "for j in range(2,10):\n",
    "    ls_score = cross_val_score(ln,x,y,cv = j)\n",
    "    lsc =  ls_score.mean()\n",
    "    print(\"at cv :\" , j)\n",
    "    print(\"cross validation score is :\" , lsc*100)\n",
    "    print(\" score = \", lss *100)\n",
    "    print(\"\\n\")"
   ]
  },
  {
   "cell_type": "code",
   "execution_count": 105,
   "id": "afd33e35",
   "metadata": {},
   "outputs": [
    {
     "data": {
      "text/plain": [
       "31"
      ]
     },
     "execution_count": 105,
     "metadata": {},
     "output_type": "execute_result"
    }
   ],
   "source": [
    "len(y_test)"
   ]
  },
  {
   "cell_type": "code",
   "execution_count": 106,
   "id": "56184ec7",
   "metadata": {},
   "outputs": [
    {
     "data": {
      "text/plain": [
       "31"
      ]
     },
     "execution_count": 106,
     "metadata": {},
     "output_type": "execute_result"
    }
   ],
   "source": [
    "len(pred_test)"
   ]
  },
  {
   "cell_type": "code",
   "execution_count": 107,
   "id": "549c8dd5",
   "metadata": {},
   "outputs": [],
   "source": [
    "data_1 = pd.DataFrame({})"
   ]
  },
  {
   "cell_type": "code",
   "execution_count": 108,
   "id": "7233bf8d",
   "metadata": {},
   "outputs": [],
   "source": [
    "data_1[\"original value\"] = y_test"
   ]
  },
  {
   "cell_type": "code",
   "execution_count": 109,
   "id": "c48bfd90",
   "metadata": {},
   "outputs": [],
   "source": [
    "data_1[\"predicted\"] = pred_test"
   ]
  },
  {
   "cell_type": "code",
   "execution_count": 111,
   "id": "f9073d4a",
   "metadata": {},
   "outputs": [
    {
     "data": {
      "text/html": [
       "<div>\n",
       "<style scoped>\n",
       "    .dataframe tbody tr th:only-of-type {\n",
       "        vertical-align: middle;\n",
       "    }\n",
       "\n",
       "    .dataframe tbody tr th {\n",
       "        vertical-align: top;\n",
       "    }\n",
       "\n",
       "    .dataframe thead th {\n",
       "        text-align: right;\n",
       "    }\n",
       "</style>\n",
       "<table border=\"1\" class=\"dataframe\">\n",
       "  <thead>\n",
       "    <tr style=\"text-align: right;\">\n",
       "      <th></th>\n",
       "      <th>original value</th>\n",
       "      <th>predicted</th>\n",
       "    </tr>\n",
       "  </thead>\n",
       "  <tbody>\n",
       "    <tr>\n",
       "      <th>62</th>\n",
       "      <td>5.754</td>\n",
       "      <td>5.728055</td>\n",
       "    </tr>\n",
       "    <tr>\n",
       "      <th>65</th>\n",
       "      <td>5.695</td>\n",
       "      <td>5.769371</td>\n",
       "    </tr>\n",
       "    <tr>\n",
       "      <th>80</th>\n",
       "      <td>5.194</td>\n",
       "      <td>5.272918</td>\n",
       "    </tr>\n",
       "    <tr>\n",
       "      <th>41</th>\n",
       "      <td>6.130</td>\n",
       "      <td>6.038562</td>\n",
       "    </tr>\n",
       "    <tr>\n",
       "      <th>37</th>\n",
       "      <td>6.298</td>\n",
       "      <td>6.344843</td>\n",
       "    </tr>\n",
       "    <tr>\n",
       "      <th>0</th>\n",
       "      <td>7.587</td>\n",
       "      <td>7.664751</td>\n",
       "    </tr>\n",
       "    <tr>\n",
       "      <th>45</th>\n",
       "      <td>5.987</td>\n",
       "      <td>6.168394</td>\n",
       "    </tr>\n",
       "    <tr>\n",
       "      <th>84</th>\n",
       "      <td>5.129</td>\n",
       "      <td>5.087515</td>\n",
       "    </tr>\n",
       "    <tr>\n",
       "      <th>105</th>\n",
       "      <td>4.786</td>\n",
       "      <td>4.719333</td>\n",
       "    </tr>\n",
       "    <tr>\n",
       "      <th>17</th>\n",
       "      <td>6.940</td>\n",
       "      <td>7.026411</td>\n",
       "    </tr>\n",
       "    <tr>\n",
       "      <th>26</th>\n",
       "      <td>6.670</td>\n",
       "      <td>6.662228</td>\n",
       "    </tr>\n",
       "    <tr>\n",
       "      <th>148</th>\n",
       "      <td>3.667</td>\n",
       "      <td>3.743895</td>\n",
       "    </tr>\n",
       "    <tr>\n",
       "      <th>29</th>\n",
       "      <td>6.574</td>\n",
       "      <td>6.597310</td>\n",
       "    </tr>\n",
       "    <tr>\n",
       "      <th>129</th>\n",
       "      <td>4.297</td>\n",
       "      <td>4.254479</td>\n",
       "    </tr>\n",
       "    <tr>\n",
       "      <th>61</th>\n",
       "      <td>5.759</td>\n",
       "      <td>5.707186</td>\n",
       "    </tr>\n",
       "    <tr>\n",
       "      <th>135</th>\n",
       "      <td>4.077</td>\n",
       "      <td>4.044254</td>\n",
       "    </tr>\n",
       "    <tr>\n",
       "      <th>94</th>\n",
       "      <td>4.959</td>\n",
       "      <td>4.934765</td>\n",
       "    </tr>\n",
       "    <tr>\n",
       "      <th>113</th>\n",
       "      <td>4.633</td>\n",
       "      <td>4.587907</td>\n",
       "    </tr>\n",
       "    <tr>\n",
       "      <th>146</th>\n",
       "      <td>3.681</td>\n",
       "      <td>3.733339</td>\n",
       "    </tr>\n",
       "    <tr>\n",
       "      <th>18</th>\n",
       "      <td>6.937</td>\n",
       "      <td>7.058483</td>\n",
       "    </tr>\n",
       "    <tr>\n",
       "      <th>30</th>\n",
       "      <td>6.505</td>\n",
       "      <td>6.535497</td>\n",
       "    </tr>\n",
       "    <tr>\n",
       "      <th>7</th>\n",
       "      <td>7.364</td>\n",
       "      <td>7.336659</td>\n",
       "    </tr>\n",
       "    <tr>\n",
       "      <th>20</th>\n",
       "      <td>6.867</td>\n",
       "      <td>6.838780</td>\n",
       "    </tr>\n",
       "    <tr>\n",
       "      <th>150</th>\n",
       "      <td>3.655</td>\n",
       "      <td>3.704129</td>\n",
       "    </tr>\n",
       "    <tr>\n",
       "      <th>122</th>\n",
       "      <td>4.507</td>\n",
       "      <td>4.626353</td>\n",
       "    </tr>\n",
       "    <tr>\n",
       "      <th>46</th>\n",
       "      <td>5.984</td>\n",
       "      <td>6.073778</td>\n",
       "    </tr>\n",
       "    <tr>\n",
       "      <th>141</th>\n",
       "      <td>3.904</td>\n",
       "      <td>3.874890</td>\n",
       "    </tr>\n",
       "    <tr>\n",
       "      <th>139</th>\n",
       "      <td>3.956</td>\n",
       "      <td>3.953430</td>\n",
       "    </tr>\n",
       "    <tr>\n",
       "      <th>133</th>\n",
       "      <td>4.218</td>\n",
       "      <td>4.217557</td>\n",
       "    </tr>\n",
       "    <tr>\n",
       "      <th>121</th>\n",
       "      <td>4.512</td>\n",
       "      <td>4.548603</td>\n",
       "    </tr>\n",
       "    <tr>\n",
       "      <th>136</th>\n",
       "      <td>4.033</td>\n",
       "      <td>4.079980</td>\n",
       "    </tr>\n",
       "  </tbody>\n",
       "</table>\n",
       "</div>"
      ],
      "text/plain": [
       "     original value  predicted\n",
       "62            5.754   5.728055\n",
       "65            5.695   5.769371\n",
       "80            5.194   5.272918\n",
       "41            6.130   6.038562\n",
       "37            6.298   6.344843\n",
       "0             7.587   7.664751\n",
       "45            5.987   6.168394\n",
       "84            5.129   5.087515\n",
       "105           4.786   4.719333\n",
       "17            6.940   7.026411\n",
       "26            6.670   6.662228\n",
       "148           3.667   3.743895\n",
       "29            6.574   6.597310\n",
       "129           4.297   4.254479\n",
       "61            5.759   5.707186\n",
       "135           4.077   4.044254\n",
       "94            4.959   4.934765\n",
       "113           4.633   4.587907\n",
       "146           3.681   3.733339\n",
       "18            6.937   7.058483\n",
       "30            6.505   6.535497\n",
       "7             7.364   7.336659\n",
       "20            6.867   6.838780\n",
       "150           3.655   3.704129\n",
       "122           4.507   4.626353\n",
       "46            5.984   6.073778\n",
       "141           3.904   3.874890\n",
       "139           3.956   3.953430\n",
       "133           4.218   4.217557\n",
       "121           4.512   4.548603\n",
       "136           4.033   4.079980"
      ]
     },
     "execution_count": 111,
     "metadata": {},
     "output_type": "execute_result"
    }
   ],
   "source": [
    "data_1"
   ]
  },
  {
   "cell_type": "code",
   "execution_count": null,
   "id": "f6b143ce",
   "metadata": {},
   "outputs": [],
   "source": []
  }
 ],
 "metadata": {
  "kernelspec": {
   "display_name": "Python 3 (ipykernel)",
   "language": "python",
   "name": "python3"
  },
  "language_info": {
   "codemirror_mode": {
    "name": "ipython",
    "version": 3
   },
   "file_extension": ".py",
   "mimetype": "text/x-python",
   "name": "python",
   "nbconvert_exporter": "python",
   "pygments_lexer": "ipython3",
   "version": "3.9.7"
  }
 },
 "nbformat": 4,
 "nbformat_minor": 5
}
